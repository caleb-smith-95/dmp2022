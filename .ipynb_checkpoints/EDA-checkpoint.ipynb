{
 "cells": [
  {
   "cell_type": "code",
   "execution_count": 33,
   "id": "43a9a396",
   "metadata": {},
   "outputs": [],
   "source": [
    "import pandas as pd"
   ]
  },
  {
   "cell_type": "code",
   "execution_count": 36,
   "id": "ac4e9873",
   "metadata": {},
   "outputs": [],
   "source": [
    "season_passing = pd.DataFrame()\n",
    "comb_passing = pd.DataFrame()"
   ]
  },
  {
   "cell_type": "code",
   "execution_count": 39,
   "id": "c0f43188",
   "metadata": {},
   "outputs": [],
   "source": [
    "for year in range(1978, 2022, 1):\n",
    "    path = f'C:/Users/caleb/OneDrive/Documents/Spring 2022 Classes/Directed Masters Project/Clean Data/Passing/{year} Passing.xlsx'\n",
    "    season_passing = pd.read_excel(path, engine = 'openpyxl')\n",
    "    season_passing['Year'] = year\n",
    "    comb_passing = pd.concat([comb_passing, season_passing], ignore_index = True)"
   ]
  },
  {
   "cell_type": "code",
   "execution_count": 8,
   "id": "7b2fe3e2",
   "metadata": {},
   "outputs": [],
   "source": [
    "passing00 = pd.read_excel('C:/Users/caleb/OneDrive/Documents/Spring 2022 Classes/Directed Masters Project/Clean Data/Passing/2000 Passing.xlsx', engine = 'openpyxl')\n",
    "passing01 = pd.read_excel('C:/Users/caleb/OneDrive/Documents/Spring 2022 Classes/Directed Masters Project/Clean Data/Passing/2001 Passing.xlsx', engine = 'openpyxl')\n",
    "passing02 = pd.read_excel('C:/Users/caleb/OneDrive/Documents/Spring 2022 Classes/Directed Masters Project/Clean Data/Passing/2002 Passing.xlsx', engine = 'openpyxl')\n",
    "passing03 = pd.read_excel('C:/Users/caleb/OneDrive/Documents/Spring 2022 Classes/Directed Masters Project/Clean Data/Passing/2003 Passing.xlsx', engine = 'openpyxl')\n",
    "passing04 = pd.read_excel('C:/Users/caleb/OneDrive/Documents/Spring 2022 Classes/Directed Masters Project/Clean Data/Passing/2004 Passing.xlsx', engine = 'openpyxl')\n",
    "passing05 = pd.read_excel('C:/Users/caleb/OneDrive/Documents/Spring 2022 Classes/Directed Masters Project/Clean Data/Passing/2005 Passing.xlsx', engine = 'openpyxl')\n",
    "passing06 = pd.read_excel('C:/Users/caleb/OneDrive/Documents/Spring 2022 Classes/Directed Masters Project/Clean Data/Passing/2006 Passing.xlsx', engine = 'openpyxl')\n",
    "passing07 = pd.read_excel('C:/Users/caleb/OneDrive/Documents/Spring 2022 Classes/Directed Masters Project/Clean Data/Passing/2007 Passing.xlsx', engine = 'openpyxl')\n",
    "passing08 = pd.read_excel('C:/Users/caleb/OneDrive/Documents/Spring 2022 Classes/Directed Masters Project/Clean Data/Passing/2008 Passing.xlsx', engine = 'openpyxl')\n",
    "passing09 = pd.read_excel('C:/Users/caleb/OneDrive/Documents/Spring 2022 Classes/Directed Masters Project/Clean Data/Passing/2009 Passing.xlsx', engine = 'openpyxl')\n",
    "passing10 = pd.read_excel('C:/Users/caleb/OneDrive/Documents/Spring 2022 Classes/Directed Masters Project/Clean Data/Passing/2010 Passing.xlsx', engine = 'openpyxl')\n",
    "passing11 = pd.read_excel('C:/Users/caleb/OneDrive/Documents/Spring 2022 Classes/Directed Masters Project/Clean Data/Passing/2011 Passing.xlsx', engine = 'openpyxl')\n",
    "passing12 = pd.read_excel('C:/Users/caleb/OneDrive/Documents/Spring 2022 Classes/Directed Masters Project/Clean Data/Passing/2012 Passing.xlsx', engine = 'openpyxl')\n",
    "passing13 = pd.read_excel('C:/Users/caleb/OneDrive/Documents/Spring 2022 Classes/Directed Masters Project/Clean Data/Passing/2013 Passing.xlsx', engine = 'openpyxl')\n",
    "passing14 = pd.read_excel('C:/Users/caleb/OneDrive/Documents/Spring 2022 Classes/Directed Masters Project/Clean Data/Passing/2014 Passing.xlsx', engine = 'openpyxl')\n",
    "passing15 = pd.read_excel('C:/Users/caleb/OneDrive/Documents/Spring 2022 Classes/Directed Masters Project/Clean Data/Passing/2015 Passing.xlsx', engine = 'openpyxl')\n",
    "passing16 = pd.read_excel('C:/Users/caleb/OneDrive/Documents/Spring 2022 Classes/Directed Masters Project/Clean Data/Passing/2016 Passing.xlsx', engine = 'openpyxl')\n",
    "passing17 = pd.read_excel('C:/Users/caleb/OneDrive/Documents/Spring 2022 Classes/Directed Masters Project/Clean Data/Passing/2017 Passing.xlsx', engine = 'openpyxl')\n",
    "passing18 = pd.read_excel('C:/Users/caleb/OneDrive/Documents/Spring 2022 Classes/Directed Masters Project/Clean Data/Passing/2018 Passing.xlsx', engine = 'openpyxl')\n",
    "passing19 = pd.read_excel('C:/Users/caleb/OneDrive/Documents/Spring 2022 Classes/Directed Masters Project/Clean Data/Passing/2019 Passing.xlsx', engine = 'openpyxl')\n",
    "passing20 = pd.read_excel('C:/Users/caleb/OneDrive/Documents/Spring 2022 Classes/Directed Masters Project/Clean Data/Passing/2020 Passing.xlsx', engine = 'openpyxl')\n",
    "passing21 = pd.read_excel('C:/Users/caleb/OneDrive/Documents/Spring 2022 Classes/Directed Masters Project/Clean Data/Passing/2021 Passing.xlsx', engine = 'openpyxl')\n"
   ]
  },
  {
   "cell_type": "code",
   "execution_count": 9,
   "id": "49961f40",
   "metadata": {},
   "outputs": [],
   "source": [
    "passing00['Year'] = 2000\n",
    "passing01['Year'] = 2001\n",
    "passing02['Year'] = 2002\n",
    "passing03['Year'] = 2003\n",
    "passing04['Year'] = 2004\n",
    "passing05['Year'] = 2005\n",
    "passing06['Year'] = 2006\n",
    "passing07['Year'] = 2007\n",
    "passing08['Year'] = 2008\n",
    "passing09['Year'] = 2009\n",
    "passing10['Year'] = 2010\n",
    "passing11['Year'] = 2011\n",
    "passing12['Year'] = 2012\n",
    "passing13['Year'] = 2013\n",
    "passing14['Year'] = 2014\n",
    "passing15['Year'] = 2015\n",
    "passing16['Year'] = 2016\n",
    "passing17['Year'] = 2017\n",
    "passing18['Year'] = 2018\n",
    "passing19['Year'] = 2019\n",
    "passing20['Year'] = 2020\n",
    "passing21['Year'] = 2021"
   ]
  },
  {
   "cell_type": "code",
   "execution_count": 10,
   "id": "5f6e0811",
   "metadata": {},
   "outputs": [],
   "source": [
    "comb_passing = pd.concat([passing00, passing01, passing02, passing03, passing04, passing05, passing06, passing07, passing08, \n",
    "                          passing09, passing10, passing11, passing12, passing13, passing14, passing15, passing16, passing17, \n",
    "                          passing18, passing19, passing20, passing21], \n",
    "                         ignore_index=True)"
   ]
  },
  {
   "cell_type": "code",
   "execution_count": 27,
   "id": "6f619147",
   "metadata": {},
   "outputs": [],
   "source": [
    "comb_passing['Name'] = comb_passing['Player'].str.replace(r'[*+]', '', regex = True)"
   ]
  },
  {
   "cell_type": "code",
   "execution_count": 28,
   "id": "4cf20912",
   "metadata": {},
   "outputs": [],
   "source": [
    "comb_passing_clean = comb_passing.reindex(columns=['Name', 'Year', 'Age', 'Tm', 'G', 'GS', 'Cmp', 'Att', 'Cmp%', 'Yds', \n",
    "                                                   'TD', 'Int', 'Y/A', 'Y/C', 'Rate']).copy()"
   ]
  },
  {
   "cell_type": "code",
   "execution_count": 29,
   "id": "d6b01045",
   "metadata": {},
   "outputs": [
    {
     "data": {
      "text/html": [
       "<div>\n",
       "<style scoped>\n",
       "    .dataframe tbody tr th:only-of-type {\n",
       "        vertical-align: middle;\n",
       "    }\n",
       "\n",
       "    .dataframe tbody tr th {\n",
       "        vertical-align: top;\n",
       "    }\n",
       "\n",
       "    .dataframe thead th {\n",
       "        text-align: right;\n",
       "    }\n",
       "</style>\n",
       "<table border=\"1\" class=\"dataframe\">\n",
       "  <thead>\n",
       "    <tr style=\"text-align: right;\">\n",
       "      <th></th>\n",
       "      <th>Name</th>\n",
       "      <th>Year</th>\n",
       "      <th>Age</th>\n",
       "      <th>Tm</th>\n",
       "      <th>G</th>\n",
       "      <th>GS</th>\n",
       "      <th>Cmp</th>\n",
       "      <th>Att</th>\n",
       "      <th>Cmp%</th>\n",
       "      <th>Yds</th>\n",
       "      <th>TD</th>\n",
       "      <th>Int</th>\n",
       "      <th>Y/A</th>\n",
       "      <th>Y/C</th>\n",
       "      <th>Rate</th>\n",
       "    </tr>\n",
       "  </thead>\n",
       "  <tbody>\n",
       "    <tr>\n",
       "      <th>0</th>\n",
       "      <td>Tom Brady</td>\n",
       "      <td>NaN</td>\n",
       "      <td>44</td>\n",
       "      <td>TAM</td>\n",
       "      <td>17</td>\n",
       "      <td>17</td>\n",
       "      <td>485</td>\n",
       "      <td>719</td>\n",
       "      <td>67.5</td>\n",
       "      <td>5316</td>\n",
       "      <td>43</td>\n",
       "      <td>12</td>\n",
       "      <td>7.4</td>\n",
       "      <td>11.0</td>\n",
       "      <td>102.1</td>\n",
       "    </tr>\n",
       "    <tr>\n",
       "      <th>1</th>\n",
       "      <td>Justin Herbert</td>\n",
       "      <td>NaN</td>\n",
       "      <td>23</td>\n",
       "      <td>LAC</td>\n",
       "      <td>17</td>\n",
       "      <td>17</td>\n",
       "      <td>443</td>\n",
       "      <td>672</td>\n",
       "      <td>65.9</td>\n",
       "      <td>5014</td>\n",
       "      <td>38</td>\n",
       "      <td>15</td>\n",
       "      <td>7.5</td>\n",
       "      <td>11.3</td>\n",
       "      <td>97.7</td>\n",
       "    </tr>\n",
       "    <tr>\n",
       "      <th>2</th>\n",
       "      <td>Matthew Stafford</td>\n",
       "      <td>NaN</td>\n",
       "      <td>33</td>\n",
       "      <td>LAR</td>\n",
       "      <td>17</td>\n",
       "      <td>17</td>\n",
       "      <td>404</td>\n",
       "      <td>601</td>\n",
       "      <td>67.2</td>\n",
       "      <td>4886</td>\n",
       "      <td>41</td>\n",
       "      <td>17</td>\n",
       "      <td>8.1</td>\n",
       "      <td>12.1</td>\n",
       "      <td>102.9</td>\n",
       "    </tr>\n",
       "    <tr>\n",
       "      <th>3</th>\n",
       "      <td>Patrick Mahomes</td>\n",
       "      <td>NaN</td>\n",
       "      <td>26</td>\n",
       "      <td>KAN</td>\n",
       "      <td>17</td>\n",
       "      <td>17</td>\n",
       "      <td>436</td>\n",
       "      <td>658</td>\n",
       "      <td>66.3</td>\n",
       "      <td>4839</td>\n",
       "      <td>37</td>\n",
       "      <td>13</td>\n",
       "      <td>7.4</td>\n",
       "      <td>11.1</td>\n",
       "      <td>98.5</td>\n",
       "    </tr>\n",
       "    <tr>\n",
       "      <th>4</th>\n",
       "      <td>Derek Carr</td>\n",
       "      <td>NaN</td>\n",
       "      <td>30</td>\n",
       "      <td>LVR</td>\n",
       "      <td>17</td>\n",
       "      <td>17</td>\n",
       "      <td>428</td>\n",
       "      <td>626</td>\n",
       "      <td>68.4</td>\n",
       "      <td>4804</td>\n",
       "      <td>23</td>\n",
       "      <td>14</td>\n",
       "      <td>7.7</td>\n",
       "      <td>11.2</td>\n",
       "      <td>94.0</td>\n",
       "    </tr>\n",
       "  </tbody>\n",
       "</table>\n",
       "</div>"
      ],
      "text/plain": [
       "               Name  Year  Age   Tm   G  GS  Cmp  Att  Cmp%   Yds  TD  Int  \\\n",
       "0         Tom Brady   NaN   44  TAM  17  17  485  719  67.5  5316  43   12   \n",
       "1    Justin Herbert   NaN   23  LAC  17  17  443  672  65.9  5014  38   15   \n",
       "2  Matthew Stafford   NaN   33  LAR  17  17  404  601  67.2  4886  41   17   \n",
       "3   Patrick Mahomes   NaN   26  KAN  17  17  436  658  66.3  4839  37   13   \n",
       "4        Derek Carr   NaN   30  LVR  17  17  428  626  68.4  4804  23   14   \n",
       "\n",
       "   Y/A   Y/C   Rate  \n",
       "0  7.4  11.0  102.1  \n",
       "1  7.5  11.3   97.7  \n",
       "2  8.1  12.1  102.9  \n",
       "3  7.4  11.1   98.5  \n",
       "4  7.7  11.2   94.0  "
      ]
     },
     "execution_count": 29,
     "metadata": {},
     "output_type": "execute_result"
    }
   ],
   "source": [
    "comb_passing_clean.head()"
   ]
  },
  {
   "cell_type": "code",
   "execution_count": 15,
   "id": "b1147b8d",
   "metadata": {
    "scrolled": true
   },
   "outputs": [
    {
     "data": {
      "text/plain": [
       "<AxesSubplot:title={'center':'Yds'}, xlabel='Age'>"
      ]
     },
     "execution_count": 15,
     "metadata": {},
     "output_type": "execute_result"
    },
    {
     "data": {
      "image/png": "[encoded data removed]",
      "text/plain": [
       "<Figure size 1080x720 with 1 Axes>"
      ]
     },
     "metadata": {
      "needs_background": "light"
     },
     "output_type": "display_data"
    }
   ],
   "source": [
    "comb_passing_clean.boxplot(column = 'Yds', by = 'Age', figsize = (15,10))"
   ]
  },
  {
   "cell_type": "code",
   "execution_count": 16,
   "id": "8596338d",
   "metadata": {},
   "outputs": [
    {
     "data": {
      "text/html": [
       "<div>\n",
       "<style scoped>\n",
       "    .dataframe tbody tr th:only-of-type {\n",
       "        vertical-align: middle;\n",
       "    }\n",
       "\n",
       "    .dataframe tbody tr th {\n",
       "        vertical-align: top;\n",
       "    }\n",
       "\n",
       "    .dataframe thead th {\n",
       "        text-align: right;\n",
       "    }\n",
       "</style>\n",
       "<table border=\"1\" class=\"dataframe\">\n",
       "  <thead>\n",
       "    <tr style=\"text-align: right;\">\n",
       "      <th></th>\n",
       "      <th>Name</th>\n",
       "      <th>Year</th>\n",
       "      <th>Age</th>\n",
       "      <th>Tm</th>\n",
       "      <th>G</th>\n",
       "      <th>GS</th>\n",
       "      <th>Cmp</th>\n",
       "      <th>Att</th>\n",
       "      <th>Cmp%</th>\n",
       "      <th>Yds</th>\n",
       "      <th>TD</th>\n",
       "      <th>Int</th>\n",
       "      <th>Y/A</th>\n",
       "      <th>Y/C</th>\n",
       "      <th>Rate</th>\n",
       "    </tr>\n",
       "  </thead>\n",
       "  <tbody>\n",
       "    <tr>\n",
       "      <th>0</th>\n",
       "      <td>Peyton Manning</td>\n",
       "      <td>2000</td>\n",
       "      <td>24</td>\n",
       "      <td>IND</td>\n",
       "      <td>16</td>\n",
       "      <td>16</td>\n",
       "      <td>357</td>\n",
       "      <td>571</td>\n",
       "      <td>62.5</td>\n",
       "      <td>4413</td>\n",
       "      <td>33</td>\n",
       "      <td>15</td>\n",
       "      <td>7.7</td>\n",
       "      <td>12.4</td>\n",
       "      <td>94.7</td>\n",
       "    </tr>\n",
       "    <tr>\n",
       "      <th>1</th>\n",
       "      <td>Jeff Garcia</td>\n",
       "      <td>2000</td>\n",
       "      <td>30</td>\n",
       "      <td>SFO</td>\n",
       "      <td>16</td>\n",
       "      <td>16</td>\n",
       "      <td>355</td>\n",
       "      <td>561</td>\n",
       "      <td>63.3</td>\n",
       "      <td>4278</td>\n",
       "      <td>31</td>\n",
       "      <td>10</td>\n",
       "      <td>7.6</td>\n",
       "      <td>12.1</td>\n",
       "      <td>97.6</td>\n",
       "    </tr>\n",
       "    <tr>\n",
       "      <th>2</th>\n",
       "      <td>Elvis Grbac</td>\n",
       "      <td>2000</td>\n",
       "      <td>30</td>\n",
       "      <td>KAN</td>\n",
       "      <td>15</td>\n",
       "      <td>15</td>\n",
       "      <td>326</td>\n",
       "      <td>547</td>\n",
       "      <td>59.6</td>\n",
       "      <td>4169</td>\n",
       "      <td>28</td>\n",
       "      <td>14</td>\n",
       "      <td>7.6</td>\n",
       "      <td>12.8</td>\n",
       "      <td>89.9</td>\n",
       "    </tr>\n",
       "    <tr>\n",
       "      <th>3</th>\n",
       "      <td>Daunte Culpepper</td>\n",
       "      <td>2000</td>\n",
       "      <td>23</td>\n",
       "      <td>MIN</td>\n",
       "      <td>16</td>\n",
       "      <td>16</td>\n",
       "      <td>297</td>\n",
       "      <td>474</td>\n",
       "      <td>62.7</td>\n",
       "      <td>3937</td>\n",
       "      <td>33</td>\n",
       "      <td>16</td>\n",
       "      <td>8.3</td>\n",
       "      <td>13.3</td>\n",
       "      <td>98.0</td>\n",
       "    </tr>\n",
       "    <tr>\n",
       "      <th>4</th>\n",
       "      <td>Brett Favre</td>\n",
       "      <td>2000</td>\n",
       "      <td>31</td>\n",
       "      <td>GNB</td>\n",
       "      <td>16</td>\n",
       "      <td>16</td>\n",
       "      <td>338</td>\n",
       "      <td>580</td>\n",
       "      <td>58.3</td>\n",
       "      <td>3812</td>\n",
       "      <td>20</td>\n",
       "      <td>16</td>\n",
       "      <td>6.6</td>\n",
       "      <td>11.3</td>\n",
       "      <td>78.0</td>\n",
       "    </tr>\n",
       "  </tbody>\n",
       "</table>\n",
       "</div>"
      ],
      "text/plain": [
       "               Name  Year  Age   Tm   G  GS  Cmp  Att  Cmp%   Yds  TD  Int  \\\n",
       "0    Peyton Manning  2000   24  IND  16  16  357  571  62.5  4413  33   15   \n",
       "1       Jeff Garcia  2000   30  SFO  16  16  355  561  63.3  4278  31   10   \n",
       "2       Elvis Grbac  2000   30  KAN  15  15  326  547  59.6  4169  28   14   \n",
       "3  Daunte Culpepper  2000   23  MIN  16  16  297  474  62.7  3937  33   16   \n",
       "4       Brett Favre  2000   31  GNB  16  16  338  580  58.3  3812  20   16   \n",
       "\n",
       "   Y/A   Y/C  Rate  \n",
       "0  7.7  12.4  94.7  \n",
       "1  7.6  12.1  97.6  \n",
       "2  7.6  12.8  89.9  \n",
       "3  8.3  13.3  98.0  \n",
       "4  6.6  11.3  78.0  "
      ]
     },
     "execution_count": 16,
     "metadata": {},
     "output_type": "execute_result"
    }
   ],
   "source": [
    "yards = (comb_passing_clean['Yds'] >= 1000)\n",
    "yds1000 = comb_passing_clean[yards]\n",
    "yds1000.head()"
   ]
  },
  {
   "cell_type": "code",
   "execution_count": 17,
   "id": "99ce2b7c",
   "metadata": {},
   "outputs": [
    {
     "data": {
      "text/plain": [
       "<AxesSubplot:title={'center':'Yds'}, xlabel='Age'>"
      ]
     },
     "execution_count": 17,
     "metadata": {},
     "output_type": "execute_result"
    },
    {
     "data": {
      "image/png": "[encoded data removed]",
      "text/plain": [
       "<Figure size 1080x720 with 1 Axes>"
      ]
     },
     "metadata": {
      "needs_background": "light"
     },
     "output_type": "display_data"
    }
   ],
   "source": [
    "yds1000.boxplot(column = 'Yds', by = 'Age', figsize = (15,10))"
   ]
  }
 ],
 "metadata": {
  "kernelspec": {
   "display_name": "Python 3",
   "language": "python",
   "name": "python3"
  },
  "language_info": {
   "codemirror_mode": {
    "name": "ipython",
    "version": 3
   },
   "file_extension": ".py",
   "mimetype": "text/x-python",
   "name": "python",
   "nbconvert_exporter": "python",
   "pygments_lexer": "ipython3",
   "version": "3.8.8"
  }
 },
 "nbformat": 4,
 "nbformat_minor": 5
}
