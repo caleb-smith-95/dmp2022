{
 "cells": [
  {
   "cell_type": "code",
   "execution_count": 1,
   "id": "e81d20d7",
   "metadata": {},
   "outputs": [],
   "source": [
    "import pandas as pd\n",
    "import plotly.express as px\n",
    "import numpy as np\n",
    "%matplotlib inline\n",
    "from itertools import repeat"
   ]
  },
  {
   "cell_type": "code",
   "execution_count": 2,
   "id": "0e78f46c",
   "metadata": {},
   "outputs": [
    {
     "data": {
      "text/html": [
       "<div>\n",
       "<style scoped>\n",
       "    .dataframe tbody tr th:only-of-type {\n",
       "        vertical-align: middle;\n",
       "    }\n",
       "\n",
       "    .dataframe tbody tr th {\n",
       "        vertical-align: top;\n",
       "    }\n",
       "\n",
       "    .dataframe thead th {\n",
       "        text-align: right;\n",
       "    }\n",
       "</style>\n",
       "<table border=\"1\" class=\"dataframe\">\n",
       "  <thead>\n",
       "    <tr style=\"text-align: right;\">\n",
       "      <th></th>\n",
       "      <th>Name</th>\n",
       "      <th>Year</th>\n",
       "      <th>Age</th>\n",
       "      <th>Tm</th>\n",
       "      <th>G</th>\n",
       "      <th>GS</th>\n",
       "      <th>Cmp</th>\n",
       "      <th>Att</th>\n",
       "      <th>Cmp%</th>\n",
       "      <th>Yds</th>\n",
       "      <th>TD</th>\n",
       "      <th>Int</th>\n",
       "      <th>Int%</th>\n",
       "      <th>Y/A</th>\n",
       "      <th>Y/C</th>\n",
       "      <th>Y/G</th>\n",
       "      <th>Rate</th>\n",
       "    </tr>\n",
       "  </thead>\n",
       "  <tbody>\n",
       "    <tr>\n",
       "      <th>0</th>\n",
       "      <td>Fran Tarkenton</td>\n",
       "      <td>1978</td>\n",
       "      <td>38</td>\n",
       "      <td>MIN</td>\n",
       "      <td>16</td>\n",
       "      <td>16</td>\n",
       "      <td>345</td>\n",
       "      <td>572</td>\n",
       "      <td>60.3</td>\n",
       "      <td>3468</td>\n",
       "      <td>25</td>\n",
       "      <td>32</td>\n",
       "      <td>5.6</td>\n",
       "      <td>6.1</td>\n",
       "      <td>10.1</td>\n",
       "      <td>216.8</td>\n",
       "      <td>68.9</td>\n",
       "    </tr>\n",
       "    <tr>\n",
       "      <th>1</th>\n",
       "      <td>Archie Manning</td>\n",
       "      <td>1978</td>\n",
       "      <td>29</td>\n",
       "      <td>NOR</td>\n",
       "      <td>16</td>\n",
       "      <td>16</td>\n",
       "      <td>291</td>\n",
       "      <td>471</td>\n",
       "      <td>61.8</td>\n",
       "      <td>3416</td>\n",
       "      <td>17</td>\n",
       "      <td>16</td>\n",
       "      <td>3.4</td>\n",
       "      <td>7.3</td>\n",
       "      <td>11.7</td>\n",
       "      <td>213.5</td>\n",
       "      <td>81.7</td>\n",
       "    </tr>\n",
       "    <tr>\n",
       "      <th>2</th>\n",
       "      <td>Jim Zorn</td>\n",
       "      <td>1978</td>\n",
       "      <td>25</td>\n",
       "      <td>SEA</td>\n",
       "      <td>16</td>\n",
       "      <td>16</td>\n",
       "      <td>248</td>\n",
       "      <td>443</td>\n",
       "      <td>56.0</td>\n",
       "      <td>3283</td>\n",
       "      <td>15</td>\n",
       "      <td>20</td>\n",
       "      <td>4.5</td>\n",
       "      <td>7.4</td>\n",
       "      <td>13.2</td>\n",
       "      <td>205.2</td>\n",
       "      <td>72.1</td>\n",
       "    </tr>\n",
       "    <tr>\n",
       "      <th>3</th>\n",
       "      <td>Roger Staubach</td>\n",
       "      <td>1978</td>\n",
       "      <td>36</td>\n",
       "      <td>DAL</td>\n",
       "      <td>15</td>\n",
       "      <td>15</td>\n",
       "      <td>231</td>\n",
       "      <td>413</td>\n",
       "      <td>55.9</td>\n",
       "      <td>3190</td>\n",
       "      <td>25</td>\n",
       "      <td>16</td>\n",
       "      <td>3.9</td>\n",
       "      <td>7.7</td>\n",
       "      <td>13.8</td>\n",
       "      <td>212.7</td>\n",
       "      <td>84.9</td>\n",
       "    </tr>\n",
       "    <tr>\n",
       "      <th>4</th>\n",
       "      <td>Jim Hart</td>\n",
       "      <td>1978</td>\n",
       "      <td>34</td>\n",
       "      <td>STL</td>\n",
       "      <td>15</td>\n",
       "      <td>15</td>\n",
       "      <td>240</td>\n",
       "      <td>477</td>\n",
       "      <td>50.3</td>\n",
       "      <td>3121</td>\n",
       "      <td>16</td>\n",
       "      <td>18</td>\n",
       "      <td>3.8</td>\n",
       "      <td>6.5</td>\n",
       "      <td>13.0</td>\n",
       "      <td>208.1</td>\n",
       "      <td>66.7</td>\n",
       "    </tr>\n",
       "  </tbody>\n",
       "</table>\n",
       "</div>"
      ],
      "text/plain": [
       "             Name  Year  Age   Tm   G  GS  Cmp  Att  Cmp%   Yds  TD  Int  \\\n",
       "0  Fran Tarkenton  1978   38  MIN  16  16  345  572  60.3  3468  25   32   \n",
       "1  Archie Manning  1978   29  NOR  16  16  291  471  61.8  3416  17   16   \n",
       "2        Jim Zorn  1978   25  SEA  16  16  248  443  56.0  3283  15   20   \n",
       "3  Roger Staubach  1978   36  DAL  15  15  231  413  55.9  3190  25   16   \n",
       "4        Jim Hart  1978   34  STL  15  15  240  477  50.3  3121  16   18   \n",
       "\n",
       "   Int%  Y/A   Y/C    Y/G  Rate  \n",
       "0   5.6  6.1  10.1  216.8  68.9  \n",
       "1   3.4  7.3  11.7  213.5  81.7  \n",
       "2   4.5  7.4  13.2  205.2  72.1  \n",
       "3   3.9  7.7  13.8  212.7  84.9  \n",
       "4   3.8  6.5  13.0  208.1  66.7  "
      ]
     },
     "execution_count": 2,
     "metadata": {},
     "output_type": "execute_result"
    }
   ],
   "source": [
    "passing = pd.read_csv('C:/Users/caleb/OneDrive/Documents/Spring 2022 Classes/Directed Masters Project/Clean Data/Combined/Passing.csv', index_col = 0)\n",
    "passing.head()"
   ]
  },
  {
   "cell_type": "markdown",
   "id": "8a68e1db",
   "metadata": {},
   "source": [
    "### Add TD% to the data"
   ]
  },
  {
   "cell_type": "code",
   "execution_count": 81,
   "id": "a7e54c78",
   "metadata": {},
   "outputs": [
    {
     "data": {
      "text/html": [
       "<div>\n",
       "<style scoped>\n",
       "    .dataframe tbody tr th:only-of-type {\n",
       "        vertical-align: middle;\n",
       "    }\n",
       "\n",
       "    .dataframe tbody tr th {\n",
       "        vertical-align: top;\n",
       "    }\n",
       "\n",
       "    .dataframe thead th {\n",
       "        text-align: right;\n",
       "    }\n",
       "</style>\n",
       "<table border=\"1\" class=\"dataframe\">\n",
       "  <thead>\n",
       "    <tr style=\"text-align: right;\">\n",
       "      <th></th>\n",
       "      <th>Name</th>\n",
       "      <th>Year</th>\n",
       "      <th>Age</th>\n",
       "      <th>Tm</th>\n",
       "      <th>G</th>\n",
       "      <th>GS</th>\n",
       "      <th>Cmp</th>\n",
       "      <th>Att</th>\n",
       "      <th>Cmp%</th>\n",
       "      <th>Yds</th>\n",
       "      <th>TD</th>\n",
       "      <th>Int</th>\n",
       "      <th>Int%</th>\n",
       "      <th>Y/A</th>\n",
       "      <th>Y/C</th>\n",
       "      <th>Y/G</th>\n",
       "      <th>Rate</th>\n",
       "      <th>TD%</th>\n",
       "    </tr>\n",
       "  </thead>\n",
       "  <tbody>\n",
       "    <tr>\n",
       "      <th>0</th>\n",
       "      <td>Fran Tarkenton</td>\n",
       "      <td>1978</td>\n",
       "      <td>38</td>\n",
       "      <td>MIN</td>\n",
       "      <td>16</td>\n",
       "      <td>16</td>\n",
       "      <td>345</td>\n",
       "      <td>572</td>\n",
       "      <td>0.603147</td>\n",
       "      <td>3468</td>\n",
       "      <td>25</td>\n",
       "      <td>32</td>\n",
       "      <td>0.055944</td>\n",
       "      <td>6.062937</td>\n",
       "      <td>10.1</td>\n",
       "      <td>216.8</td>\n",
       "      <td>68.9</td>\n",
       "      <td>0.043706</td>\n",
       "    </tr>\n",
       "    <tr>\n",
       "      <th>1</th>\n",
       "      <td>Archie Manning</td>\n",
       "      <td>1978</td>\n",
       "      <td>29</td>\n",
       "      <td>NOR</td>\n",
       "      <td>16</td>\n",
       "      <td>16</td>\n",
       "      <td>291</td>\n",
       "      <td>471</td>\n",
       "      <td>0.617834</td>\n",
       "      <td>3416</td>\n",
       "      <td>17</td>\n",
       "      <td>16</td>\n",
       "      <td>0.033970</td>\n",
       "      <td>7.252654</td>\n",
       "      <td>11.7</td>\n",
       "      <td>213.5</td>\n",
       "      <td>81.7</td>\n",
       "      <td>0.036093</td>\n",
       "    </tr>\n",
       "    <tr>\n",
       "      <th>2</th>\n",
       "      <td>Jim Zorn</td>\n",
       "      <td>1978</td>\n",
       "      <td>25</td>\n",
       "      <td>SEA</td>\n",
       "      <td>16</td>\n",
       "      <td>16</td>\n",
       "      <td>248</td>\n",
       "      <td>443</td>\n",
       "      <td>0.559819</td>\n",
       "      <td>3283</td>\n",
       "      <td>15</td>\n",
       "      <td>20</td>\n",
       "      <td>0.045147</td>\n",
       "      <td>7.410835</td>\n",
       "      <td>13.2</td>\n",
       "      <td>205.2</td>\n",
       "      <td>72.1</td>\n",
       "      <td>0.033860</td>\n",
       "    </tr>\n",
       "    <tr>\n",
       "      <th>3</th>\n",
       "      <td>Roger Staubach</td>\n",
       "      <td>1978</td>\n",
       "      <td>36</td>\n",
       "      <td>DAL</td>\n",
       "      <td>15</td>\n",
       "      <td>15</td>\n",
       "      <td>231</td>\n",
       "      <td>413</td>\n",
       "      <td>0.559322</td>\n",
       "      <td>3190</td>\n",
       "      <td>25</td>\n",
       "      <td>16</td>\n",
       "      <td>0.038741</td>\n",
       "      <td>7.723971</td>\n",
       "      <td>13.8</td>\n",
       "      <td>212.7</td>\n",
       "      <td>84.9</td>\n",
       "      <td>0.060533</td>\n",
       "    </tr>\n",
       "    <tr>\n",
       "      <th>4</th>\n",
       "      <td>Jim Hart</td>\n",
       "      <td>1978</td>\n",
       "      <td>34</td>\n",
       "      <td>STL</td>\n",
       "      <td>15</td>\n",
       "      <td>15</td>\n",
       "      <td>240</td>\n",
       "      <td>477</td>\n",
       "      <td>0.503145</td>\n",
       "      <td>3121</td>\n",
       "      <td>16</td>\n",
       "      <td>18</td>\n",
       "      <td>0.037736</td>\n",
       "      <td>6.542977</td>\n",
       "      <td>13.0</td>\n",
       "      <td>208.1</td>\n",
       "      <td>66.7</td>\n",
       "      <td>0.033543</td>\n",
       "    </tr>\n",
       "  </tbody>\n",
       "</table>\n",
       "</div>"
      ],
      "text/plain": [
       "             Name  Year  Age   Tm   G  GS  Cmp  Att      Cmp%   Yds  TD  Int  \\\n",
       "0  Fran Tarkenton  1978   38  MIN  16  16  345  572  0.603147  3468  25   32   \n",
       "1  Archie Manning  1978   29  NOR  16  16  291  471  0.617834  3416  17   16   \n",
       "2        Jim Zorn  1978   25  SEA  16  16  248  443  0.559819  3283  15   20   \n",
       "3  Roger Staubach  1978   36  DAL  15  15  231  413  0.559322  3190  25   16   \n",
       "4        Jim Hart  1978   34  STL  15  15  240  477  0.503145  3121  16   18   \n",
       "\n",
       "       Int%       Y/A   Y/C    Y/G  Rate       TD%  \n",
       "0  0.055944  6.062937  10.1  216.8  68.9  0.043706  \n",
       "1  0.033970  7.252654  11.7  213.5  81.7  0.036093  \n",
       "2  0.045147  7.410835  13.2  205.2  72.1  0.033860  \n",
       "3  0.038741  7.723971  13.8  212.7  84.9  0.060533  \n",
       "4  0.037736  6.542977  13.0  208.1  66.7  0.033543  "
      ]
     },
     "execution_count": 81,
     "metadata": {},
     "output_type": "execute_result"
    }
   ],
   "source": [
    "passing['TD%'] = passing['TD'] / passing['Att']\n",
    "passing['Int%'] = passing['Int'] / passing['Att']\n",
    "passing['Y/A'] = passing['Yds'] / passing['Att']\n",
    "passing['Cmp%'] = passing['Cmp'] / passing['Att']\n",
    "passing.head()"
   ]
  },
  {
   "cell_type": "code",
   "execution_count": 82,
   "id": "4daff018",
   "metadata": {},
   "outputs": [
    {
     "data": {
      "text/html": [
       "<div>\n",
       "<style scoped>\n",
       "    .dataframe tbody tr th:only-of-type {\n",
       "        vertical-align: middle;\n",
       "    }\n",
       "\n",
       "    .dataframe tbody tr th {\n",
       "        vertical-align: top;\n",
       "    }\n",
       "\n",
       "    .dataframe thead th {\n",
       "        text-align: right;\n",
       "    }\n",
       "</style>\n",
       "<table border=\"1\" class=\"dataframe\">\n",
       "  <thead>\n",
       "    <tr style=\"text-align: right;\">\n",
       "      <th></th>\n",
       "      <th>Year</th>\n",
       "      <th>Y/A Factor</th>\n",
       "      <th>Cmp% Factor</th>\n",
       "      <th>TD% Factor</th>\n",
       "      <th>Int% Factor</th>\n",
       "    </tr>\n",
       "  </thead>\n",
       "  <tbody>\n",
       "    <tr>\n",
       "      <th>0</th>\n",
       "      <td>1978</td>\n",
       "      <td>1.000000</td>\n",
       "      <td>1.000000</td>\n",
       "      <td>1.000000</td>\n",
       "      <td>1.000000</td>\n",
       "    </tr>\n",
       "    <tr>\n",
       "      <th>1</th>\n",
       "      <td>1979</td>\n",
       "      <td>1.021521</td>\n",
       "      <td>1.019404</td>\n",
       "      <td>1.047715</td>\n",
       "      <td>0.851491</td>\n",
       "    </tr>\n",
       "    <tr>\n",
       "      <th>2</th>\n",
       "      <td>1980</td>\n",
       "      <td>1.040801</td>\n",
       "      <td>1.058478</td>\n",
       "      <td>1.117624</td>\n",
       "      <td>0.846907</td>\n",
       "    </tr>\n",
       "    <tr>\n",
       "      <th>3</th>\n",
       "      <td>1981</td>\n",
       "      <td>1.045635</td>\n",
       "      <td>1.029134</td>\n",
       "      <td>1.053449</td>\n",
       "      <td>0.795039</td>\n",
       "    </tr>\n",
       "    <tr>\n",
       "      <th>4</th>\n",
       "      <td>1982</td>\n",
       "      <td>1.043163</td>\n",
       "      <td>1.062638</td>\n",
       "      <td>1.019564</td>\n",
       "      <td>0.814395</td>\n",
       "    </tr>\n",
       "  </tbody>\n",
       "</table>\n",
       "</div>"
      ],
      "text/plain": [
       "   Year  Y/A Factor  Cmp% Factor  TD% Factor  Int% Factor\n",
       "0  1978    1.000000     1.000000    1.000000     1.000000\n",
       "1  1979    1.021521     1.019404    1.047715     0.851491\n",
       "2  1980    1.040801     1.058478    1.117624     0.846907\n",
       "3  1981    1.045635     1.029134    1.053449     0.795039\n",
       "4  1982    1.043163     1.062638    1.019564     0.814395"
      ]
     },
     "execution_count": 82,
     "metadata": {},
     "output_type": "execute_result"
    }
   ],
   "source": [
    "pass_inflation = pd.read_csv('C:/Users/caleb/OneDrive/Documents/Spring 2022 Classes/Directed Masters Project/Clean Data/Inflation/Passing.csv', index_col = 0)\n",
    "pass_inflation.head()"
   ]
  },
  {
   "cell_type": "markdown",
   "id": "20afa1bc",
   "metadata": {},
   "source": [
    "# Merge the inflation factor into every individual record"
   ]
  },
  {
   "cell_type": "code",
   "execution_count": 83,
   "id": "cd0640aa",
   "metadata": {},
   "outputs": [
    {
     "data": {
      "text/html": [
       "<div>\n",
       "<style scoped>\n",
       "    .dataframe tbody tr th:only-of-type {\n",
       "        vertical-align: middle;\n",
       "    }\n",
       "\n",
       "    .dataframe tbody tr th {\n",
       "        vertical-align: top;\n",
       "    }\n",
       "\n",
       "    .dataframe thead th {\n",
       "        text-align: right;\n",
       "    }\n",
       "</style>\n",
       "<table border=\"1\" class=\"dataframe\">\n",
       "  <thead>\n",
       "    <tr style=\"text-align: right;\">\n",
       "      <th></th>\n",
       "      <th>Name</th>\n",
       "      <th>Year</th>\n",
       "      <th>Age</th>\n",
       "      <th>Tm</th>\n",
       "      <th>G</th>\n",
       "      <th>GS</th>\n",
       "      <th>Cmp</th>\n",
       "      <th>Att</th>\n",
       "      <th>Cmp%</th>\n",
       "      <th>Yds</th>\n",
       "      <th>...</th>\n",
       "      <th>Int%</th>\n",
       "      <th>Y/A</th>\n",
       "      <th>Y/C</th>\n",
       "      <th>Y/G</th>\n",
       "      <th>Rate</th>\n",
       "      <th>TD%</th>\n",
       "      <th>Y/A Factor</th>\n",
       "      <th>Cmp% Factor</th>\n",
       "      <th>TD% Factor</th>\n",
       "      <th>Int% Factor</th>\n",
       "    </tr>\n",
       "  </thead>\n",
       "  <tbody>\n",
       "    <tr>\n",
       "      <th>4498</th>\n",
       "      <td>Cordarrelle Patterson</td>\n",
       "      <td>2021</td>\n",
       "      <td>30</td>\n",
       "      <td>ATL</td>\n",
       "      <td>16</td>\n",
       "      <td>13</td>\n",
       "      <td>0</td>\n",
       "      <td>1</td>\n",
       "      <td>0.0</td>\n",
       "      <td>0</td>\n",
       "      <td>...</td>\n",
       "      <td>0.0</td>\n",
       "      <td>0.0</td>\n",
       "      <td>NaN</td>\n",
       "      <td>0.0</td>\n",
       "      <td>39.6</td>\n",
       "      <td>0.0</td>\n",
       "      <td>1.055231</td>\n",
       "      <td>1.22052</td>\n",
       "      <td>1.134648</td>\n",
       "      <td>0.435291</td>\n",
       "    </tr>\n",
       "    <tr>\n",
       "      <th>4499</th>\n",
       "      <td>Brett Rypien</td>\n",
       "      <td>2021</td>\n",
       "      <td>25</td>\n",
       "      <td>DEN</td>\n",
       "      <td>1</td>\n",
       "      <td>0</td>\n",
       "      <td>0</td>\n",
       "      <td>2</td>\n",
       "      <td>0.0</td>\n",
       "      <td>0</td>\n",
       "      <td>...</td>\n",
       "      <td>0.0</td>\n",
       "      <td>0.0</td>\n",
       "      <td>NaN</td>\n",
       "      <td>0.0</td>\n",
       "      <td>39.6</td>\n",
       "      <td>0.0</td>\n",
       "      <td>1.055231</td>\n",
       "      <td>1.22052</td>\n",
       "      <td>1.134648</td>\n",
       "      <td>0.435291</td>\n",
       "    </tr>\n",
       "    <tr>\n",
       "      <th>4500</th>\n",
       "      <td>D'Andre Swift</td>\n",
       "      <td>2021</td>\n",
       "      <td>22</td>\n",
       "      <td>DET</td>\n",
       "      <td>13</td>\n",
       "      <td>4</td>\n",
       "      <td>0</td>\n",
       "      <td>1</td>\n",
       "      <td>0.0</td>\n",
       "      <td>0</td>\n",
       "      <td>...</td>\n",
       "      <td>0.0</td>\n",
       "      <td>0.0</td>\n",
       "      <td>NaN</td>\n",
       "      <td>0.0</td>\n",
       "      <td>39.6</td>\n",
       "      <td>0.0</td>\n",
       "      <td>1.055231</td>\n",
       "      <td>1.22052</td>\n",
       "      <td>1.134648</td>\n",
       "      <td>0.435291</td>\n",
       "    </tr>\n",
       "    <tr>\n",
       "      <th>4501</th>\n",
       "      <td>Albert Wilson</td>\n",
       "      <td>2021</td>\n",
       "      <td>29</td>\n",
       "      <td>MIA</td>\n",
       "      <td>14</td>\n",
       "      <td>5</td>\n",
       "      <td>0</td>\n",
       "      <td>1</td>\n",
       "      <td>0.0</td>\n",
       "      <td>0</td>\n",
       "      <td>...</td>\n",
       "      <td>0.0</td>\n",
       "      <td>0.0</td>\n",
       "      <td>NaN</td>\n",
       "      <td>0.0</td>\n",
       "      <td>39.6</td>\n",
       "      <td>0.0</td>\n",
       "      <td>1.055231</td>\n",
       "      <td>1.22052</td>\n",
       "      <td>1.134648</td>\n",
       "      <td>0.435291</td>\n",
       "    </tr>\n",
       "    <tr>\n",
       "      <th>4502</th>\n",
       "      <td>Brandon Zylstra</td>\n",
       "      <td>2021</td>\n",
       "      <td>28</td>\n",
       "      <td>CAR</td>\n",
       "      <td>13</td>\n",
       "      <td>3</td>\n",
       "      <td>0</td>\n",
       "      <td>1</td>\n",
       "      <td>0.0</td>\n",
       "      <td>0</td>\n",
       "      <td>...</td>\n",
       "      <td>0.0</td>\n",
       "      <td>0.0</td>\n",
       "      <td>NaN</td>\n",
       "      <td>0.0</td>\n",
       "      <td>39.6</td>\n",
       "      <td>0.0</td>\n",
       "      <td>1.055231</td>\n",
       "      <td>1.22052</td>\n",
       "      <td>1.134648</td>\n",
       "      <td>0.435291</td>\n",
       "    </tr>\n",
       "  </tbody>\n",
       "</table>\n",
       "<p>5 rows × 22 columns</p>\n",
       "</div>"
      ],
      "text/plain": [
       "                       Name  Year  Age   Tm   G  GS  Cmp  Att  Cmp%  Yds  ...  \\\n",
       "4498  Cordarrelle Patterson  2021   30  ATL  16  13    0    1   0.0    0  ...   \n",
       "4499           Brett Rypien  2021   25  DEN   1   0    0    2   0.0    0  ...   \n",
       "4500          D'Andre Swift  2021   22  DET  13   4    0    1   0.0    0  ...   \n",
       "4501          Albert Wilson  2021   29  MIA  14   5    0    1   0.0    0  ...   \n",
       "4502        Brandon Zylstra  2021   28  CAR  13   3    0    1   0.0    0  ...   \n",
       "\n",
       "      Int%  Y/A  Y/C  Y/G  Rate  TD%  Y/A Factor  Cmp% Factor  TD% Factor  \\\n",
       "4498   0.0  0.0  NaN  0.0  39.6  0.0    1.055231      1.22052    1.134648   \n",
       "4499   0.0  0.0  NaN  0.0  39.6  0.0    1.055231      1.22052    1.134648   \n",
       "4500   0.0  0.0  NaN  0.0  39.6  0.0    1.055231      1.22052    1.134648   \n",
       "4501   0.0  0.0  NaN  0.0  39.6  0.0    1.055231      1.22052    1.134648   \n",
       "4502   0.0  0.0  NaN  0.0  39.6  0.0    1.055231      1.22052    1.134648   \n",
       "\n",
       "      Int% Factor  \n",
       "4498     0.435291  \n",
       "4499     0.435291  \n",
       "4500     0.435291  \n",
       "4501     0.435291  \n",
       "4502     0.435291  \n",
       "\n",
       "[5 rows x 22 columns]"
      ]
     },
     "execution_count": 83,
     "metadata": {},
     "output_type": "execute_result"
    }
   ],
   "source": [
    "passing2 = pd.merge(passing, pass_inflation, how = 'left', on = 'Year')\n",
    "passing2.tail()"
   ]
  },
  {
   "cell_type": "markdown",
   "id": "6bf4c76c",
   "metadata": {},
   "source": [
    "# Adjust stats by inflation"
   ]
  },
  {
   "cell_type": "code",
   "execution_count": 86,
   "id": "c4be550d",
   "metadata": {},
   "outputs": [],
   "source": [
    "adj_ya = passing2['Y/A'] / passing2['Y/A Factor']\n",
    "adj_cmp = passing2['Cmp%'] / passing2['Cmp% Factor']\n",
    "adj_td = passing2['TD%'] / passing2['TD% Factor']\n",
    "adj_int = passing2['Int%'] / passing2['Int% Factor']\n",
    "name = passing2['Name']\n",
    "year = passing2['Year']\n",
    "yards = passing2['Yds']\n",
    "att = passing2['Att']\n",
    "games = passing2['G']\n",
    "age = passing2['Age']\n",
    "cmp = passing2['Cmp']\n",
    "td = passing2['TD']\n",
    "inter = passing2['Int']"
   ]
  },
  {
   "cell_type": "code",
   "execution_count": 87,
   "id": "20ffb305",
   "metadata": {},
   "outputs": [
    {
     "data": {
      "text/html": [
       "<div>\n",
       "<style scoped>\n",
       "    .dataframe tbody tr th:only-of-type {\n",
       "        vertical-align: middle;\n",
       "    }\n",
       "\n",
       "    .dataframe tbody tr th {\n",
       "        vertical-align: top;\n",
       "    }\n",
       "\n",
       "    .dataframe thead th {\n",
       "        text-align: right;\n",
       "    }\n",
       "</style>\n",
       "<table border=\"1\" class=\"dataframe\">\n",
       "  <thead>\n",
       "    <tr style=\"text-align: right;\">\n",
       "      <th></th>\n",
       "      <th>Name</th>\n",
       "      <th>Year</th>\n",
       "      <th>Age</th>\n",
       "      <th>Games</th>\n",
       "      <th>Attempts</th>\n",
       "      <th>Completions</th>\n",
       "      <th>Yards</th>\n",
       "      <th>TD</th>\n",
       "      <th>Int</th>\n",
       "      <th>Adj Y/A</th>\n",
       "      <th>Adj Cmp%</th>\n",
       "      <th>Adj TD%</th>\n",
       "      <th>Adj Int%</th>\n",
       "    </tr>\n",
       "  </thead>\n",
       "  <tbody>\n",
       "    <tr>\n",
       "      <th>0</th>\n",
       "      <td>Fran Tarkenton</td>\n",
       "      <td>1978</td>\n",
       "      <td>38</td>\n",
       "      <td>16</td>\n",
       "      <td>572</td>\n",
       "      <td>345</td>\n",
       "      <td>3468</td>\n",
       "      <td>25</td>\n",
       "      <td>32</td>\n",
       "      <td>6.062937</td>\n",
       "      <td>0.603147</td>\n",
       "      <td>0.043706</td>\n",
       "      <td>0.055944</td>\n",
       "    </tr>\n",
       "    <tr>\n",
       "      <th>1</th>\n",
       "      <td>Archie Manning</td>\n",
       "      <td>1978</td>\n",
       "      <td>29</td>\n",
       "      <td>16</td>\n",
       "      <td>471</td>\n",
       "      <td>291</td>\n",
       "      <td>3416</td>\n",
       "      <td>17</td>\n",
       "      <td>16</td>\n",
       "      <td>7.252654</td>\n",
       "      <td>0.617834</td>\n",
       "      <td>0.036093</td>\n",
       "      <td>0.033970</td>\n",
       "    </tr>\n",
       "    <tr>\n",
       "      <th>2</th>\n",
       "      <td>Jim Zorn</td>\n",
       "      <td>1978</td>\n",
       "      <td>25</td>\n",
       "      <td>16</td>\n",
       "      <td>443</td>\n",
       "      <td>248</td>\n",
       "      <td>3283</td>\n",
       "      <td>15</td>\n",
       "      <td>20</td>\n",
       "      <td>7.410835</td>\n",
       "      <td>0.559819</td>\n",
       "      <td>0.033860</td>\n",
       "      <td>0.045147</td>\n",
       "    </tr>\n",
       "    <tr>\n",
       "      <th>3</th>\n",
       "      <td>Roger Staubach</td>\n",
       "      <td>1978</td>\n",
       "      <td>36</td>\n",
       "      <td>15</td>\n",
       "      <td>413</td>\n",
       "      <td>231</td>\n",
       "      <td>3190</td>\n",
       "      <td>25</td>\n",
       "      <td>16</td>\n",
       "      <td>7.723971</td>\n",
       "      <td>0.559322</td>\n",
       "      <td>0.060533</td>\n",
       "      <td>0.038741</td>\n",
       "    </tr>\n",
       "    <tr>\n",
       "      <th>4</th>\n",
       "      <td>Jim Hart</td>\n",
       "      <td>1978</td>\n",
       "      <td>34</td>\n",
       "      <td>15</td>\n",
       "      <td>477</td>\n",
       "      <td>240</td>\n",
       "      <td>3121</td>\n",
       "      <td>16</td>\n",
       "      <td>18</td>\n",
       "      <td>6.542977</td>\n",
       "      <td>0.503145</td>\n",
       "      <td>0.033543</td>\n",
       "      <td>0.037736</td>\n",
       "    </tr>\n",
       "  </tbody>\n",
       "</table>\n",
       "</div>"
      ],
      "text/plain": [
       "             Name  Year  Age  Games  Attempts  Completions  Yards  TD  Int  \\\n",
       "0  Fran Tarkenton  1978   38     16       572          345   3468  25   32   \n",
       "1  Archie Manning  1978   29     16       471          291   3416  17   16   \n",
       "2        Jim Zorn  1978   25     16       443          248   3283  15   20   \n",
       "3  Roger Staubach  1978   36     15       413          231   3190  25   16   \n",
       "4        Jim Hart  1978   34     15       477          240   3121  16   18   \n",
       "\n",
       "    Adj Y/A  Adj Cmp%   Adj TD%  Adj Int%  \n",
       "0  6.062937  0.603147  0.043706  0.055944  \n",
       "1  7.252654  0.617834  0.036093  0.033970  \n",
       "2  7.410835  0.559819  0.033860  0.045147  \n",
       "3  7.723971  0.559322  0.060533  0.038741  \n",
       "4  6.542977  0.503145  0.033543  0.037736  "
      ]
     },
     "execution_count": 87,
     "metadata": {},
     "output_type": "execute_result"
    }
   ],
   "source": [
    "passing_dict = {'Name': name, 'Year': year, 'Age': age, 'Games': games, 'Attempts': att, 'Completions': cmp, 'Yards': yards, \"TD\": td, 'Int': inter, \"Adj Y/A\": adj_ya, 'Adj Cmp%': adj_cmp, 'Adj TD%': adj_td, 'Adj Int%': adj_int}\n",
    "adj_passing = pd.DataFrame(passing_dict)\n",
    "adj_passing.head()"
   ]
  },
  {
   "cell_type": "code",
   "execution_count": 88,
   "id": "1d201207",
   "metadata": {},
   "outputs": [
    {
     "data": {
      "text/html": [
       "<div>\n",
       "<style scoped>\n",
       "    .dataframe tbody tr th:only-of-type {\n",
       "        vertical-align: middle;\n",
       "    }\n",
       "\n",
       "    .dataframe tbody tr th {\n",
       "        vertical-align: top;\n",
       "    }\n",
       "\n",
       "    .dataframe thead th {\n",
       "        text-align: right;\n",
       "    }\n",
       "</style>\n",
       "<table border=\"1\" class=\"dataframe\">\n",
       "  <thead>\n",
       "    <tr style=\"text-align: right;\">\n",
       "      <th></th>\n",
       "      <th>Name</th>\n",
       "      <th>Year</th>\n",
       "      <th>Age</th>\n",
       "      <th>Games</th>\n",
       "      <th>Attempts</th>\n",
       "      <th>Completions</th>\n",
       "      <th>Yards</th>\n",
       "      <th>TD</th>\n",
       "      <th>Int</th>\n",
       "      <th>Adj Y/A</th>\n",
       "      <th>Adj Cmp%</th>\n",
       "      <th>Adj TD%</th>\n",
       "      <th>Adj Int%</th>\n",
       "    </tr>\n",
       "  </thead>\n",
       "  <tbody>\n",
       "    <tr>\n",
       "      <th>2062</th>\n",
       "      <td>Peyton Manning</td>\n",
       "      <td>1998</td>\n",
       "      <td>22</td>\n",
       "      <td>16</td>\n",
       "      <td>575</td>\n",
       "      <td>326</td>\n",
       "      <td>3739</td>\n",
       "      <td>26</td>\n",
       "      <td>28</td>\n",
       "      <td>6.385329</td>\n",
       "      <td>0.531673</td>\n",
       "      <td>0.042112</td>\n",
       "      <td>0.080048</td>\n",
       "    </tr>\n",
       "    <tr>\n",
       "      <th>2168</th>\n",
       "      <td>Peyton Manning</td>\n",
       "      <td>1999</td>\n",
       "      <td>23</td>\n",
       "      <td>16</td>\n",
       "      <td>533</td>\n",
       "      <td>331</td>\n",
       "      <td>4135</td>\n",
       "      <td>26</td>\n",
       "      <td>15</td>\n",
       "      <td>7.721455</td>\n",
       "      <td>0.577394</td>\n",
       "      <td>0.048640</td>\n",
       "      <td>0.045337</td>\n",
       "    </tr>\n",
       "    <tr>\n",
       "      <th>2267</th>\n",
       "      <td>Peyton Manning</td>\n",
       "      <td>2000</td>\n",
       "      <td>24</td>\n",
       "      <td>16</td>\n",
       "      <td>571</td>\n",
       "      <td>357</td>\n",
       "      <td>4413</td>\n",
       "      <td>33</td>\n",
       "      <td>15</td>\n",
       "      <td>7.703569</td>\n",
       "      <td>0.570285</td>\n",
       "      <td>0.058865</td>\n",
       "      <td>0.043620</td>\n",
       "    </tr>\n",
       "    <tr>\n",
       "      <th>2367</th>\n",
       "      <td>Peyton Manning</td>\n",
       "      <td>2001</td>\n",
       "      <td>25</td>\n",
       "      <td>16</td>\n",
       "      <td>547</td>\n",
       "      <td>343</td>\n",
       "      <td>4131</td>\n",
       "      <td>26</td>\n",
       "      <td>23</td>\n",
       "      <td>7.496154</td>\n",
       "      <td>0.564347</td>\n",
       "      <td>0.047920</td>\n",
       "      <td>0.067438</td>\n",
       "    </tr>\n",
       "    <tr>\n",
       "      <th>2475</th>\n",
       "      <td>Peyton Manning</td>\n",
       "      <td>2002</td>\n",
       "      <td>26</td>\n",
       "      <td>16</td>\n",
       "      <td>591</td>\n",
       "      <td>392</td>\n",
       "      <td>4200</td>\n",
       "      <td>27</td>\n",
       "      <td>19</td>\n",
       "      <td>7.112586</td>\n",
       "      <td>0.590187</td>\n",
       "      <td>0.045036</td>\n",
       "      <td>0.056876</td>\n",
       "    </tr>\n",
       "    <tr>\n",
       "      <th>2580</th>\n",
       "      <td>Peyton Manning</td>\n",
       "      <td>2003</td>\n",
       "      <td>27</td>\n",
       "      <td>16</td>\n",
       "      <td>566</td>\n",
       "      <td>379</td>\n",
       "      <td>4267</td>\n",
       "      <td>29</td>\n",
       "      <td>10</td>\n",
       "      <td>7.639290</td>\n",
       "      <td>0.604572</td>\n",
       "      <td>0.051121</td>\n",
       "      <td>0.029259</td>\n",
       "    </tr>\n",
       "    <tr>\n",
       "      <th>2703</th>\n",
       "      <td>Peyton Manning</td>\n",
       "      <td>2004</td>\n",
       "      <td>28</td>\n",
       "      <td>16</td>\n",
       "      <td>497</td>\n",
       "      <td>336</td>\n",
       "      <td>4557</td>\n",
       "      <td>49</td>\n",
       "      <td>10</td>\n",
       "      <td>8.743888</td>\n",
       "      <td>0.600477</td>\n",
       "      <td>0.087147</td>\n",
       "      <td>0.033923</td>\n",
       "    </tr>\n",
       "    <tr>\n",
       "      <th>2822</th>\n",
       "      <td>Peyton Manning</td>\n",
       "      <td>2005</td>\n",
       "      <td>29</td>\n",
       "      <td>16</td>\n",
       "      <td>453</td>\n",
       "      <td>305</td>\n",
       "      <td>3747</td>\n",
       "      <td>28</td>\n",
       "      <td>10</td>\n",
       "      <td>8.198160</td>\n",
       "      <td>0.600935</td>\n",
       "      <td>0.062518</td>\n",
       "      <td>0.038801</td>\n",
       "    </tr>\n",
       "    <tr>\n",
       "      <th>2915</th>\n",
       "      <td>Peyton Manning</td>\n",
       "      <td>2006</td>\n",
       "      <td>30</td>\n",
       "      <td>16</td>\n",
       "      <td>557</td>\n",
       "      <td>362</td>\n",
       "      <td>4397</td>\n",
       "      <td>31</td>\n",
       "      <td>9</td>\n",
       "      <td>7.749850</td>\n",
       "      <td>0.577072</td>\n",
       "      <td>0.055691</td>\n",
       "      <td>0.027510</td>\n",
       "    </tr>\n",
       "    <tr>\n",
       "      <th>3018</th>\n",
       "      <td>Peyton Manning</td>\n",
       "      <td>2007</td>\n",
       "      <td>31</td>\n",
       "      <td>16</td>\n",
       "      <td>515</td>\n",
       "      <td>337</td>\n",
       "      <td>4040</td>\n",
       "      <td>31</td>\n",
       "      <td>14</td>\n",
       "      <td>7.694557</td>\n",
       "      <td>0.567828</td>\n",
       "      <td>0.056379</td>\n",
       "      <td>0.046874</td>\n",
       "    </tr>\n",
       "    <tr>\n",
       "      <th>3118</th>\n",
       "      <td>Peyton Manning</td>\n",
       "      <td>2008</td>\n",
       "      <td>32</td>\n",
       "      <td>16</td>\n",
       "      <td>555</td>\n",
       "      <td>371</td>\n",
       "      <td>4002</td>\n",
       "      <td>27</td>\n",
       "      <td>12</td>\n",
       "      <td>6.983433</td>\n",
       "      <td>0.581592</td>\n",
       "      <td>0.049238</td>\n",
       "      <td>0.041510</td>\n",
       "    </tr>\n",
       "    <tr>\n",
       "      <th>3217</th>\n",
       "      <td>Peyton Manning</td>\n",
       "      <td>2009</td>\n",
       "      <td>33</td>\n",
       "      <td>16</td>\n",
       "      <td>571</td>\n",
       "      <td>393</td>\n",
       "      <td>4500</td>\n",
       "      <td>33</td>\n",
       "      <td>16</td>\n",
       "      <td>7.591961</td>\n",
       "      <td>0.599872</td>\n",
       "      <td>0.054854</td>\n",
       "      <td>0.049204</td>\n",
       "    </tr>\n",
       "    <tr>\n",
       "      <th>3325</th>\n",
       "      <td>Peyton Manning</td>\n",
       "      <td>2010</td>\n",
       "      <td>34</td>\n",
       "      <td>16</td>\n",
       "      <td>679</td>\n",
       "      <td>450</td>\n",
       "      <td>4700</td>\n",
       "      <td>33</td>\n",
       "      <td>17</td>\n",
       "      <td>6.647129</td>\n",
       "      <td>0.578984</td>\n",
       "      <td>0.044215</td>\n",
       "      <td>0.045707</td>\n",
       "    </tr>\n",
       "    <tr>\n",
       "      <th>3527</th>\n",
       "      <td>Peyton Manning</td>\n",
       "      <td>2012</td>\n",
       "      <td>36</td>\n",
       "      <td>16</td>\n",
       "      <td>583</td>\n",
       "      <td>400</td>\n",
       "      <td>4659</td>\n",
       "      <td>37</td>\n",
       "      <td>11</td>\n",
       "      <td>7.590668</td>\n",
       "      <td>0.597920</td>\n",
       "      <td>0.059001</td>\n",
       "      <td>0.038740</td>\n",
       "    </tr>\n",
       "    <tr>\n",
       "      <th>3607</th>\n",
       "      <td>Peyton Manning</td>\n",
       "      <td>2013</td>\n",
       "      <td>37</td>\n",
       "      <td>16</td>\n",
       "      <td>659</td>\n",
       "      <td>450</td>\n",
       "      <td>5477</td>\n",
       "      <td>55</td>\n",
       "      <td>10</td>\n",
       "      <td>7.847729</td>\n",
       "      <td>0.592026</td>\n",
       "      <td>0.074484</td>\n",
       "      <td>0.029615</td>\n",
       "    </tr>\n",
       "    <tr>\n",
       "      <th>3695</th>\n",
       "      <td>Peyton Manning</td>\n",
       "      <td>2014</td>\n",
       "      <td>38</td>\n",
       "      <td>16</td>\n",
       "      <td>597</td>\n",
       "      <td>395</td>\n",
       "      <td>4727</td>\n",
       "      <td>39</td>\n",
       "      <td>15</td>\n",
       "      <td>7.386500</td>\n",
       "      <td>0.560559</td>\n",
       "      <td>0.057261</td>\n",
       "      <td>0.053926</td>\n",
       "    </tr>\n",
       "    <tr>\n",
       "      <th>3818</th>\n",
       "      <td>Peyton Manning</td>\n",
       "      <td>2015</td>\n",
       "      <td>39</td>\n",
       "      <td>10</td>\n",
       "      <td>331</td>\n",
       "      <td>198</td>\n",
       "      <td>2249</td>\n",
       "      <td>9</td>\n",
       "      <td>17</td>\n",
       "      <td>6.301741</td>\n",
       "      <td>0.503962</td>\n",
       "      <td>0.023378</td>\n",
       "      <td>0.116437</td>\n",
       "    </tr>\n",
       "  </tbody>\n",
       "</table>\n",
       "</div>"
      ],
      "text/plain": [
       "                Name  Year  Age  Games  Attempts  Completions  Yards  TD  Int  \\\n",
       "2062  Peyton Manning  1998   22     16       575          326   3739  26   28   \n",
       "2168  Peyton Manning  1999   23     16       533          331   4135  26   15   \n",
       "2267  Peyton Manning  2000   24     16       571          357   4413  33   15   \n",
       "2367  Peyton Manning  2001   25     16       547          343   4131  26   23   \n",
       "2475  Peyton Manning  2002   26     16       591          392   4200  27   19   \n",
       "2580  Peyton Manning  2003   27     16       566          379   4267  29   10   \n",
       "2703  Peyton Manning  2004   28     16       497          336   4557  49   10   \n",
       "2822  Peyton Manning  2005   29     16       453          305   3747  28   10   \n",
       "2915  Peyton Manning  2006   30     16       557          362   4397  31    9   \n",
       "3018  Peyton Manning  2007   31     16       515          337   4040  31   14   \n",
       "3118  Peyton Manning  2008   32     16       555          371   4002  27   12   \n",
       "3217  Peyton Manning  2009   33     16       571          393   4500  33   16   \n",
       "3325  Peyton Manning  2010   34     16       679          450   4700  33   17   \n",
       "3527  Peyton Manning  2012   36     16       583          400   4659  37   11   \n",
       "3607  Peyton Manning  2013   37     16       659          450   5477  55   10   \n",
       "3695  Peyton Manning  2014   38     16       597          395   4727  39   15   \n",
       "3818  Peyton Manning  2015   39     10       331          198   2249   9   17   \n",
       "\n",
       "       Adj Y/A  Adj Cmp%   Adj TD%  Adj Int%  \n",
       "2062  6.385329  0.531673  0.042112  0.080048  \n",
       "2168  7.721455  0.577394  0.048640  0.045337  \n",
       "2267  7.703569  0.570285  0.058865  0.043620  \n",
       "2367  7.496154  0.564347  0.047920  0.067438  \n",
       "2475  7.112586  0.590187  0.045036  0.056876  \n",
       "2580  7.639290  0.604572  0.051121  0.029259  \n",
       "2703  8.743888  0.600477  0.087147  0.033923  \n",
       "2822  8.198160  0.600935  0.062518  0.038801  \n",
       "2915  7.749850  0.577072  0.055691  0.027510  \n",
       "3018  7.694557  0.567828  0.056379  0.046874  \n",
       "3118  6.983433  0.581592  0.049238  0.041510  \n",
       "3217  7.591961  0.599872  0.054854  0.049204  \n",
       "3325  6.647129  0.578984  0.044215  0.045707  \n",
       "3527  7.590668  0.597920  0.059001  0.038740  \n",
       "3607  7.847729  0.592026  0.074484  0.029615  \n",
       "3695  7.386500  0.560559  0.057261  0.053926  \n",
       "3818  6.301741  0.503962  0.023378  0.116437  "
      ]
     },
     "execution_count": 88,
     "metadata": {},
     "output_type": "execute_result"
    }
   ],
   "source": [
    "adj_passing[adj_passing.Name == 'Peyton Manning']"
   ]
  },
  {
   "cell_type": "code",
   "execution_count": 89,
   "id": "f687f441",
   "metadata": {},
   "outputs": [
    {
     "data": {
      "text/html": [
       "<div>\n",
       "<style scoped>\n",
       "    .dataframe tbody tr th:only-of-type {\n",
       "        vertical-align: middle;\n",
       "    }\n",
       "\n",
       "    .dataframe tbody tr th {\n",
       "        vertical-align: top;\n",
       "    }\n",
       "\n",
       "    .dataframe thead th {\n",
       "        text-align: right;\n",
       "    }\n",
       "</style>\n",
       "<table border=\"1\" class=\"dataframe\">\n",
       "  <thead>\n",
       "    <tr style=\"text-align: right;\">\n",
       "      <th></th>\n",
       "      <th>Name</th>\n",
       "      <th>Year</th>\n",
       "      <th>Age</th>\n",
       "      <th>Tm</th>\n",
       "      <th>G</th>\n",
       "      <th>GS</th>\n",
       "      <th>Cmp</th>\n",
       "      <th>Att</th>\n",
       "      <th>Cmp%</th>\n",
       "      <th>Yds</th>\n",
       "      <th>TD</th>\n",
       "      <th>Int</th>\n",
       "      <th>Int%</th>\n",
       "      <th>Y/A</th>\n",
       "      <th>Y/C</th>\n",
       "      <th>Y/G</th>\n",
       "      <th>Rate</th>\n",
       "      <th>TD%</th>\n",
       "    </tr>\n",
       "  </thead>\n",
       "  <tbody>\n",
       "    <tr>\n",
       "      <th>2062</th>\n",
       "      <td>Peyton Manning</td>\n",
       "      <td>1998</td>\n",
       "      <td>22</td>\n",
       "      <td>IND</td>\n",
       "      <td>16</td>\n",
       "      <td>16</td>\n",
       "      <td>326</td>\n",
       "      <td>575</td>\n",
       "      <td>0.566957</td>\n",
       "      <td>3739</td>\n",
       "      <td>26</td>\n",
       "      <td>28</td>\n",
       "      <td>0.048696</td>\n",
       "      <td>6.502609</td>\n",
       "      <td>11.5</td>\n",
       "      <td>233.7</td>\n",
       "      <td>71.2</td>\n",
       "      <td>0.045217</td>\n",
       "    </tr>\n",
       "    <tr>\n",
       "      <th>2168</th>\n",
       "      <td>Peyton Manning</td>\n",
       "      <td>1999</td>\n",
       "      <td>23</td>\n",
       "      <td>IND</td>\n",
       "      <td>16</td>\n",
       "      <td>16</td>\n",
       "      <td>331</td>\n",
       "      <td>533</td>\n",
       "      <td>0.621013</td>\n",
       "      <td>4135</td>\n",
       "      <td>26</td>\n",
       "      <td>15</td>\n",
       "      <td>0.028143</td>\n",
       "      <td>7.757974</td>\n",
       "      <td>12.5</td>\n",
       "      <td>258.4</td>\n",
       "      <td>90.7</td>\n",
       "      <td>0.048780</td>\n",
       "    </tr>\n",
       "    <tr>\n",
       "      <th>2267</th>\n",
       "      <td>Peyton Manning</td>\n",
       "      <td>2000</td>\n",
       "      <td>24</td>\n",
       "      <td>IND</td>\n",
       "      <td>16</td>\n",
       "      <td>16</td>\n",
       "      <td>357</td>\n",
       "      <td>571</td>\n",
       "      <td>0.625219</td>\n",
       "      <td>4413</td>\n",
       "      <td>33</td>\n",
       "      <td>15</td>\n",
       "      <td>0.026270</td>\n",
       "      <td>7.728546</td>\n",
       "      <td>12.4</td>\n",
       "      <td>275.8</td>\n",
       "      <td>94.7</td>\n",
       "      <td>0.057793</td>\n",
       "    </tr>\n",
       "    <tr>\n",
       "      <th>2367</th>\n",
       "      <td>Peyton Manning</td>\n",
       "      <td>2001</td>\n",
       "      <td>25</td>\n",
       "      <td>IND</td>\n",
       "      <td>16</td>\n",
       "      <td>16</td>\n",
       "      <td>343</td>\n",
       "      <td>547</td>\n",
       "      <td>0.627057</td>\n",
       "      <td>4131</td>\n",
       "      <td>26</td>\n",
       "      <td>23</td>\n",
       "      <td>0.042048</td>\n",
       "      <td>7.552102</td>\n",
       "      <td>12.0</td>\n",
       "      <td>258.2</td>\n",
       "      <td>84.1</td>\n",
       "      <td>0.047532</td>\n",
       "    </tr>\n",
       "    <tr>\n",
       "      <th>2475</th>\n",
       "      <td>Peyton Manning</td>\n",
       "      <td>2002</td>\n",
       "      <td>26</td>\n",
       "      <td>IND</td>\n",
       "      <td>16</td>\n",
       "      <td>16</td>\n",
       "      <td>392</td>\n",
       "      <td>591</td>\n",
       "      <td>0.663283</td>\n",
       "      <td>4200</td>\n",
       "      <td>27</td>\n",
       "      <td>19</td>\n",
       "      <td>0.032149</td>\n",
       "      <td>7.106599</td>\n",
       "      <td>10.7</td>\n",
       "      <td>262.5</td>\n",
       "      <td>88.8</td>\n",
       "      <td>0.045685</td>\n",
       "    </tr>\n",
       "    <tr>\n",
       "      <th>2580</th>\n",
       "      <td>Peyton Manning</td>\n",
       "      <td>2003</td>\n",
       "      <td>27</td>\n",
       "      <td>IND</td>\n",
       "      <td>16</td>\n",
       "      <td>16</td>\n",
       "      <td>379</td>\n",
       "      <td>566</td>\n",
       "      <td>0.669611</td>\n",
       "      <td>4267</td>\n",
       "      <td>29</td>\n",
       "      <td>10</td>\n",
       "      <td>0.017668</td>\n",
       "      <td>7.538869</td>\n",
       "      <td>11.3</td>\n",
       "      <td>266.7</td>\n",
       "      <td>99.0</td>\n",
       "      <td>0.051237</td>\n",
       "    </tr>\n",
       "    <tr>\n",
       "      <th>2703</th>\n",
       "      <td>Peyton Manning</td>\n",
       "      <td>2004</td>\n",
       "      <td>28</td>\n",
       "      <td>IND</td>\n",
       "      <td>16</td>\n",
       "      <td>16</td>\n",
       "      <td>336</td>\n",
       "      <td>497</td>\n",
       "      <td>0.676056</td>\n",
       "      <td>4557</td>\n",
       "      <td>49</td>\n",
       "      <td>10</td>\n",
       "      <td>0.020121</td>\n",
       "      <td>9.169014</td>\n",
       "      <td>13.6</td>\n",
       "      <td>284.8</td>\n",
       "      <td>121.1</td>\n",
       "      <td>0.098592</td>\n",
       "    </tr>\n",
       "    <tr>\n",
       "      <th>2822</th>\n",
       "      <td>Peyton Manning</td>\n",
       "      <td>2005</td>\n",
       "      <td>29</td>\n",
       "      <td>IND</td>\n",
       "      <td>16</td>\n",
       "      <td>16</td>\n",
       "      <td>305</td>\n",
       "      <td>453</td>\n",
       "      <td>0.673289</td>\n",
       "      <td>3747</td>\n",
       "      <td>28</td>\n",
       "      <td>10</td>\n",
       "      <td>0.022075</td>\n",
       "      <td>8.271523</td>\n",
       "      <td>12.3</td>\n",
       "      <td>234.2</td>\n",
       "      <td>104.1</td>\n",
       "      <td>0.061810</td>\n",
       "    </tr>\n",
       "    <tr>\n",
       "      <th>2915</th>\n",
       "      <td>Peyton Manning</td>\n",
       "      <td>2006</td>\n",
       "      <td>30</td>\n",
       "      <td>IND</td>\n",
       "      <td>16</td>\n",
       "      <td>16</td>\n",
       "      <td>362</td>\n",
       "      <td>557</td>\n",
       "      <td>0.649910</td>\n",
       "      <td>4397</td>\n",
       "      <td>31</td>\n",
       "      <td>9</td>\n",
       "      <td>0.016158</td>\n",
       "      <td>7.894075</td>\n",
       "      <td>12.1</td>\n",
       "      <td>274.8</td>\n",
       "      <td>101.0</td>\n",
       "      <td>0.055655</td>\n",
       "    </tr>\n",
       "    <tr>\n",
       "      <th>3018</th>\n",
       "      <td>Peyton Manning</td>\n",
       "      <td>2007</td>\n",
       "      <td>31</td>\n",
       "      <td>IND</td>\n",
       "      <td>16</td>\n",
       "      <td>16</td>\n",
       "      <td>337</td>\n",
       "      <td>515</td>\n",
       "      <td>0.654369</td>\n",
       "      <td>4040</td>\n",
       "      <td>31</td>\n",
       "      <td>14</td>\n",
       "      <td>0.027184</td>\n",
       "      <td>7.844660</td>\n",
       "      <td>12.0</td>\n",
       "      <td>252.5</td>\n",
       "      <td>98.0</td>\n",
       "      <td>0.060194</td>\n",
       "    </tr>\n",
       "    <tr>\n",
       "      <th>3118</th>\n",
       "      <td>Peyton Manning</td>\n",
       "      <td>2008</td>\n",
       "      <td>32</td>\n",
       "      <td>IND</td>\n",
       "      <td>16</td>\n",
       "      <td>16</td>\n",
       "      <td>371</td>\n",
       "      <td>555</td>\n",
       "      <td>0.668468</td>\n",
       "      <td>4002</td>\n",
       "      <td>27</td>\n",
       "      <td>12</td>\n",
       "      <td>0.021622</td>\n",
       "      <td>7.210811</td>\n",
       "      <td>10.8</td>\n",
       "      <td>250.1</td>\n",
       "      <td>95.0</td>\n",
       "      <td>0.048649</td>\n",
       "    </tr>\n",
       "    <tr>\n",
       "      <th>3217</th>\n",
       "      <td>Peyton Manning</td>\n",
       "      <td>2009</td>\n",
       "      <td>33</td>\n",
       "      <td>IND</td>\n",
       "      <td>16</td>\n",
       "      <td>16</td>\n",
       "      <td>393</td>\n",
       "      <td>571</td>\n",
       "      <td>0.688266</td>\n",
       "      <td>4500</td>\n",
       "      <td>33</td>\n",
       "      <td>16</td>\n",
       "      <td>0.028021</td>\n",
       "      <td>7.880911</td>\n",
       "      <td>11.5</td>\n",
       "      <td>281.3</td>\n",
       "      <td>99.9</td>\n",
       "      <td>0.057793</td>\n",
       "    </tr>\n",
       "    <tr>\n",
       "      <th>3325</th>\n",
       "      <td>Peyton Manning</td>\n",
       "      <td>2010</td>\n",
       "      <td>34</td>\n",
       "      <td>IND</td>\n",
       "      <td>16</td>\n",
       "      <td>16</td>\n",
       "      <td>450</td>\n",
       "      <td>679</td>\n",
       "      <td>0.662739</td>\n",
       "      <td>4700</td>\n",
       "      <td>33</td>\n",
       "      <td>17</td>\n",
       "      <td>0.025037</td>\n",
       "      <td>6.921944</td>\n",
       "      <td>10.4</td>\n",
       "      <td>293.8</td>\n",
       "      <td>91.9</td>\n",
       "      <td>0.048601</td>\n",
       "    </tr>\n",
       "    <tr>\n",
       "      <th>3527</th>\n",
       "      <td>Peyton Manning</td>\n",
       "      <td>2012</td>\n",
       "      <td>36</td>\n",
       "      <td>DEN</td>\n",
       "      <td>16</td>\n",
       "      <td>16</td>\n",
       "      <td>400</td>\n",
       "      <td>583</td>\n",
       "      <td>0.686106</td>\n",
       "      <td>4659</td>\n",
       "      <td>37</td>\n",
       "      <td>11</td>\n",
       "      <td>0.018868</td>\n",
       "      <td>7.991424</td>\n",
       "      <td>11.6</td>\n",
       "      <td>291.2</td>\n",
       "      <td>105.8</td>\n",
       "      <td>0.063465</td>\n",
       "    </tr>\n",
       "    <tr>\n",
       "      <th>3607</th>\n",
       "      <td>Peyton Manning</td>\n",
       "      <td>2013</td>\n",
       "      <td>37</td>\n",
       "      <td>DEN</td>\n",
       "      <td>16</td>\n",
       "      <td>16</td>\n",
       "      <td>450</td>\n",
       "      <td>659</td>\n",
       "      <td>0.682853</td>\n",
       "      <td>5477</td>\n",
       "      <td>55</td>\n",
       "      <td>10</td>\n",
       "      <td>0.015175</td>\n",
       "      <td>8.311077</td>\n",
       "      <td>12.2</td>\n",
       "      <td>342.3</td>\n",
       "      <td>115.1</td>\n",
       "      <td>0.083460</td>\n",
       "    </tr>\n",
       "    <tr>\n",
       "      <th>3695</th>\n",
       "      <td>Peyton Manning</td>\n",
       "      <td>2014</td>\n",
       "      <td>38</td>\n",
       "      <td>DEN</td>\n",
       "      <td>16</td>\n",
       "      <td>16</td>\n",
       "      <td>395</td>\n",
       "      <td>597</td>\n",
       "      <td>0.661642</td>\n",
       "      <td>4727</td>\n",
       "      <td>39</td>\n",
       "      <td>15</td>\n",
       "      <td>0.025126</td>\n",
       "      <td>7.917923</td>\n",
       "      <td>12.0</td>\n",
       "      <td>295.4</td>\n",
       "      <td>101.5</td>\n",
       "      <td>0.065327</td>\n",
       "    </tr>\n",
       "    <tr>\n",
       "      <th>3818</th>\n",
       "      <td>Peyton Manning</td>\n",
       "      <td>2015</td>\n",
       "      <td>39</td>\n",
       "      <td>DEN</td>\n",
       "      <td>10</td>\n",
       "      <td>9</td>\n",
       "      <td>198</td>\n",
       "      <td>331</td>\n",
       "      <td>0.598187</td>\n",
       "      <td>2249</td>\n",
       "      <td>9</td>\n",
       "      <td>17</td>\n",
       "      <td>0.051360</td>\n",
       "      <td>6.794562</td>\n",
       "      <td>11.4</td>\n",
       "      <td>224.9</td>\n",
       "      <td>67.9</td>\n",
       "      <td>0.027190</td>\n",
       "    </tr>\n",
       "  </tbody>\n",
       "</table>\n",
       "</div>"
      ],
      "text/plain": [
       "                Name  Year  Age   Tm   G  GS  Cmp  Att      Cmp%   Yds  TD  \\\n",
       "2062  Peyton Manning  1998   22  IND  16  16  326  575  0.566957  3739  26   \n",
       "2168  Peyton Manning  1999   23  IND  16  16  331  533  0.621013  4135  26   \n",
       "2267  Peyton Manning  2000   24  IND  16  16  357  571  0.625219  4413  33   \n",
       "2367  Peyton Manning  2001   25  IND  16  16  343  547  0.627057  4131  26   \n",
       "2475  Peyton Manning  2002   26  IND  16  16  392  591  0.663283  4200  27   \n",
       "2580  Peyton Manning  2003   27  IND  16  16  379  566  0.669611  4267  29   \n",
       "2703  Peyton Manning  2004   28  IND  16  16  336  497  0.676056  4557  49   \n",
       "2822  Peyton Manning  2005   29  IND  16  16  305  453  0.673289  3747  28   \n",
       "2915  Peyton Manning  2006   30  IND  16  16  362  557  0.649910  4397  31   \n",
       "3018  Peyton Manning  2007   31  IND  16  16  337  515  0.654369  4040  31   \n",
       "3118  Peyton Manning  2008   32  IND  16  16  371  555  0.668468  4002  27   \n",
       "3217  Peyton Manning  2009   33  IND  16  16  393  571  0.688266  4500  33   \n",
       "3325  Peyton Manning  2010   34  IND  16  16  450  679  0.662739  4700  33   \n",
       "3527  Peyton Manning  2012   36  DEN  16  16  400  583  0.686106  4659  37   \n",
       "3607  Peyton Manning  2013   37  DEN  16  16  450  659  0.682853  5477  55   \n",
       "3695  Peyton Manning  2014   38  DEN  16  16  395  597  0.661642  4727  39   \n",
       "3818  Peyton Manning  2015   39  DEN  10   9  198  331  0.598187  2249   9   \n",
       "\n",
       "      Int      Int%       Y/A   Y/C    Y/G   Rate       TD%  \n",
       "2062   28  0.048696  6.502609  11.5  233.7   71.2  0.045217  \n",
       "2168   15  0.028143  7.757974  12.5  258.4   90.7  0.048780  \n",
       "2267   15  0.026270  7.728546  12.4  275.8   94.7  0.057793  \n",
       "2367   23  0.042048  7.552102  12.0  258.2   84.1  0.047532  \n",
       "2475   19  0.032149  7.106599  10.7  262.5   88.8  0.045685  \n",
       "2580   10  0.017668  7.538869  11.3  266.7   99.0  0.051237  \n",
       "2703   10  0.020121  9.169014  13.6  284.8  121.1  0.098592  \n",
       "2822   10  0.022075  8.271523  12.3  234.2  104.1  0.061810  \n",
       "2915    9  0.016158  7.894075  12.1  274.8  101.0  0.055655  \n",
       "3018   14  0.027184  7.844660  12.0  252.5   98.0  0.060194  \n",
       "3118   12  0.021622  7.210811  10.8  250.1   95.0  0.048649  \n",
       "3217   16  0.028021  7.880911  11.5  281.3   99.9  0.057793  \n",
       "3325   17  0.025037  6.921944  10.4  293.8   91.9  0.048601  \n",
       "3527   11  0.018868  7.991424  11.6  291.2  105.8  0.063465  \n",
       "3607   10  0.015175  8.311077  12.2  342.3  115.1  0.083460  \n",
       "3695   15  0.025126  7.917923  12.0  295.4  101.5  0.065327  \n",
       "3818   17  0.051360  6.794562  11.4  224.9   67.9  0.027190  "
      ]
     },
     "execution_count": 89,
     "metadata": {},
     "output_type": "execute_result"
    }
   ],
   "source": [
    "passing[passing.Name == 'Peyton Manning']"
   ]
  },
  {
   "cell_type": "markdown",
   "id": "b7e0befb",
   "metadata": {},
   "source": [
    "# Reanalyze Aging"
   ]
  },
  {
   "cell_type": "code",
   "execution_count": 90,
   "id": "2912bda7",
   "metadata": {},
   "outputs": [
    {
     "data": {
      "text/plain": [
       "1593"
      ]
     },
     "execution_count": 90,
     "metadata": {},
     "output_type": "execute_result"
    }
   ],
   "source": [
    "over1000 = (adj_passing['Yards'] >= 1000)\n",
    "adj1000 = adj_passing[over1000]\n",
    "len(adj1000)"
   ]
  },
  {
   "cell_type": "code",
   "execution_count": 91,
   "id": "6d11e784",
   "metadata": {},
   "outputs": [
    {
     "data": {
      "text/plain": [
       "4503"
      ]
     },
     "execution_count": 91,
     "metadata": {},
     "output_type": "execute_result"
    }
   ],
   "source": [
    "len(adj_passing)"
   ]
  },
  {
   "cell_type": "markdown",
   "id": "ef55e0dd",
   "metadata": {},
   "source": [
    "## Is the player active?"
   ]
  },
  {
   "cell_type": "code",
   "execution_count": 92,
   "id": "7906e2f1",
   "metadata": {},
   "outputs": [
    {
     "data": {
      "text/html": [
       "<div>\n",
       "<style scoped>\n",
       "    .dataframe tbody tr th:only-of-type {\n",
       "        vertical-align: middle;\n",
       "    }\n",
       "\n",
       "    .dataframe tbody tr th {\n",
       "        vertical-align: top;\n",
       "    }\n",
       "\n",
       "    .dataframe thead th {\n",
       "        text-align: right;\n",
       "    }\n",
       "</style>\n",
       "<table border=\"1\" class=\"dataframe\">\n",
       "  <thead>\n",
       "    <tr style=\"text-align: right;\">\n",
       "      <th></th>\n",
       "      <th>Name</th>\n",
       "      <th>Final Year</th>\n",
       "    </tr>\n",
       "  </thead>\n",
       "  <tbody>\n",
       "    <tr>\n",
       "      <th>0</th>\n",
       "      <td>A.J. Feeley</td>\n",
       "      <td>2004</td>\n",
       "    </tr>\n",
       "    <tr>\n",
       "      <th>1</th>\n",
       "      <td>Aaron Brooks</td>\n",
       "      <td>2006</td>\n",
       "    </tr>\n",
       "    <tr>\n",
       "      <th>2</th>\n",
       "      <td>Aaron Rodgers</td>\n",
       "      <td>2021</td>\n",
       "    </tr>\n",
       "    <tr>\n",
       "      <th>3</th>\n",
       "      <td>Akili Smith</td>\n",
       "      <td>2000</td>\n",
       "    </tr>\n",
       "    <tr>\n",
       "      <th>4</th>\n",
       "      <td>Alex Smith</td>\n",
       "      <td>2020</td>\n",
       "    </tr>\n",
       "    <tr>\n",
       "      <th>...</th>\n",
       "      <td>...</td>\n",
       "      <td>...</td>\n",
       "    </tr>\n",
       "    <tr>\n",
       "      <th>336</th>\n",
       "      <td>Vinny Testaverde</td>\n",
       "      <td>2004</td>\n",
       "    </tr>\n",
       "    <tr>\n",
       "      <th>337</th>\n",
       "      <td>Wade Wilson</td>\n",
       "      <td>1993</td>\n",
       "    </tr>\n",
       "    <tr>\n",
       "      <th>338</th>\n",
       "      <td>Warren Moon</td>\n",
       "      <td>1998</td>\n",
       "    </tr>\n",
       "    <tr>\n",
       "      <th>339</th>\n",
       "      <td>Zach Mettenberger</td>\n",
       "      <td>2014</td>\n",
       "    </tr>\n",
       "    <tr>\n",
       "      <th>340</th>\n",
       "      <td>Zach Wilson</td>\n",
       "      <td>2021</td>\n",
       "    </tr>\n",
       "  </tbody>\n",
       "</table>\n",
       "<p>341 rows × 2 columns</p>\n",
       "</div>"
      ],
      "text/plain": [
       "                  Name  Final Year\n",
       "0          A.J. Feeley        2004\n",
       "1         Aaron Brooks        2006\n",
       "2        Aaron Rodgers        2021\n",
       "3          Akili Smith        2000\n",
       "4           Alex Smith        2020\n",
       "..                 ...         ...\n",
       "336   Vinny Testaverde        2004\n",
       "337        Wade Wilson        1993\n",
       "338        Warren Moon        1998\n",
       "339  Zach Mettenberger        2014\n",
       "340        Zach Wilson        2021\n",
       "\n",
       "[341 rows x 2 columns]"
      ]
     },
     "execution_count": 92,
     "metadata": {},
     "output_type": "execute_result"
    }
   ],
   "source": [
    "ret_year = adj1000.groupby('Name').agg({'Year': 'max'})\n",
    "ret_year = ret_year.rename(columns = {'Year': 'Final Year'})\n",
    "ret_year.reset_index(inplace = True)\n",
    "ret_year #Really the last year they threw for 1000 yards, not the last year they were active"
   ]
  },
  {
   "cell_type": "code",
   "execution_count": 93,
   "id": "d07d28bb",
   "metadata": {},
   "outputs": [
    {
     "data": {
      "text/html": [
       "<div>\n",
       "<style scoped>\n",
       "    .dataframe tbody tr th:only-of-type {\n",
       "        vertical-align: middle;\n",
       "    }\n",
       "\n",
       "    .dataframe tbody tr th {\n",
       "        vertical-align: top;\n",
       "    }\n",
       "\n",
       "    .dataframe thead th {\n",
       "        text-align: right;\n",
       "    }\n",
       "</style>\n",
       "<table border=\"1\" class=\"dataframe\">\n",
       "  <thead>\n",
       "    <tr style=\"text-align: right;\">\n",
       "      <th></th>\n",
       "      <th>Name</th>\n",
       "      <th>Final Year</th>\n",
       "      <th>Active</th>\n",
       "    </tr>\n",
       "  </thead>\n",
       "  <tbody>\n",
       "    <tr>\n",
       "      <th>0</th>\n",
       "      <td>A.J. Feeley</td>\n",
       "      <td>2004</td>\n",
       "      <td>False</td>\n",
       "    </tr>\n",
       "    <tr>\n",
       "      <th>1</th>\n",
       "      <td>Aaron Brooks</td>\n",
       "      <td>2006</td>\n",
       "      <td>False</td>\n",
       "    </tr>\n",
       "    <tr>\n",
       "      <th>2</th>\n",
       "      <td>Aaron Rodgers</td>\n",
       "      <td>2021</td>\n",
       "      <td>True</td>\n",
       "    </tr>\n",
       "    <tr>\n",
       "      <th>3</th>\n",
       "      <td>Akili Smith</td>\n",
       "      <td>2000</td>\n",
       "      <td>False</td>\n",
       "    </tr>\n",
       "    <tr>\n",
       "      <th>4</th>\n",
       "      <td>Alex Smith</td>\n",
       "      <td>2020</td>\n",
       "      <td>False</td>\n",
       "    </tr>\n",
       "    <tr>\n",
       "      <th>...</th>\n",
       "      <td>...</td>\n",
       "      <td>...</td>\n",
       "      <td>...</td>\n",
       "    </tr>\n",
       "    <tr>\n",
       "      <th>336</th>\n",
       "      <td>Vinny Testaverde</td>\n",
       "      <td>2004</td>\n",
       "      <td>False</td>\n",
       "    </tr>\n",
       "    <tr>\n",
       "      <th>337</th>\n",
       "      <td>Wade Wilson</td>\n",
       "      <td>1993</td>\n",
       "      <td>False</td>\n",
       "    </tr>\n",
       "    <tr>\n",
       "      <th>338</th>\n",
       "      <td>Warren Moon</td>\n",
       "      <td>1998</td>\n",
       "      <td>False</td>\n",
       "    </tr>\n",
       "    <tr>\n",
       "      <th>339</th>\n",
       "      <td>Zach Mettenberger</td>\n",
       "      <td>2014</td>\n",
       "      <td>False</td>\n",
       "    </tr>\n",
       "    <tr>\n",
       "      <th>340</th>\n",
       "      <td>Zach Wilson</td>\n",
       "      <td>2021</td>\n",
       "      <td>True</td>\n",
       "    </tr>\n",
       "  </tbody>\n",
       "</table>\n",
       "<p>341 rows × 3 columns</p>\n",
       "</div>"
      ],
      "text/plain": [
       "                  Name  Final Year  Active\n",
       "0          A.J. Feeley        2004   False\n",
       "1         Aaron Brooks        2006   False\n",
       "2        Aaron Rodgers        2021    True\n",
       "3          Akili Smith        2000   False\n",
       "4           Alex Smith        2020   False\n",
       "..                 ...         ...     ...\n",
       "336   Vinny Testaverde        2004   False\n",
       "337        Wade Wilson        1993   False\n",
       "338        Warren Moon        1998   False\n",
       "339  Zach Mettenberger        2014   False\n",
       "340        Zach Wilson        2021    True\n",
       "\n",
       "[341 rows x 3 columns]"
      ]
     },
     "execution_count": 93,
     "metadata": {},
     "output_type": "execute_result"
    }
   ],
   "source": [
    "active = ret_year['Final Year'] == 2021\n",
    "ret_year['Active'] = active\n",
    "ret_year"
   ]
  },
  {
   "cell_type": "code",
   "execution_count": 94,
   "id": "c7337a41",
   "metadata": {},
   "outputs": [
    {
     "data": {
      "text/html": [
       "<div>\n",
       "<style scoped>\n",
       "    .dataframe tbody tr th:only-of-type {\n",
       "        vertical-align: middle;\n",
       "    }\n",
       "\n",
       "    .dataframe tbody tr th {\n",
       "        vertical-align: top;\n",
       "    }\n",
       "\n",
       "    .dataframe thead th {\n",
       "        text-align: right;\n",
       "    }\n",
       "</style>\n",
       "<table border=\"1\" class=\"dataframe\">\n",
       "  <thead>\n",
       "    <tr style=\"text-align: right;\">\n",
       "      <th></th>\n",
       "      <th>Name</th>\n",
       "      <th>Year</th>\n",
       "      <th>Age</th>\n",
       "      <th>Games</th>\n",
       "      <th>Attempts</th>\n",
       "      <th>Completions</th>\n",
       "      <th>Yards</th>\n",
       "      <th>TD</th>\n",
       "      <th>Int</th>\n",
       "      <th>Adj Y/A</th>\n",
       "      <th>Adj Cmp%</th>\n",
       "      <th>Adj TD%</th>\n",
       "      <th>Adj Int%</th>\n",
       "      <th>Final Year</th>\n",
       "      <th>Active</th>\n",
       "    </tr>\n",
       "  </thead>\n",
       "  <tbody>\n",
       "    <tr>\n",
       "      <th>0</th>\n",
       "      <td>Fran Tarkenton</td>\n",
       "      <td>1978</td>\n",
       "      <td>38</td>\n",
       "      <td>16</td>\n",
       "      <td>572</td>\n",
       "      <td>345</td>\n",
       "      <td>3468</td>\n",
       "      <td>25</td>\n",
       "      <td>32</td>\n",
       "      <td>6.062937</td>\n",
       "      <td>0.603147</td>\n",
       "      <td>0.043706</td>\n",
       "      <td>0.055944</td>\n",
       "      <td>1978</td>\n",
       "      <td>False</td>\n",
       "    </tr>\n",
       "    <tr>\n",
       "      <th>1</th>\n",
       "      <td>Archie Manning</td>\n",
       "      <td>1978</td>\n",
       "      <td>29</td>\n",
       "      <td>16</td>\n",
       "      <td>471</td>\n",
       "      <td>291</td>\n",
       "      <td>3416</td>\n",
       "      <td>17</td>\n",
       "      <td>16</td>\n",
       "      <td>7.252654</td>\n",
       "      <td>0.617834</td>\n",
       "      <td>0.036093</td>\n",
       "      <td>0.033970</td>\n",
       "      <td>1981</td>\n",
       "      <td>False</td>\n",
       "    </tr>\n",
       "    <tr>\n",
       "      <th>2</th>\n",
       "      <td>Jim Zorn</td>\n",
       "      <td>1978</td>\n",
       "      <td>25</td>\n",
       "      <td>16</td>\n",
       "      <td>443</td>\n",
       "      <td>248</td>\n",
       "      <td>3283</td>\n",
       "      <td>15</td>\n",
       "      <td>20</td>\n",
       "      <td>7.410835</td>\n",
       "      <td>0.559819</td>\n",
       "      <td>0.033860</td>\n",
       "      <td>0.045147</td>\n",
       "      <td>1983</td>\n",
       "      <td>False</td>\n",
       "    </tr>\n",
       "    <tr>\n",
       "      <th>3</th>\n",
       "      <td>Roger Staubach</td>\n",
       "      <td>1978</td>\n",
       "      <td>36</td>\n",
       "      <td>15</td>\n",
       "      <td>413</td>\n",
       "      <td>231</td>\n",
       "      <td>3190</td>\n",
       "      <td>25</td>\n",
       "      <td>16</td>\n",
       "      <td>7.723971</td>\n",
       "      <td>0.559322</td>\n",
       "      <td>0.060533</td>\n",
       "      <td>0.038741</td>\n",
       "      <td>1979</td>\n",
       "      <td>False</td>\n",
       "    </tr>\n",
       "    <tr>\n",
       "      <th>4</th>\n",
       "      <td>Jim Hart</td>\n",
       "      <td>1978</td>\n",
       "      <td>34</td>\n",
       "      <td>15</td>\n",
       "      <td>477</td>\n",
       "      <td>240</td>\n",
       "      <td>3121</td>\n",
       "      <td>16</td>\n",
       "      <td>18</td>\n",
       "      <td>6.542977</td>\n",
       "      <td>0.503145</td>\n",
       "      <td>0.033543</td>\n",
       "      <td>0.037736</td>\n",
       "      <td>1981</td>\n",
       "      <td>False</td>\n",
       "    </tr>\n",
       "  </tbody>\n",
       "</table>\n",
       "</div>"
      ],
      "text/plain": [
       "             Name  Year  Age  Games  Attempts  Completions  Yards  TD  Int  \\\n",
       "0  Fran Tarkenton  1978   38     16       572          345   3468  25   32   \n",
       "1  Archie Manning  1978   29     16       471          291   3416  17   16   \n",
       "2        Jim Zorn  1978   25     16       443          248   3283  15   20   \n",
       "3  Roger Staubach  1978   36     15       413          231   3190  25   16   \n",
       "4        Jim Hart  1978   34     15       477          240   3121  16   18   \n",
       "\n",
       "    Adj Y/A  Adj Cmp%   Adj TD%  Adj Int%  Final Year  Active  \n",
       "0  6.062937  0.603147  0.043706  0.055944        1978   False  \n",
       "1  7.252654  0.617834  0.036093  0.033970        1981   False  \n",
       "2  7.410835  0.559819  0.033860  0.045147        1983   False  \n",
       "3  7.723971  0.559322  0.060533  0.038741        1979   False  \n",
       "4  6.542977  0.503145  0.033543  0.037736        1981   False  "
      ]
     },
     "execution_count": 94,
     "metadata": {},
     "output_type": "execute_result"
    }
   ],
   "source": [
    "adj1000_v2 = pd.merge(adj1000, ret_year, how = 'left', on = 'Name')\n",
    "adj1000_v2.head()"
   ]
  },
  {
   "cell_type": "markdown",
   "id": "5c8f2d20",
   "metadata": {},
   "source": [
    "# How old was the player during their final season?"
   ]
  },
  {
   "cell_type": "code",
   "execution_count": 95,
   "id": "8e2a73e3",
   "metadata": {},
   "outputs": [
    {
     "data": {
      "text/html": [
       "<div>\n",
       "<style scoped>\n",
       "    .dataframe tbody tr th:only-of-type {\n",
       "        vertical-align: middle;\n",
       "    }\n",
       "\n",
       "    .dataframe tbody tr th {\n",
       "        vertical-align: top;\n",
       "    }\n",
       "\n",
       "    .dataframe thead th {\n",
       "        text-align: right;\n",
       "    }\n",
       "</style>\n",
       "<table border=\"1\" class=\"dataframe\">\n",
       "  <thead>\n",
       "    <tr style=\"text-align: right;\">\n",
       "      <th></th>\n",
       "      <th>Name</th>\n",
       "      <th>Year</th>\n",
       "      <th>Age</th>\n",
       "      <th>Games</th>\n",
       "      <th>Attempts</th>\n",
       "      <th>Completions</th>\n",
       "      <th>Yards</th>\n",
       "      <th>TD</th>\n",
       "      <th>Int</th>\n",
       "      <th>Adj Y/A</th>\n",
       "      <th>Adj Cmp%</th>\n",
       "      <th>Adj TD%</th>\n",
       "      <th>Adj Int%</th>\n",
       "      <th>Final Year</th>\n",
       "      <th>Active</th>\n",
       "      <th>Ret Age</th>\n",
       "    </tr>\n",
       "  </thead>\n",
       "  <tbody>\n",
       "    <tr>\n",
       "      <th>0</th>\n",
       "      <td>Fran Tarkenton</td>\n",
       "      <td>1978</td>\n",
       "      <td>38</td>\n",
       "      <td>16</td>\n",
       "      <td>572</td>\n",
       "      <td>345</td>\n",
       "      <td>3468</td>\n",
       "      <td>25</td>\n",
       "      <td>32</td>\n",
       "      <td>6.062937</td>\n",
       "      <td>0.603147</td>\n",
       "      <td>0.043706</td>\n",
       "      <td>0.055944</td>\n",
       "      <td>1978</td>\n",
       "      <td>False</td>\n",
       "      <td>38</td>\n",
       "    </tr>\n",
       "    <tr>\n",
       "      <th>1</th>\n",
       "      <td>Archie Manning</td>\n",
       "      <td>1978</td>\n",
       "      <td>29</td>\n",
       "      <td>16</td>\n",
       "      <td>471</td>\n",
       "      <td>291</td>\n",
       "      <td>3416</td>\n",
       "      <td>17</td>\n",
       "      <td>16</td>\n",
       "      <td>7.252654</td>\n",
       "      <td>0.617834</td>\n",
       "      <td>0.036093</td>\n",
       "      <td>0.033970</td>\n",
       "      <td>1981</td>\n",
       "      <td>False</td>\n",
       "      <td>32</td>\n",
       "    </tr>\n",
       "    <tr>\n",
       "      <th>2</th>\n",
       "      <td>Jim Zorn</td>\n",
       "      <td>1978</td>\n",
       "      <td>25</td>\n",
       "      <td>16</td>\n",
       "      <td>443</td>\n",
       "      <td>248</td>\n",
       "      <td>3283</td>\n",
       "      <td>15</td>\n",
       "      <td>20</td>\n",
       "      <td>7.410835</td>\n",
       "      <td>0.559819</td>\n",
       "      <td>0.033860</td>\n",
       "      <td>0.045147</td>\n",
       "      <td>1983</td>\n",
       "      <td>False</td>\n",
       "      <td>30</td>\n",
       "    </tr>\n",
       "    <tr>\n",
       "      <th>3</th>\n",
       "      <td>Roger Staubach</td>\n",
       "      <td>1978</td>\n",
       "      <td>36</td>\n",
       "      <td>15</td>\n",
       "      <td>413</td>\n",
       "      <td>231</td>\n",
       "      <td>3190</td>\n",
       "      <td>25</td>\n",
       "      <td>16</td>\n",
       "      <td>7.723971</td>\n",
       "      <td>0.559322</td>\n",
       "      <td>0.060533</td>\n",
       "      <td>0.038741</td>\n",
       "      <td>1979</td>\n",
       "      <td>False</td>\n",
       "      <td>37</td>\n",
       "    </tr>\n",
       "    <tr>\n",
       "      <th>4</th>\n",
       "      <td>Jim Hart</td>\n",
       "      <td>1978</td>\n",
       "      <td>34</td>\n",
       "      <td>15</td>\n",
       "      <td>477</td>\n",
       "      <td>240</td>\n",
       "      <td>3121</td>\n",
       "      <td>16</td>\n",
       "      <td>18</td>\n",
       "      <td>6.542977</td>\n",
       "      <td>0.503145</td>\n",
       "      <td>0.033543</td>\n",
       "      <td>0.037736</td>\n",
       "      <td>1981</td>\n",
       "      <td>False</td>\n",
       "      <td>37</td>\n",
       "    </tr>\n",
       "  </tbody>\n",
       "</table>\n",
       "</div>"
      ],
      "text/plain": [
       "             Name  Year  Age  Games  Attempts  Completions  Yards  TD  Int  \\\n",
       "0  Fran Tarkenton  1978   38     16       572          345   3468  25   32   \n",
       "1  Archie Manning  1978   29     16       471          291   3416  17   16   \n",
       "2        Jim Zorn  1978   25     16       443          248   3283  15   20   \n",
       "3  Roger Staubach  1978   36     15       413          231   3190  25   16   \n",
       "4        Jim Hart  1978   34     15       477          240   3121  16   18   \n",
       "\n",
       "    Adj Y/A  Adj Cmp%   Adj TD%  Adj Int%  Final Year  Active  Ret Age  \n",
       "0  6.062937  0.603147  0.043706  0.055944        1978   False       38  \n",
       "1  7.252654  0.617834  0.036093  0.033970        1981   False       32  \n",
       "2  7.410835  0.559819  0.033860  0.045147        1983   False       30  \n",
       "3  7.723971  0.559322  0.060533  0.038741        1979   False       37  \n",
       "4  6.542977  0.503145  0.033543  0.037736        1981   False       37  "
      ]
     },
     "execution_count": 95,
     "metadata": {},
     "output_type": "execute_result"
    }
   ],
   "source": [
    "adj1000_v2['Ret Age'] = adj1000_v2['Age'] + adj1000_v2['Final Year'] - adj1000_v2['Year']\n",
    "adj1000_v2.head()"
   ]
  },
  {
   "cell_type": "markdown",
   "id": "cc029b7b",
   "metadata": {},
   "source": [
    "# Isolate Retirees"
   ]
  },
  {
   "cell_type": "code",
   "execution_count": 96,
   "id": "1444930f",
   "metadata": {},
   "outputs": [
    {
     "data": {
      "text/html": [
       "<div>\n",
       "<style scoped>\n",
       "    .dataframe tbody tr th:only-of-type {\n",
       "        vertical-align: middle;\n",
       "    }\n",
       "\n",
       "    .dataframe tbody tr th {\n",
       "        vertical-align: top;\n",
       "    }\n",
       "\n",
       "    .dataframe thead th {\n",
       "        text-align: right;\n",
       "    }\n",
       "</style>\n",
       "<table border=\"1\" class=\"dataframe\">\n",
       "  <thead>\n",
       "    <tr style=\"text-align: right;\">\n",
       "      <th></th>\n",
       "      <th>Name</th>\n",
       "      <th>Year</th>\n",
       "      <th>Age</th>\n",
       "      <th>Games</th>\n",
       "      <th>Attempts</th>\n",
       "      <th>Completions</th>\n",
       "      <th>Yards</th>\n",
       "      <th>TD</th>\n",
       "      <th>Int</th>\n",
       "      <th>Adj Y/A</th>\n",
       "      <th>Adj Cmp%</th>\n",
       "      <th>Adj TD%</th>\n",
       "      <th>Adj Int%</th>\n",
       "      <th>Final Year</th>\n",
       "      <th>Active</th>\n",
       "      <th>Ret Age</th>\n",
       "    </tr>\n",
       "  </thead>\n",
       "  <tbody>\n",
       "    <tr>\n",
       "      <th>1548</th>\n",
       "      <td>Mitchell Trubisky</td>\n",
       "      <td>2020</td>\n",
       "      <td>26</td>\n",
       "      <td>10</td>\n",
       "      <td>297</td>\n",
       "      <td>199</td>\n",
       "      <td>2055</td>\n",
       "      <td>16</td>\n",
       "      <td>8</td>\n",
       "      <td>6.425128</td>\n",
       "      <td>0.545026</td>\n",
       "      <td>0.044091</td>\n",
       "      <td>0.066374</td>\n",
       "      <td>2020</td>\n",
       "      <td>False</td>\n",
       "      <td>26</td>\n",
       "    </tr>\n",
       "    <tr>\n",
       "      <th>1550</th>\n",
       "      <td>Nick Foles</td>\n",
       "      <td>2020</td>\n",
       "      <td>31</td>\n",
       "      <td>9</td>\n",
       "      <td>312</td>\n",
       "      <td>202</td>\n",
       "      <td>1852</td>\n",
       "      <td>10</td>\n",
       "      <td>8</td>\n",
       "      <td>5.512046</td>\n",
       "      <td>0.526644</td>\n",
       "      <td>0.026232</td>\n",
       "      <td>0.063183</td>\n",
       "      <td>2020</td>\n",
       "      <td>False</td>\n",
       "      <td>31</td>\n",
       "    </tr>\n",
       "    <tr>\n",
       "      <th>1552</th>\n",
       "      <td>Alex Smith</td>\n",
       "      <td>2020</td>\n",
       "      <td>36</td>\n",
       "      <td>8</td>\n",
       "      <td>252</td>\n",
       "      <td>168</td>\n",
       "      <td>1582</td>\n",
       "      <td>6</td>\n",
       "      <td>8</td>\n",
       "      <td>5.829514</td>\n",
       "      <td>0.542287</td>\n",
       "      <td>0.019487</td>\n",
       "      <td>0.078226</td>\n",
       "      <td>2020</td>\n",
       "      <td>False</td>\n",
       "      <td>36</td>\n",
       "    </tr>\n",
       "    <tr>\n",
       "      <th>1553</th>\n",
       "      <td>Dwayne Haskins</td>\n",
       "      <td>2020</td>\n",
       "      <td>23</td>\n",
       "      <td>7</td>\n",
       "      <td>241</td>\n",
       "      <td>148</td>\n",
       "      <td>1439</td>\n",
       "      <td>5</td>\n",
       "      <td>7</td>\n",
       "      <td>5.544600</td>\n",
       "      <td>0.499534</td>\n",
       "      <td>0.016980</td>\n",
       "      <td>0.071572</td>\n",
       "      <td>2020</td>\n",
       "      <td>False</td>\n",
       "      <td>23</td>\n",
       "    </tr>\n",
       "    <tr>\n",
       "      <th>1555</th>\n",
       "      <td>Mike Glennon</td>\n",
       "      <td>2020</td>\n",
       "      <td>31</td>\n",
       "      <td>5</td>\n",
       "      <td>179</td>\n",
       "      <td>111</td>\n",
       "      <td>1072</td>\n",
       "      <td>7</td>\n",
       "      <td>5</td>\n",
       "      <td>5.561196</td>\n",
       "      <td>0.504418</td>\n",
       "      <td>0.032006</td>\n",
       "      <td>0.068830</td>\n",
       "      <td>2020</td>\n",
       "      <td>False</td>\n",
       "      <td>31</td>\n",
       "    </tr>\n",
       "  </tbody>\n",
       "</table>\n",
       "</div>"
      ],
      "text/plain": [
       "                   Name  Year  Age  Games  Attempts  Completions  Yards  TD  \\\n",
       "1548  Mitchell Trubisky  2020   26     10       297          199   2055  16   \n",
       "1550         Nick Foles  2020   31      9       312          202   1852  10   \n",
       "1552         Alex Smith  2020   36      8       252          168   1582   6   \n",
       "1553     Dwayne Haskins  2020   23      7       241          148   1439   5   \n",
       "1555       Mike Glennon  2020   31      5       179          111   1072   7   \n",
       "\n",
       "      Int   Adj Y/A  Adj Cmp%   Adj TD%  Adj Int%  Final Year  Active  Ret Age  \n",
       "1548    8  6.425128  0.545026  0.044091  0.066374        2020   False       26  \n",
       "1550    8  5.512046  0.526644  0.026232  0.063183        2020   False       31  \n",
       "1552    8  5.829514  0.542287  0.019487  0.078226        2020   False       36  \n",
       "1553    7  5.544600  0.499534  0.016980  0.071572        2020   False       23  \n",
       "1555    5  5.561196  0.504418  0.032006  0.068830        2020   False       31  "
      ]
     },
     "execution_count": 96,
     "metadata": {},
     "output_type": "execute_result"
    }
   ],
   "source": [
    "ret_only = adj1000_v2[adj1000_v2.Active == False]\n",
    "ret_only.tail() #These are not necessarily all retirees, just players who didn't throw for at least 1000 yards in 2021"
   ]
  },
  {
   "cell_type": "markdown",
   "id": "030b0b4c",
   "metadata": {},
   "source": [
    "# Re-introduce Inflation"
   ]
  },
  {
   "cell_type": "code",
   "execution_count": 97,
   "id": "3fdd4fa6",
   "metadata": {},
   "outputs": [
    {
     "data": {
      "text/html": [
       "<div>\n",
       "<style scoped>\n",
       "    .dataframe tbody tr th:only-of-type {\n",
       "        vertical-align: middle;\n",
       "    }\n",
       "\n",
       "    .dataframe tbody tr th {\n",
       "        vertical-align: top;\n",
       "    }\n",
       "\n",
       "    .dataframe thead th {\n",
       "        text-align: right;\n",
       "    }\n",
       "</style>\n",
       "<table border=\"1\" class=\"dataframe\">\n",
       "  <thead>\n",
       "    <tr style=\"text-align: right;\">\n",
       "      <th></th>\n",
       "      <th>Year</th>\n",
       "      <th>Y/A Factor</th>\n",
       "      <th>Cmp% Factor</th>\n",
       "      <th>TD% Factor</th>\n",
       "      <th>Int% Factor</th>\n",
       "    </tr>\n",
       "  </thead>\n",
       "  <tbody>\n",
       "    <tr>\n",
       "      <th>0</th>\n",
       "      <td>1978</td>\n",
       "      <td>1.000000</td>\n",
       "      <td>1.000000</td>\n",
       "      <td>1.000000</td>\n",
       "      <td>1.000000</td>\n",
       "    </tr>\n",
       "    <tr>\n",
       "      <th>1</th>\n",
       "      <td>1979</td>\n",
       "      <td>1.021521</td>\n",
       "      <td>1.019404</td>\n",
       "      <td>1.047715</td>\n",
       "      <td>0.851491</td>\n",
       "    </tr>\n",
       "    <tr>\n",
       "      <th>2</th>\n",
       "      <td>1980</td>\n",
       "      <td>1.040801</td>\n",
       "      <td>1.058478</td>\n",
       "      <td>1.117624</td>\n",
       "      <td>0.846907</td>\n",
       "    </tr>\n",
       "    <tr>\n",
       "      <th>3</th>\n",
       "      <td>1981</td>\n",
       "      <td>1.045635</td>\n",
       "      <td>1.029134</td>\n",
       "      <td>1.053449</td>\n",
       "      <td>0.795039</td>\n",
       "    </tr>\n",
       "    <tr>\n",
       "      <th>4</th>\n",
       "      <td>1982</td>\n",
       "      <td>1.043163</td>\n",
       "      <td>1.062638</td>\n",
       "      <td>1.019564</td>\n",
       "      <td>0.814395</td>\n",
       "    </tr>\n",
       "  </tbody>\n",
       "</table>\n",
       "</div>"
      ],
      "text/plain": [
       "   Year  Y/A Factor  Cmp% Factor  TD% Factor  Int% Factor\n",
       "0  1978    1.000000     1.000000    1.000000     1.000000\n",
       "1  1979    1.021521     1.019404    1.047715     0.851491\n",
       "2  1980    1.040801     1.058478    1.117624     0.846907\n",
       "3  1981    1.045635     1.029134    1.053449     0.795039\n",
       "4  1982    1.043163     1.062638    1.019564     0.814395"
      ]
     },
     "execution_count": 97,
     "metadata": {},
     "output_type": "execute_result"
    }
   ],
   "source": [
    "pass_inflation.head()"
   ]
  },
  {
   "cell_type": "code",
   "execution_count": 99,
   "id": "4a796d85",
   "metadata": {},
   "outputs": [
    {
     "name": "stderr",
     "output_type": "stream",
     "text": [
      "<ipython-input-99-e65044cb99e7>:1: SettingWithCopyWarning:\n",
      "\n",
      "\n",
      "A value is trying to be set on a copy of a slice from a DataFrame.\n",
      "Try using .loc[row_indexer,col_indexer] = value instead\n",
      "\n",
      "See the caveats in the documentation: https://pandas.pydata.org/pandas-docs/stable/user_guide/indexing.html#returning-a-view-versus-a-copy\n",
      "\n",
      "<ipython-input-99-e65044cb99e7>:2: SettingWithCopyWarning:\n",
      "\n",
      "\n",
      "A value is trying to be set on a copy of a slice from a DataFrame.\n",
      "Try using .loc[row_indexer,col_indexer] = value instead\n",
      "\n",
      "See the caveats in the documentation: https://pandas.pydata.org/pandas-docs/stable/user_guide/indexing.html#returning-a-view-versus-a-copy\n",
      "\n",
      "<ipython-input-99-e65044cb99e7>:3: SettingWithCopyWarning:\n",
      "\n",
      "\n",
      "A value is trying to be set on a copy of a slice from a DataFrame.\n",
      "Try using .loc[row_indexer,col_indexer] = value instead\n",
      "\n",
      "See the caveats in the documentation: https://pandas.pydata.org/pandas-docs/stable/user_guide/indexing.html#returning-a-view-versus-a-copy\n",
      "\n",
      "<ipython-input-99-e65044cb99e7>:4: SettingWithCopyWarning:\n",
      "\n",
      "\n",
      "A value is trying to be set on a copy of a slice from a DataFrame.\n",
      "Try using .loc[row_indexer,col_indexer] = value instead\n",
      "\n",
      "See the caveats in the documentation: https://pandas.pydata.org/pandas-docs/stable/user_guide/indexing.html#returning-a-view-versus-a-copy\n",
      "\n"
     ]
    },
    {
     "data": {
      "text/html": [
       "<div>\n",
       "<style scoped>\n",
       "    .dataframe tbody tr th:only-of-type {\n",
       "        vertical-align: middle;\n",
       "    }\n",
       "\n",
       "    .dataframe tbody tr th {\n",
       "        vertical-align: top;\n",
       "    }\n",
       "\n",
       "    .dataframe thead th {\n",
       "        text-align: right;\n",
       "    }\n",
       "</style>\n",
       "<table border=\"1\" class=\"dataframe\">\n",
       "  <thead>\n",
       "    <tr style=\"text-align: right;\">\n",
       "      <th></th>\n",
       "      <th>Name</th>\n",
       "      <th>Year</th>\n",
       "      <th>Age</th>\n",
       "      <th>Games</th>\n",
       "      <th>Attempts</th>\n",
       "      <th>Completions</th>\n",
       "      <th>Yards</th>\n",
       "      <th>TD</th>\n",
       "      <th>Int</th>\n",
       "      <th>Adj Y/A</th>\n",
       "      <th>Adj Cmp%</th>\n",
       "      <th>Adj TD%</th>\n",
       "      <th>Adj Int%</th>\n",
       "      <th>Final Year</th>\n",
       "      <th>Active</th>\n",
       "      <th>Ret Age</th>\n",
       "      <th>Adj TD</th>\n",
       "      <th>Adj Int</th>\n",
       "      <th>Adj Yards</th>\n",
       "      <th>Adj Comp</th>\n",
       "    </tr>\n",
       "  </thead>\n",
       "  <tbody>\n",
       "    <tr>\n",
       "      <th>0</th>\n",
       "      <td>Fran Tarkenton</td>\n",
       "      <td>1978</td>\n",
       "      <td>38</td>\n",
       "      <td>16</td>\n",
       "      <td>572</td>\n",
       "      <td>345</td>\n",
       "      <td>3468</td>\n",
       "      <td>25</td>\n",
       "      <td>32</td>\n",
       "      <td>6.062937</td>\n",
       "      <td>0.603147</td>\n",
       "      <td>0.043706</td>\n",
       "      <td>0.055944</td>\n",
       "      <td>1978</td>\n",
       "      <td>False</td>\n",
       "      <td>38</td>\n",
       "      <td>25.0</td>\n",
       "      <td>32.0</td>\n",
       "      <td>3468.0</td>\n",
       "      <td>345.0</td>\n",
       "    </tr>\n",
       "    <tr>\n",
       "      <th>1</th>\n",
       "      <td>Archie Manning</td>\n",
       "      <td>1978</td>\n",
       "      <td>29</td>\n",
       "      <td>16</td>\n",
       "      <td>471</td>\n",
       "      <td>291</td>\n",
       "      <td>3416</td>\n",
       "      <td>17</td>\n",
       "      <td>16</td>\n",
       "      <td>7.252654</td>\n",
       "      <td>0.617834</td>\n",
       "      <td>0.036093</td>\n",
       "      <td>0.033970</td>\n",
       "      <td>1981</td>\n",
       "      <td>False</td>\n",
       "      <td>32</td>\n",
       "      <td>17.0</td>\n",
       "      <td>16.0</td>\n",
       "      <td>3416.0</td>\n",
       "      <td>291.0</td>\n",
       "    </tr>\n",
       "    <tr>\n",
       "      <th>2</th>\n",
       "      <td>Jim Zorn</td>\n",
       "      <td>1978</td>\n",
       "      <td>25</td>\n",
       "      <td>16</td>\n",
       "      <td>443</td>\n",
       "      <td>248</td>\n",
       "      <td>3283</td>\n",
       "      <td>15</td>\n",
       "      <td>20</td>\n",
       "      <td>7.410835</td>\n",
       "      <td>0.559819</td>\n",
       "      <td>0.033860</td>\n",
       "      <td>0.045147</td>\n",
       "      <td>1983</td>\n",
       "      <td>False</td>\n",
       "      <td>30</td>\n",
       "      <td>15.0</td>\n",
       "      <td>20.0</td>\n",
       "      <td>3283.0</td>\n",
       "      <td>248.0</td>\n",
       "    </tr>\n",
       "    <tr>\n",
       "      <th>3</th>\n",
       "      <td>Roger Staubach</td>\n",
       "      <td>1978</td>\n",
       "      <td>36</td>\n",
       "      <td>15</td>\n",
       "      <td>413</td>\n",
       "      <td>231</td>\n",
       "      <td>3190</td>\n",
       "      <td>25</td>\n",
       "      <td>16</td>\n",
       "      <td>7.723971</td>\n",
       "      <td>0.559322</td>\n",
       "      <td>0.060533</td>\n",
       "      <td>0.038741</td>\n",
       "      <td>1979</td>\n",
       "      <td>False</td>\n",
       "      <td>37</td>\n",
       "      <td>25.0</td>\n",
       "      <td>16.0</td>\n",
       "      <td>3190.0</td>\n",
       "      <td>231.0</td>\n",
       "    </tr>\n",
       "    <tr>\n",
       "      <th>4</th>\n",
       "      <td>Jim Hart</td>\n",
       "      <td>1978</td>\n",
       "      <td>34</td>\n",
       "      <td>15</td>\n",
       "      <td>477</td>\n",
       "      <td>240</td>\n",
       "      <td>3121</td>\n",
       "      <td>16</td>\n",
       "      <td>18</td>\n",
       "      <td>6.542977</td>\n",
       "      <td>0.503145</td>\n",
       "      <td>0.033543</td>\n",
       "      <td>0.037736</td>\n",
       "      <td>1981</td>\n",
       "      <td>False</td>\n",
       "      <td>37</td>\n",
       "      <td>16.0</td>\n",
       "      <td>18.0</td>\n",
       "      <td>3121.0</td>\n",
       "      <td>240.0</td>\n",
       "    </tr>\n",
       "  </tbody>\n",
       "</table>\n",
       "</div>"
      ],
      "text/plain": [
       "             Name  Year  Age  Games  Attempts  Completions  Yards  TD  Int  \\\n",
       "0  Fran Tarkenton  1978   38     16       572          345   3468  25   32   \n",
       "1  Archie Manning  1978   29     16       471          291   3416  17   16   \n",
       "2        Jim Zorn  1978   25     16       443          248   3283  15   20   \n",
       "3  Roger Staubach  1978   36     15       413          231   3190  25   16   \n",
       "4        Jim Hart  1978   34     15       477          240   3121  16   18   \n",
       "\n",
       "    Adj Y/A  Adj Cmp%   Adj TD%  Adj Int%  Final Year  Active  Ret Age  \\\n",
       "0  6.062937  0.603147  0.043706  0.055944        1978   False       38   \n",
       "1  7.252654  0.617834  0.036093  0.033970        1981   False       32   \n",
       "2  7.410835  0.559819  0.033860  0.045147        1983   False       30   \n",
       "3  7.723971  0.559322  0.060533  0.038741        1979   False       37   \n",
       "4  6.542977  0.503145  0.033543  0.037736        1981   False       37   \n",
       "\n",
       "   Adj TD  Adj Int  Adj Yards  Adj Comp  \n",
       "0    25.0     32.0     3468.0     345.0  \n",
       "1    17.0     16.0     3416.0     291.0  \n",
       "2    15.0     20.0     3283.0     248.0  \n",
       "3    25.0     16.0     3190.0     231.0  \n",
       "4    16.0     18.0     3121.0     240.0  "
      ]
     },
     "execution_count": 99,
     "metadata": {},
     "output_type": "execute_result"
    }
   ],
   "source": [
    "ret_only['Adj TD'] = (ret_only['Attempts'] * ret_only['Adj TD%'])\n",
    "ret_only['Adj Int'] = (ret_only['Attempts'] * ret_only['Adj Int%'])\n",
    "ret_only['Adj Yards'] = (ret_only['Attempts'] * ret_only['Adj Y/A'])\n",
    "ret_only['Adj Comp'] = (ret_only['Attempts'] * ret_only['Adj Cmp%'])\n",
    "ret_only.head()"
   ]
  },
  {
   "cell_type": "markdown",
   "id": "2c8e55b8",
   "metadata": {},
   "source": [
    "# Basic Visualizations"
   ]
  },
  {
   "cell_type": "code",
   "execution_count": 67,
   "id": "063ef027",
   "metadata": {},
   "outputs": [
    {
     "data": {
      "text/plain": [
       "<AxesSubplot:title={'center':'Adj Cmp%'}, xlabel='Age'>"
      ]
     },
     "execution_count": 67,
     "metadata": {},
     "output_type": "execute_result"
    },
    {
     "data": {
      "image/png": "[encoded data removed]",
      "text/plain": [
       "<Figure size 1080x720 with 1 Axes>"
      ]
     },
     "metadata": {
      "needs_background": "light"
     },
     "output_type": "display_data"
    }
   ],
   "source": [
    "ret_only.boxplot(column = 'Adj Cmp%', by = 'Age', figsize = (15,10))"
   ]
  },
  {
   "cell_type": "markdown",
   "id": "fd9948f6",
   "metadata": {},
   "source": [
    "# Group by Retiree Age"
   ]
  },
  {
   "cell_type": "code",
   "execution_count": 100,
   "id": "73b00478",
   "metadata": {},
   "outputs": [
    {
     "data": {
      "text/html": [
       "<div>\n",
       "<style scoped>\n",
       "    .dataframe tbody tr th:only-of-type {\n",
       "        vertical-align: middle;\n",
       "    }\n",
       "\n",
       "    .dataframe tbody tr th {\n",
       "        vertical-align: top;\n",
       "    }\n",
       "\n",
       "    .dataframe thead th {\n",
       "        text-align: right;\n",
       "    }\n",
       "</style>\n",
       "<table border=\"1\" class=\"dataframe\">\n",
       "  <thead>\n",
       "    <tr style=\"text-align: right;\">\n",
       "      <th></th>\n",
       "      <th>Ret Age</th>\n",
       "      <th>Age</th>\n",
       "      <th>Name</th>\n",
       "      <th>Attempts</th>\n",
       "      <th>Adj Comp</th>\n",
       "      <th>Adj Yards</th>\n",
       "      <th>Adj TD</th>\n",
       "      <th>Adj Int</th>\n",
       "    </tr>\n",
       "  </thead>\n",
       "  <tbody>\n",
       "    <tr>\n",
       "      <th>0</th>\n",
       "      <td>21</td>\n",
       "      <td>21</td>\n",
       "      <td>2</td>\n",
       "      <td>869</td>\n",
       "      <td>395.569031</td>\n",
       "      <td>4852.879611</td>\n",
       "      <td>19.350625</td>\n",
       "      <td>80.228777</td>\n",
       "    </tr>\n",
       "    <tr>\n",
       "      <th>1</th>\n",
       "      <td>23</td>\n",
       "      <td>22</td>\n",
       "      <td>3</td>\n",
       "      <td>708</td>\n",
       "      <td>360.809841</td>\n",
       "      <td>4182.245927</td>\n",
       "      <td>19.907429</td>\n",
       "      <td>49.017178</td>\n",
       "    </tr>\n",
       "    <tr>\n",
       "      <th>2</th>\n",
       "      <td>23</td>\n",
       "      <td>23</td>\n",
       "      <td>17</td>\n",
       "      <td>4739</td>\n",
       "      <td>2386.341266</td>\n",
       "      <td>29581.718057</td>\n",
       "      <td>142.184917</td>\n",
       "      <td>296.605201</td>\n",
       "    </tr>\n",
       "    <tr>\n",
       "      <th>3</th>\n",
       "      <td>24</td>\n",
       "      <td>21</td>\n",
       "      <td>1</td>\n",
       "      <td>290</td>\n",
       "      <td>137.707947</td>\n",
       "      <td>1786.987367</td>\n",
       "      <td>9.491407</td>\n",
       "      <td>31.607139</td>\n",
       "    </tr>\n",
       "    <tr>\n",
       "      <th>4</th>\n",
       "      <td>24</td>\n",
       "      <td>22</td>\n",
       "      <td>3</td>\n",
       "      <td>1112</td>\n",
       "      <td>583.155064</td>\n",
       "      <td>7619.266345</td>\n",
       "      <td>43.199943</td>\n",
       "      <td>45.877039</td>\n",
       "    </tr>\n",
       "    <tr>\n",
       "      <th>...</th>\n",
       "      <td>...</td>\n",
       "      <td>...</td>\n",
       "      <td>...</td>\n",
       "      <td>...</td>\n",
       "      <td>...</td>\n",
       "      <td>...</td>\n",
       "      <td>...</td>\n",
       "      <td>...</td>\n",
       "    </tr>\n",
       "    <tr>\n",
       "      <th>212</th>\n",
       "      <td>42</td>\n",
       "      <td>38</td>\n",
       "      <td>1</td>\n",
       "      <td>601</td>\n",
       "      <td>339.230628</td>\n",
       "      <td>4237.904650</td>\n",
       "      <td>18.391255</td>\n",
       "      <td>32.601508</td>\n",
       "    </tr>\n",
       "    <tr>\n",
       "      <th>213</th>\n",
       "      <td>42</td>\n",
       "      <td>39</td>\n",
       "      <td>1</td>\n",
       "      <td>606</td>\n",
       "      <td>343.853059</td>\n",
       "      <td>4199.641884</td>\n",
       "      <td>32.884307</td>\n",
       "      <td>24.666150</td>\n",
       "    </tr>\n",
       "    <tr>\n",
       "      <th>214</th>\n",
       "      <td>42</td>\n",
       "      <td>40</td>\n",
       "      <td>1</td>\n",
       "      <td>247</td>\n",
       "      <td>123.447073</td>\n",
       "      <td>1620.864521</td>\n",
       "      <td>7.063463</td>\n",
       "      <td>14.321621</td>\n",
       "    </tr>\n",
       "    <tr>\n",
       "      <th>215</th>\n",
       "      <td>42</td>\n",
       "      <td>41</td>\n",
       "      <td>1</td>\n",
       "      <td>528</td>\n",
       "      <td>295.440477</td>\n",
       "      <td>3695.424446</td>\n",
       "      <td>25.214698</td>\n",
       "      <td>28.381700</td>\n",
       "    </tr>\n",
       "    <tr>\n",
       "      <th>216</th>\n",
       "      <td>42</td>\n",
       "      <td>42</td>\n",
       "      <td>1</td>\n",
       "      <td>258</td>\n",
       "      <td>135.976292</td>\n",
       "      <td>1602.565636</td>\n",
       "      <td>10.244435</td>\n",
       "      <td>13.150686</td>\n",
       "    </tr>\n",
       "  </tbody>\n",
       "</table>\n",
       "<p>217 rows × 8 columns</p>\n",
       "</div>"
      ],
      "text/plain": [
       "     Ret Age  Age  Name  Attempts     Adj Comp     Adj Yards      Adj TD  \\\n",
       "0         21   21     2       869   395.569031   4852.879611   19.350625   \n",
       "1         23   22     3       708   360.809841   4182.245927   19.907429   \n",
       "2         23   23    17      4739  2386.341266  29581.718057  142.184917   \n",
       "3         24   21     1       290   137.707947   1786.987367    9.491407   \n",
       "4         24   22     3      1112   583.155064   7619.266345   43.199943   \n",
       "..       ...  ...   ...       ...          ...           ...         ...   \n",
       "212       42   38     1       601   339.230628   4237.904650   18.391255   \n",
       "213       42   39     1       606   343.853059   4199.641884   32.884307   \n",
       "214       42   40     1       247   123.447073   1620.864521    7.063463   \n",
       "215       42   41     1       528   295.440477   3695.424446   25.214698   \n",
       "216       42   42     1       258   135.976292   1602.565636   10.244435   \n",
       "\n",
       "        Adj Int  \n",
       "0     80.228777  \n",
       "1     49.017178  \n",
       "2    296.605201  \n",
       "3     31.607139  \n",
       "4     45.877039  \n",
       "..          ...  \n",
       "212   32.601508  \n",
       "213   24.666150  \n",
       "214   14.321621  \n",
       "215   28.381700  \n",
       "216   13.150686  \n",
       "\n",
       "[217 rows x 8 columns]"
      ]
     },
     "execution_count": 100,
     "metadata": {},
     "output_type": "execute_result"
    }
   ],
   "source": [
    "ret_passing = ret_only.groupby(['Ret Age', 'Age']).agg({'Name': 'count', 'Attempts': 'sum', 'Adj Comp': 'sum', 'Adj Yards': 'sum', 'Adj TD': 'sum', 'Adj Int': 'sum'})\n",
    "ret_passing.reset_index(inplace = True)\n",
    "ret_passing"
   ]
  },
  {
   "cell_type": "code",
   "execution_count": 101,
   "id": "09a340f7",
   "metadata": {},
   "outputs": [
    {
     "data": {
      "text/html": [
       "<div>\n",
       "<style scoped>\n",
       "    .dataframe tbody tr th:only-of-type {\n",
       "        vertical-align: middle;\n",
       "    }\n",
       "\n",
       "    .dataframe tbody tr th {\n",
       "        vertical-align: top;\n",
       "    }\n",
       "\n",
       "    .dataframe thead th {\n",
       "        text-align: right;\n",
       "    }\n",
       "</style>\n",
       "<table border=\"1\" class=\"dataframe\">\n",
       "  <thead>\n",
       "    <tr style=\"text-align: right;\">\n",
       "      <th></th>\n",
       "      <th>Name</th>\n",
       "      <th>Year</th>\n",
       "      <th>Age</th>\n",
       "      <th>Games</th>\n",
       "      <th>Attempts</th>\n",
       "      <th>Completions</th>\n",
       "      <th>Yards</th>\n",
       "      <th>TD</th>\n",
       "      <th>Int</th>\n",
       "      <th>Adj Y/A</th>\n",
       "      <th>Adj Cmp%</th>\n",
       "      <th>Adj TD%</th>\n",
       "      <th>Adj Int%</th>\n",
       "      <th>Final Year</th>\n",
       "      <th>Active</th>\n",
       "      <th>Ret Age</th>\n",
       "      <th>Adj TD</th>\n",
       "      <th>Adj Int</th>\n",
       "      <th>Adj Yards</th>\n",
       "      <th>Adj Comp</th>\n",
       "    </tr>\n",
       "  </thead>\n",
       "  <tbody>\n",
       "    <tr>\n",
       "      <th>508</th>\n",
       "      <td>Drew Bledsoe</td>\n",
       "      <td>1993</td>\n",
       "      <td>21</td>\n",
       "      <td>13</td>\n",
       "      <td>429</td>\n",
       "      <td>214</td>\n",
       "      <td>2494</td>\n",
       "      <td>15</td>\n",
       "      <td>15</td>\n",
       "      <td>5.840792</td>\n",
       "      <td>0.456957</td>\n",
       "      <td>0.038568</td>\n",
       "      <td>0.058049</td>\n",
       "      <td>2006</td>\n",
       "      <td>False</td>\n",
       "      <td>34</td>\n",
       "      <td>16.545620</td>\n",
       "      <td>24.903235</td>\n",
       "      <td>2505.699733</td>\n",
       "      <td>196.034761</td>\n",
       "    </tr>\n",
       "    <tr>\n",
       "      <th>1127</th>\n",
       "      <td>Josh Freeman</td>\n",
       "      <td>2009</td>\n",
       "      <td>21</td>\n",
       "      <td>10</td>\n",
       "      <td>290</td>\n",
       "      <td>158</td>\n",
       "      <td>1855</td>\n",
       "      <td>10</td>\n",
       "      <td>18</td>\n",
       "      <td>6.162025</td>\n",
       "      <td>0.474855</td>\n",
       "      <td>0.032729</td>\n",
       "      <td>0.108990</td>\n",
       "      <td>2012</td>\n",
       "      <td>False</td>\n",
       "      <td>24</td>\n",
       "      <td>9.491407</td>\n",
       "      <td>31.607139</td>\n",
       "      <td>1786.987367</td>\n",
       "      <td>137.707947</td>\n",
       "    </tr>\n",
       "    <tr>\n",
       "      <th>1426</th>\n",
       "      <td>DeShone Kizer</td>\n",
       "      <td>2017</td>\n",
       "      <td>21</td>\n",
       "      <td>15</td>\n",
       "      <td>476</td>\n",
       "      <td>255</td>\n",
       "      <td>2894</td>\n",
       "      <td>11</td>\n",
       "      <td>22</td>\n",
       "      <td>5.828923</td>\n",
       "      <td>0.458012</td>\n",
       "      <td>0.021578</td>\n",
       "      <td>0.101541</td>\n",
       "      <td>2017</td>\n",
       "      <td>False</td>\n",
       "      <td>21</td>\n",
       "      <td>10.270993</td>\n",
       "      <td>48.333383</td>\n",
       "      <td>2774.567343</td>\n",
       "      <td>218.013692</td>\n",
       "    </tr>\n",
       "    <tr>\n",
       "      <th>1470</th>\n",
       "      <td>Josh Rosen</td>\n",
       "      <td>2018</td>\n",
       "      <td>21</td>\n",
       "      <td>14</td>\n",
       "      <td>393</td>\n",
       "      <td>217</td>\n",
       "      <td>2278</td>\n",
       "      <td>11</td>\n",
       "      <td>14</td>\n",
       "      <td>5.288326</td>\n",
       "      <td>0.451795</td>\n",
       "      <td>0.023103</td>\n",
       "      <td>0.081159</td>\n",
       "      <td>2018</td>\n",
       "      <td>False</td>\n",
       "      <td>21</td>\n",
       "      <td>9.079632</td>\n",
       "      <td>31.895394</td>\n",
       "      <td>2078.312268</td>\n",
       "      <td>177.555339</td>\n",
       "    </tr>\n",
       "  </tbody>\n",
       "</table>\n",
       "</div>"
      ],
      "text/plain": [
       "               Name  Year  Age  Games  Attempts  Completions  Yards  TD  Int  \\\n",
       "508    Drew Bledsoe  1993   21     13       429          214   2494  15   15   \n",
       "1127   Josh Freeman  2009   21     10       290          158   1855  10   18   \n",
       "1426  DeShone Kizer  2017   21     15       476          255   2894  11   22   \n",
       "1470     Josh Rosen  2018   21     14       393          217   2278  11   14   \n",
       "\n",
       "       Adj Y/A  Adj Cmp%   Adj TD%  Adj Int%  Final Year  Active  Ret Age  \\\n",
       "508   5.840792  0.456957  0.038568  0.058049        2006   False       34   \n",
       "1127  6.162025  0.474855  0.032729  0.108990        2012   False       24   \n",
       "1426  5.828923  0.458012  0.021578  0.101541        2017   False       21   \n",
       "1470  5.288326  0.451795  0.023103  0.081159        2018   False       21   \n",
       "\n",
       "         Adj TD    Adj Int    Adj Yards    Adj Comp  \n",
       "508   16.545620  24.903235  2505.699733  196.034761  \n",
       "1127   9.491407  31.607139  1786.987367  137.707947  \n",
       "1426  10.270993  48.333383  2774.567343  218.013692  \n",
       "1470   9.079632  31.895394  2078.312268  177.555339  "
      ]
     },
     "execution_count": 101,
     "metadata": {},
     "output_type": "execute_result"
    }
   ],
   "source": [
    "ret_only[ret_only.Age == 21]"
   ]
  },
  {
   "cell_type": "code",
   "execution_count": 102,
   "id": "1e8a9de3",
   "metadata": {},
   "outputs": [
    {
     "data": {
      "text/html": [
       "<div>\n",
       "<style scoped>\n",
       "    .dataframe tbody tr th:only-of-type {\n",
       "        vertical-align: middle;\n",
       "    }\n",
       "\n",
       "    .dataframe tbody tr th {\n",
       "        vertical-align: top;\n",
       "    }\n",
       "\n",
       "    .dataframe thead th {\n",
       "        text-align: right;\n",
       "    }\n",
       "</style>\n",
       "<table border=\"1\" class=\"dataframe\">\n",
       "  <thead>\n",
       "    <tr style=\"text-align: right;\">\n",
       "      <th></th>\n",
       "      <th>Ret Age</th>\n",
       "      <th>Age</th>\n",
       "      <th>Name</th>\n",
       "      <th>Attempts</th>\n",
       "      <th>Adj Comp</th>\n",
       "      <th>Adj Yards</th>\n",
       "      <th>Adj TD</th>\n",
       "      <th>Adj Int</th>\n",
       "      <th>Cmp%</th>\n",
       "      <th>Y/A</th>\n",
       "      <th>TD%</th>\n",
       "      <th>Int%</th>\n",
       "    </tr>\n",
       "  </thead>\n",
       "  <tbody>\n",
       "    <tr>\n",
       "      <th>0</th>\n",
       "      <td>21</td>\n",
       "      <td>21</td>\n",
       "      <td>2</td>\n",
       "      <td>869</td>\n",
       "      <td>395.569031</td>\n",
       "      <td>4852.879611</td>\n",
       "      <td>19.350625</td>\n",
       "      <td>80.228777</td>\n",
       "      <td>0.455200</td>\n",
       "      <td>5.584441</td>\n",
       "      <td>0.022268</td>\n",
       "      <td>0.092323</td>\n",
       "    </tr>\n",
       "    <tr>\n",
       "      <th>1</th>\n",
       "      <td>23</td>\n",
       "      <td>22</td>\n",
       "      <td>3</td>\n",
       "      <td>708</td>\n",
       "      <td>360.809841</td>\n",
       "      <td>4182.245927</td>\n",
       "      <td>19.907429</td>\n",
       "      <td>49.017178</td>\n",
       "      <td>0.509618</td>\n",
       "      <td>5.907127</td>\n",
       "      <td>0.028118</td>\n",
       "      <td>0.069233</td>\n",
       "    </tr>\n",
       "    <tr>\n",
       "      <th>2</th>\n",
       "      <td>23</td>\n",
       "      <td>23</td>\n",
       "      <td>17</td>\n",
       "      <td>4739</td>\n",
       "      <td>2386.341266</td>\n",
       "      <td>29581.718057</td>\n",
       "      <td>142.184917</td>\n",
       "      <td>296.605201</td>\n",
       "      <td>0.503554</td>\n",
       "      <td>6.242186</td>\n",
       "      <td>0.030003</td>\n",
       "      <td>0.062588</td>\n",
       "    </tr>\n",
       "    <tr>\n",
       "      <th>3</th>\n",
       "      <td>24</td>\n",
       "      <td>21</td>\n",
       "      <td>1</td>\n",
       "      <td>290</td>\n",
       "      <td>137.707947</td>\n",
       "      <td>1786.987367</td>\n",
       "      <td>9.491407</td>\n",
       "      <td>31.607139</td>\n",
       "      <td>0.474855</td>\n",
       "      <td>6.162025</td>\n",
       "      <td>0.032729</td>\n",
       "      <td>0.108990</td>\n",
       "    </tr>\n",
       "    <tr>\n",
       "      <th>4</th>\n",
       "      <td>24</td>\n",
       "      <td>22</td>\n",
       "      <td>3</td>\n",
       "      <td>1112</td>\n",
       "      <td>583.155064</td>\n",
       "      <td>7619.266345</td>\n",
       "      <td>43.199943</td>\n",
       "      <td>45.877039</td>\n",
       "      <td>0.524420</td>\n",
       "      <td>6.851858</td>\n",
       "      <td>0.038849</td>\n",
       "      <td>0.041256</td>\n",
       "    </tr>\n",
       "  </tbody>\n",
       "</table>\n",
       "</div>"
      ],
      "text/plain": [
       "   Ret Age  Age  Name  Attempts     Adj Comp     Adj Yards      Adj TD  \\\n",
       "0       21   21     2       869   395.569031   4852.879611   19.350625   \n",
       "1       23   22     3       708   360.809841   4182.245927   19.907429   \n",
       "2       23   23    17      4739  2386.341266  29581.718057  142.184917   \n",
       "3       24   21     1       290   137.707947   1786.987367    9.491407   \n",
       "4       24   22     3      1112   583.155064   7619.266345   43.199943   \n",
       "\n",
       "      Adj Int      Cmp%       Y/A       TD%      Int%  \n",
       "0   80.228777  0.455200  5.584441  0.022268  0.092323  \n",
       "1   49.017178  0.509618  5.907127  0.028118  0.069233  \n",
       "2  296.605201  0.503554  6.242186  0.030003  0.062588  \n",
       "3   31.607139  0.474855  6.162025  0.032729  0.108990  \n",
       "4   45.877039  0.524420  6.851858  0.038849  0.041256  "
      ]
     },
     "execution_count": 102,
     "metadata": {},
     "output_type": "execute_result"
    }
   ],
   "source": [
    "ret_passing['Cmp%'] = ret_passing['Adj Comp'] / ret_passing['Attempts']\n",
    "ret_passing['Y/A'] = ret_passing['Adj Yards'] / ret_passing['Attempts']\n",
    "ret_passing['TD%'] = ret_passing['Adj TD'] / ret_passing['Attempts']\n",
    "ret_passing['Int%'] = ret_passing['Adj Int'] / ret_passing['Attempts']\n",
    "ret_passing.head()"
   ]
  },
  {
   "cell_type": "code",
   "execution_count": 108,
   "id": "f0a09eb0",
   "metadata": {},
   "outputs": [
    {
     "data": {
      "text/html": [
       "<div>\n",
       "<style scoped>\n",
       "    .dataframe tbody tr th:only-of-type {\n",
       "        vertical-align: middle;\n",
       "    }\n",
       "\n",
       "    .dataframe tbody tr th {\n",
       "        vertical-align: top;\n",
       "    }\n",
       "\n",
       "    .dataframe thead th {\n",
       "        text-align: right;\n",
       "    }\n",
       "</style>\n",
       "<table border=\"1\" class=\"dataframe\">\n",
       "  <thead>\n",
       "    <tr style=\"text-align: right;\">\n",
       "      <th></th>\n",
       "      <th>Name</th>\n",
       "    </tr>\n",
       "    <tr>\n",
       "      <th>Ret Age</th>\n",
       "      <th></th>\n",
       "    </tr>\n",
       "  </thead>\n",
       "  <tbody>\n",
       "    <tr>\n",
       "      <th>21</th>\n",
       "      <td>2</td>\n",
       "    </tr>\n",
       "    <tr>\n",
       "      <th>23</th>\n",
       "      <td>17</td>\n",
       "    </tr>\n",
       "    <tr>\n",
       "      <th>24</th>\n",
       "      <td>23</td>\n",
       "    </tr>\n",
       "    <tr>\n",
       "      <th>25</th>\n",
       "      <td>27</td>\n",
       "    </tr>\n",
       "    <tr>\n",
       "      <th>26</th>\n",
       "      <td>26</td>\n",
       "    </tr>\n",
       "    <tr>\n",
       "      <th>27</th>\n",
       "      <td>20</td>\n",
       "    </tr>\n",
       "    <tr>\n",
       "      <th>28</th>\n",
       "      <td>21</td>\n",
       "    </tr>\n",
       "    <tr>\n",
       "      <th>29</th>\n",
       "      <td>17</td>\n",
       "    </tr>\n",
       "    <tr>\n",
       "      <th>30</th>\n",
       "      <td>20</td>\n",
       "    </tr>\n",
       "    <tr>\n",
       "      <th>31</th>\n",
       "      <td>16</td>\n",
       "    </tr>\n",
       "    <tr>\n",
       "      <th>32</th>\n",
       "      <td>23</td>\n",
       "    </tr>\n",
       "    <tr>\n",
       "      <th>33</th>\n",
       "      <td>17</td>\n",
       "    </tr>\n",
       "    <tr>\n",
       "      <th>34</th>\n",
       "      <td>19</td>\n",
       "    </tr>\n",
       "    <tr>\n",
       "      <th>35</th>\n",
       "      <td>9</td>\n",
       "    </tr>\n",
       "    <tr>\n",
       "      <th>36</th>\n",
       "      <td>12</td>\n",
       "    </tr>\n",
       "    <tr>\n",
       "      <th>37</th>\n",
       "      <td>6</td>\n",
       "    </tr>\n",
       "    <tr>\n",
       "      <th>38</th>\n",
       "      <td>19</td>\n",
       "    </tr>\n",
       "    <tr>\n",
       "      <th>39</th>\n",
       "      <td>4</td>\n",
       "    </tr>\n",
       "    <tr>\n",
       "      <th>40</th>\n",
       "      <td>2</td>\n",
       "    </tr>\n",
       "    <tr>\n",
       "      <th>41</th>\n",
       "      <td>4</td>\n",
       "    </tr>\n",
       "    <tr>\n",
       "      <th>42</th>\n",
       "      <td>1</td>\n",
       "    </tr>\n",
       "  </tbody>\n",
       "</table>\n",
       "</div>"
      ],
      "text/plain": [
       "         Name\n",
       "Ret Age      \n",
       "21          2\n",
       "23         17\n",
       "24         23\n",
       "25         27\n",
       "26         26\n",
       "27         20\n",
       "28         21\n",
       "29         17\n",
       "30         20\n",
       "31         16\n",
       "32         23\n",
       "33         17\n",
       "34         19\n",
       "35          9\n",
       "36         12\n",
       "37          6\n",
       "38         19\n",
       "39          4\n",
       "40          2\n",
       "41          4\n",
       "42          1"
      ]
     },
     "execution_count": 108,
     "metadata": {},
     "output_type": "execute_result"
    }
   ],
   "source": [
    "retirement_season = (ret_passing['Ret Age'] == ret_passing['Age'])\n",
    "ret_passing[retirement_season].groupby('Ret Age').agg({'Name': 'sum'})"
   ]
  },
  {
   "cell_type": "markdown",
   "id": "e8608043",
   "metadata": {},
   "source": [
    "# More visualizations"
   ]
  },
  {
   "cell_type": "code",
   "execution_count": 103,
   "id": "ded2c2fa",
   "metadata": {},
   "outputs": [
    {
     "data": {
      "application/vnd.plotly.v1+json": {
       "config": {
        "plotlyServerURL": "https://plot.ly"
       },
       "data": [
        {
         "hovertemplate": "Ret Age=21<br>Age=%{x}<br>Cmp%=%{y}<extra></extra>",
         "legendgroup": "21",
         "line": {
          "color": "#636efa",
          "dash": "solid"
         },
         "mode": "lines",
         "name": "21",
         "orientation": "v",
         "showlegend": true,
         "type": "scatter",
         "x": [
          21
         ],
         "xaxis": "x",
         "y": [
          0.45520026616735854
         ],
         "yaxis": "y"
        },
        {
         "hovertemplate": "Ret Age=23<br>Age=%{x}<br>Cmp%=%{y}<extra></extra>",
         "legendgroup": "23",
         "line": {
          "color": "#EF553B",
          "dash": "solid"
         },
         "mode": "lines",
         "name": "23",
         "orientation": "v",
         "showlegend": true,
         "type": "scatter",
         "x": [
          22,
          23
         ],
         "xaxis": "x",
         "y": [
          0.5096184194612731,
          0.5035537593581006
         ],
         "yaxis": "y"
        },
        {
         "hovertemplate": "Ret Age=24<br>Age=%{x}<br>Cmp%=%{y}<extra></extra>",
         "legendgroup": "24",
         "line": {
          "color": "#00cc96",
          "dash": "solid"
         },
         "mode": "lines",
         "name": "24",
         "orientation": "v",
         "showlegend": true,
         "type": "scatter",
         "x": [
          21,
          22,
          23,
          24
         ],
         "xaxis": "x",
         "y": [
          0.47485499088862665,
          0.5244200215539838,
          0.5086510578431935,
          0.4966520635337764
         ],
         "yaxis": "y"
        },
        {
         "hovertemplate": "Ret Age=25<br>Age=%{x}<br>Cmp%=%{y}<extra></extra>",
         "legendgroup": "25",
         "line": {
          "color": "#ab63fa",
          "dash": "solid"
         },
         "mode": "lines",
         "name": "25",
         "orientation": "v",
         "showlegend": true,
         "type": "scatter",
         "x": [
          22,
          23,
          24,
          25
         ],
         "xaxis": "x",
         "y": [
          0.4992504867864389,
          0.5004367053635204,
          0.5074853158764907,
          0.5134929997111715
         ],
         "yaxis": "y"
        },
        {
         "hovertemplate": "Ret Age=26<br>Age=%{x}<br>Cmp%=%{y}<extra></extra>",
         "legendgroup": "26",
         "line": {
          "color": "#FFA15A",
          "dash": "solid"
         },
         "mode": "lines",
         "name": "26",
         "orientation": "v",
         "showlegend": true,
         "type": "scatter",
         "x": [
          22,
          23,
          24,
          25,
          26
         ],
         "xaxis": "x",
         "y": [
          0.5061739709748374,
          0.5015604085486538,
          0.517247328422083,
          0.5357690656354763,
          0.5076531494774253
         ],
         "yaxis": "y"
        },
        {
         "hovertemplate": "Ret Age=27<br>Age=%{x}<br>Cmp%=%{y}<extra></extra>",
         "legendgroup": "27",
         "line": {
          "color": "#19d3f3",
          "dash": "solid"
         },
         "mode": "lines",
         "name": "27",
         "orientation": "v",
         "showlegend": true,
         "type": "scatter",
         "x": [
          22,
          23,
          24,
          25,
          26,
          27
         ],
         "xaxis": "x",
         "y": [
          0.5060803827066458,
          0.4772289475438084,
          0.5122398649800565,
          0.5096776243745637,
          0.5001731298693786,
          0.514881926768376
         ],
         "yaxis": "y"
        },
        {
         "hovertemplate": "Ret Age=28<br>Age=%{x}<br>Cmp%=%{y}<extra></extra>",
         "legendgroup": "28",
         "line": {
          "color": "#FF6692",
          "dash": "solid"
         },
         "mode": "lines",
         "name": "28",
         "orientation": "v",
         "showlegend": true,
         "type": "scatter",
         "x": [
          22,
          23,
          24,
          25,
          26,
          27,
          28
         ],
         "xaxis": "x",
         "y": [
          0.4489971277192504,
          0.4829266560748439,
          0.5030210822741545,
          0.5135985675258743,
          0.5112560727156994,
          0.502410700815807,
          0.5203955862556278
         ],
         "yaxis": "y"
        },
        {
         "hovertemplate": "Ret Age=29<br>Age=%{x}<br>Cmp%=%{y}<extra></extra>",
         "legendgroup": "29",
         "line": {
          "color": "#B6E880",
          "dash": "solid"
         },
         "mode": "lines",
         "name": "29",
         "orientation": "v",
         "showlegend": true,
         "type": "scatter",
         "x": [
          22,
          23,
          24,
          25,
          26,
          27,
          28,
          29
         ],
         "xaxis": "x",
         "y": [
          0.4899627310641927,
          0.4973733714397267,
          0.49704962797545227,
          0.531445518513699,
          0.5026848531274009,
          0.526905854531985,
          0.5379447237423428,
          0.5462232453380701
         ],
         "yaxis": "y"
        },
        {
         "hovertemplate": "Ret Age=30<br>Age=%{x}<br>Cmp%=%{y}<extra></extra>",
         "legendgroup": "30",
         "line": {
          "color": "#FF97FF",
          "dash": "solid"
         },
         "mode": "lines",
         "name": "30",
         "orientation": "v",
         "showlegend": true,
         "type": "scatter",
         "x": [
          22,
          23,
          24,
          25,
          26,
          27,
          28,
          29,
          30
         ],
         "xaxis": "x",
         "y": [
          0.4838018257023496,
          0.5515240440569726,
          0.5232243473077147,
          0.5436425487622122,
          0.5300011175673278,
          0.5426719356002455,
          0.5403059523665151,
          0.5179484663899513,
          0.5132425311782854
         ],
         "yaxis": "y"
        },
        {
         "hovertemplate": "Ret Age=31<br>Age=%{x}<br>Cmp%=%{y}<extra></extra>",
         "legendgroup": "31",
         "line": {
          "color": "#FECB52",
          "dash": "solid"
         },
         "mode": "lines",
         "name": "31",
         "orientation": "v",
         "showlegend": true,
         "type": "scatter",
         "x": [
          22,
          23,
          24,
          25,
          26,
          27,
          28,
          29,
          30,
          31
         ],
         "xaxis": "x",
         "y": [
          0.5294750139255376,
          0.5124234348512738,
          0.5279384553770311,
          0.5259809143469415,
          0.516674185649531,
          0.5141301681150574,
          0.5252736313906955,
          0.5528826762573886,
          0.5297164114388605,
          0.5174836040735048
         ],
         "yaxis": "y"
        },
        {
         "hovertemplate": "Ret Age=32<br>Age=%{x}<br>Cmp%=%{y}<extra></extra>",
         "legendgroup": "32",
         "line": {
          "color": "#636efa",
          "dash": "solid"
         },
         "mode": "lines",
         "name": "32",
         "orientation": "v",
         "showlegend": true,
         "type": "scatter",
         "x": [
          23,
          24,
          25,
          26,
          27,
          28,
          29,
          30,
          31,
          32
         ],
         "xaxis": "x",
         "y": [
          0.47857546286990704,
          0.5554601113649252,
          0.5057764753540265,
          0.5360321882960062,
          0.5477592062407706,
          0.539690584396935,
          0.5399393883908258,
          0.5396382976954093,
          0.5406034356178341,
          0.5308485247858948
         ],
         "yaxis": "y"
        },
        {
         "hovertemplate": "Ret Age=33<br>Age=%{x}<br>Cmp%=%{y}<extra></extra>",
         "legendgroup": "33",
         "line": {
          "color": "#EF553B",
          "dash": "solid"
         },
         "mode": "lines",
         "name": "33",
         "orientation": "v",
         "showlegend": true,
         "type": "scatter",
         "x": [
          22,
          23,
          24,
          25,
          26,
          27,
          28,
          29,
          30,
          31,
          32,
          33
         ],
         "xaxis": "x",
         "y": [
          0.4882264044717902,
          0.4829678332051,
          0.5016180718587551,
          0.5172875334831546,
          0.5210373674682687,
          0.5276459293500144,
          0.5100750733410255,
          0.5342677427841989,
          0.526776706193113,
          0.5283431037309804,
          0.5316240620492698,
          0.5205329119804819
         ],
         "yaxis": "y"
        },
        {
         "hovertemplate": "Ret Age=34<br>Age=%{x}<br>Cmp%=%{y}<extra></extra>",
         "legendgroup": "34",
         "line": {
          "color": "#00cc96",
          "dash": "solid"
         },
         "mode": "lines",
         "name": "34",
         "orientation": "v",
         "showlegend": true,
         "type": "scatter",
         "x": [
          21,
          22,
          23,
          24,
          25,
          26,
          27,
          28,
          29,
          30,
          31,
          32,
          33,
          34
         ],
         "xaxis": "x",
         "y": [
          0.4569574842374645,
          0.5293014579653609,
          0.5043608804469497,
          0.5400662890950323,
          0.5546503475713961,
          0.5392741404615035,
          0.5476257159271909,
          0.5372726438970564,
          0.5459997028000259,
          0.5476951610381984,
          0.5422759521032215,
          0.538287828300233,
          0.5414715475574519,
          0.5384929685675263
         ],
         "yaxis": "y"
        },
        {
         "hovertemplate": "Ret Age=35<br>Age=%{x}<br>Cmp%=%{y}<extra></extra>",
         "legendgroup": "35",
         "line": {
          "color": "#ab63fa",
          "dash": "solid"
         },
         "mode": "lines",
         "name": "35",
         "orientation": "v",
         "showlegend": true,
         "type": "scatter",
         "x": [
          23,
          24,
          25,
          26,
          27,
          28,
          29,
          30,
          31,
          32,
          33,
          34,
          35
         ],
         "xaxis": "x",
         "y": [
          0.4700986979438481,
          0.5123878663352357,
          0.5248284478065437,
          0.5047405737264532,
          0.5268163937698792,
          0.5496870965341278,
          0.5305440495031416,
          0.5419562708150721,
          0.5532416267018903,
          0.5368599299258676,
          0.5569372168515272,
          0.5472724221050909,
          0.5433200816077608
         ],
         "yaxis": "y"
        },
        {
         "hovertemplate": "Ret Age=36<br>Age=%{x}<br>Cmp%=%{y}<extra></extra>",
         "legendgroup": "36",
         "line": {
          "color": "#FFA15A",
          "dash": "solid"
         },
         "mode": "lines",
         "name": "36",
         "orientation": "v",
         "showlegend": true,
         "type": "scatter",
         "x": [
          22,
          23,
          24,
          25,
          26,
          27,
          28,
          29,
          30,
          31,
          32,
          33,
          34,
          35,
          36
         ],
         "xaxis": "x",
         "y": [
          0.5162829849746908,
          0.5057805617305734,
          0.5354501701418836,
          0.5303993293534934,
          0.5357813128886685,
          0.5609994343467514,
          0.563723786642422,
          0.5413897920721027,
          0.55781041518211,
          0.5409330355887763,
          0.5536097957616615,
          0.5662233372389054,
          0.5513297192135772,
          0.5437616444528711,
          0.5419515180106502
         ],
         "yaxis": "y"
        },
        {
         "hovertemplate": "Ret Age=37<br>Age=%{x}<br>Cmp%=%{y}<extra></extra>",
         "legendgroup": "37",
         "line": {
          "color": "#19d3f3",
          "dash": "solid"
         },
         "mode": "lines",
         "name": "37",
         "orientation": "v",
         "showlegend": true,
         "type": "scatter",
         "x": [
          24,
          25,
          26,
          27,
          28,
          29,
          30,
          31,
          32,
          33,
          34,
          35,
          36,
          37
         ],
         "xaxis": "x",
         "y": [
          0.4614463726603299,
          0.5237330480415846,
          0.5096394826625695,
          0.5160361900903881,
          0.5570991377714797,
          0.5203481826638983,
          0.5651011428559702,
          0.5990229165152644,
          0.6057412433175515,
          0.5888967437123614,
          0.5286685450273623,
          0.5483768797703522,
          0.549839716381547,
          0.5506978146619156
         ],
         "yaxis": "y"
        },
        {
         "hovertemplate": "Ret Age=38<br>Age=%{x}<br>Cmp%=%{y}<extra></extra>",
         "legendgroup": "38",
         "line": {
          "color": "#FF6692",
          "dash": "solid"
         },
         "mode": "lines",
         "name": "38",
         "orientation": "v",
         "showlegend": true,
         "type": "scatter",
         "x": [
          22,
          23,
          24,
          25,
          26,
          27,
          28,
          29,
          30,
          31,
          32,
          33,
          34,
          35,
          36,
          37,
          38
         ],
         "xaxis": "x",
         "y": [
          0.5451317045630295,
          0.5107999509056261,
          0.52893145209776,
          0.5320607761592434,
          0.537801498965309,
          0.5406801476259855,
          0.555853521048224,
          0.5451040927935707,
          0.5567637264648984,
          0.5471290107959618,
          0.5402100431919468,
          0.5494410443984502,
          0.5507304400600131,
          0.5433700641408508,
          0.5475297254310951,
          0.546124207319077,
          0.5537261441718804
         ],
         "yaxis": "y"
        },
        {
         "hovertemplate": "Ret Age=39<br>Age=%{x}<br>Cmp%=%{y}<extra></extra>",
         "legendgroup": "39",
         "line": {
          "color": "#B6E880",
          "dash": "solid"
         },
         "mode": "lines",
         "name": "39",
         "orientation": "v",
         "showlegend": true,
         "type": "scatter",
         "x": [
          22,
          23,
          24,
          25,
          26,
          27,
          28,
          29,
          30,
          31,
          32,
          33,
          34,
          35,
          36,
          37,
          38,
          39
         ],
         "xaxis": "x",
         "y": [
          0.5316734191026098,
          0.5773940506041684,
          0.5299347258370953,
          0.5686206617726564,
          0.5575009125778494,
          0.5877768236864346,
          0.5787751993182229,
          0.5749373629905342,
          0.5670915957530076,
          0.5507122716781704,
          0.591906570974428,
          0.5607355688479094,
          0.5544030324629365,
          0.5360954355457989,
          0.5630042584895935,
          0.5628512421742535,
          0.5562089438092732,
          0.5314060985394843
         ],
         "yaxis": "y"
        },
        {
         "hovertemplate": "Ret Age=40<br>Age=%{x}<br>Cmp%=%{y}<extra></extra>",
         "legendgroup": "40",
         "line": {
          "color": "#FF97FF",
          "dash": "solid"
         },
         "mode": "lines",
         "name": "40",
         "orientation": "v",
         "showlegend": true,
         "type": "scatter",
         "x": [
          25,
          26,
          27,
          28,
          29,
          30,
          31,
          32,
          33,
          34,
          35,
          36,
          37,
          40
         ],
         "xaxis": "x",
         "y": [
          0.5029617046831085,
          0.45954888647557757,
          0.5670072575133591,
          0.5372101433801708,
          0.5228049324106149,
          0.5844225092466793,
          0.502599837072491,
          0.5435012777082833,
          0.453751031252754,
          0.5232987727719263,
          0.5233861771596989,
          0.5437950412357794,
          0.5441748546301274,
          0.5165542771883663
         ],
         "yaxis": "y"
        },
        {
         "hovertemplate": "Ret Age=41<br>Age=%{x}<br>Cmp%=%{y}<extra></extra>",
         "legendgroup": "41",
         "line": {
          "color": "#FECB52",
          "dash": "solid"
         },
         "mode": "lines",
         "name": "41",
         "orientation": "v",
         "showlegend": true,
         "type": "scatter",
         "x": [
          23,
          24,
          25,
          26,
          27,
          28,
          29,
          30,
          31,
          32,
          33,
          34,
          35,
          36,
          37,
          38,
          39,
          40,
          41
         ],
         "xaxis": "x",
         "y": [
          0.565346181949002,
          0.5226533518639084,
          0.5398464799642416,
          0.5500823080193518,
          0.552543934239779,
          0.5515249823764817,
          0.5666991648169876,
          0.5619976334914738,
          0.5507802432086409,
          0.5873414978868082,
          0.5483536591868003,
          0.5786031912045484,
          0.5781083311060389,
          0.5554375739903715,
          0.5293012585380938,
          0.5698978495741583,
          0.5619159531130754,
          0.5983813249975264,
          0.5384593513624312
         ],
         "yaxis": "y"
        },
        {
         "hovertemplate": "Ret Age=42<br>Age=%{x}<br>Cmp%=%{y}<extra></extra>",
         "legendgroup": "42",
         "line": {
          "color": "#636efa",
          "dash": "solid"
         },
         "mode": "lines",
         "name": "42",
         "orientation": "v",
         "showlegend": true,
         "type": "scatter",
         "x": [
          28,
          29,
          30,
          31,
          32,
          33,
          34,
          35,
          36,
          37,
          38,
          39,
          40,
          41,
          42
         ],
         "xaxis": "x",
         "y": [
          0.541824763682654,
          0.5133175869520952,
          0.5026695771683324,
          0.4840503335318993,
          0.5321370090295806,
          0.5740000357100172,
          0.5872277640833364,
          0.570603899646226,
          0.5979110192289783,
          0.5337754538423374,
          0.5644436400393423,
          0.5674142880922061,
          0.49978572135092014,
          0.55954635771707,
          0.5270398929671385
         ],
         "yaxis": "y"
        }
       ],
       "layout": {
        "legend": {
         "title": {
          "text": "Ret Age"
         },
         "tracegroupgap": 0
        },
        "margin": {
         "t": 60
        },
        "template": {
         "data": {
          "bar": [
           {
            "error_x": {
             "color": "#2a3f5f"
            },
            "error_y": {
             "color": "#2a3f5f"
            },
            "marker": {
             "line": {
              "color": "#E5ECF6",
              "width": 0.5
             },
             "pattern": {
              "fillmode": "overlay",
              "size": 10,
              "solidity": 0.2
             }
            },
            "type": "bar"
           }
          ],
          "barpolar": [
           {
            "marker": {
             "line": {
              "color": "#E5ECF6",
              "width": 0.5
             },
             "pattern": {
              "fillmode": "overlay",
              "size": 10,
              "solidity": 0.2
             }
            },
            "type": "barpolar"
           }
          ],
          "carpet": [
           {
            "aaxis": {
             "endlinecolor": "#2a3f5f",
             "gridcolor": "white",
             "linecolor": "white",
             "minorgridcolor": "white",
             "startlinecolor": "#2a3f5f"
            },
            "baxis": {
             "endlinecolor": "#2a3f5f",
             "gridcolor": "white",
             "linecolor": "white",
             "minorgridcolor": "white",
             "startlinecolor": "#2a3f5f"
            },
            "type": "carpet"
           }
          ],
          "choropleth": [
           {
            "colorbar": {
             "outlinewidth": 0,
             "ticks": ""
            },
            "type": "choropleth"
           }
          ],
          "contour": [
           {
            "colorbar": {
             "outlinewidth": 0,
             "ticks": ""
            },
            "colorscale": [
             [
              0,
              "#0d0887"
             ],
             [
              0.1111111111111111,
              "#46039f"
             ],
             [
              0.2222222222222222,
              "#7201a8"
             ],
             [
              0.3333333333333333,
              "#9c179e"
             ],
             [
              0.4444444444444444,
              "#bd3786"
             ],
             [
              0.5555555555555556,
              "#d8576b"
             ],
             [
              0.6666666666666666,
              "#ed7953"
             ],
             [
              0.7777777777777778,
              "#fb9f3a"
             ],
             [
              0.8888888888888888,
              "#fdca26"
             ],
             [
              1,
              "#f0f921"
             ]
            ],
            "type": "contour"
           }
          ],
          "contourcarpet": [
           {
            "colorbar": {
             "outlinewidth": 0,
             "ticks": ""
            },
            "type": "contourcarpet"
           }
          ],
          "heatmap": [
           {
            "colorbar": {
             "outlinewidth": 0,
             "ticks": ""
            },
            "colorscale": [
             [
              0,
              "#0d0887"
             ],
             [
              0.1111111111111111,
              "#46039f"
             ],
             [
              0.2222222222222222,
              "#7201a8"
             ],
             [
              0.3333333333333333,
              "#9c179e"
             ],
             [
              0.4444444444444444,
              "#bd3786"
             ],
             [
              0.5555555555555556,
              "#d8576b"
             ],
             [
              0.6666666666666666,
              "#ed7953"
             ],
             [
              0.7777777777777778,
              "#fb9f3a"
             ],
             [
              0.8888888888888888,
              "#fdca26"
             ],
             [
              1,
              "#f0f921"
             ]
            ],
            "type": "heatmap"
           }
          ],
          "heatmapgl": [
           {
            "colorbar": {
             "outlinewidth": 0,
             "ticks": ""
            },
            "colorscale": [
             [
              0,
              "#0d0887"
             ],
             [
              0.1111111111111111,
              "#46039f"
             ],
             [
              0.2222222222222222,
              "#7201a8"
             ],
             [
              0.3333333333333333,
              "#9c179e"
             ],
             [
              0.4444444444444444,
              "#bd3786"
             ],
             [
              0.5555555555555556,
              "#d8576b"
             ],
             [
              0.6666666666666666,
              "#ed7953"
             ],
             [
              0.7777777777777778,
              "#fb9f3a"
             ],
             [
              0.8888888888888888,
              "#fdca26"
             ],
             [
              1,
              "#f0f921"
             ]
            ],
            "type": "heatmapgl"
           }
          ],
          "histogram": [
           {
            "marker": {
             "pattern": {
              "fillmode": "overlay",
              "size": 10,
              "solidity": 0.2
             }
            },
            "type": "histogram"
           }
          ],
          "histogram2d": [
           {
            "colorbar": {
             "outlinewidth": 0,
             "ticks": ""
            },
            "colorscale": [
             [
              0,
              "#0d0887"
             ],
             [
              0.1111111111111111,
              "#46039f"
             ],
             [
              0.2222222222222222,
              "#7201a8"
             ],
             [
              0.3333333333333333,
              "#9c179e"
             ],
             [
              0.4444444444444444,
              "#bd3786"
             ],
             [
              0.5555555555555556,
              "#d8576b"
             ],
             [
              0.6666666666666666,
              "#ed7953"
             ],
             [
              0.7777777777777778,
              "#fb9f3a"
             ],
             [
              0.8888888888888888,
              "#fdca26"
             ],
             [
              1,
              "#f0f921"
             ]
            ],
            "type": "histogram2d"
           }
          ],
          "histogram2dcontour": [
           {
            "colorbar": {
             "outlinewidth": 0,
             "ticks": ""
            },
            "colorscale": [
             [
              0,
              "#0d0887"
             ],
             [
              0.1111111111111111,
              "#46039f"
             ],
             [
              0.2222222222222222,
              "#7201a8"
             ],
             [
              0.3333333333333333,
              "#9c179e"
             ],
             [
              0.4444444444444444,
              "#bd3786"
             ],
             [
              0.5555555555555556,
              "#d8576b"
             ],
             [
              0.6666666666666666,
              "#ed7953"
             ],
             [
              0.7777777777777778,
              "#fb9f3a"
             ],
             [
              0.8888888888888888,
              "#fdca26"
             ],
             [
              1,
              "#f0f921"
             ]
            ],
            "type": "histogram2dcontour"
           }
          ],
          "mesh3d": [
           {
            "colorbar": {
             "outlinewidth": 0,
             "ticks": ""
            },
            "type": "mesh3d"
           }
          ],
          "parcoords": [
           {
            "line": {
             "colorbar": {
              "outlinewidth": 0,
              "ticks": ""
             }
            },
            "type": "parcoords"
           }
          ],
          "pie": [
           {
            "automargin": true,
            "type": "pie"
           }
          ],
          "scatter": [
           {
            "marker": {
             "colorbar": {
              "outlinewidth": 0,
              "ticks": ""
             }
            },
            "type": "scatter"
           }
          ],
          "scatter3d": [
           {
            "line": {
             "colorbar": {
              "outlinewidth": 0,
              "ticks": ""
             }
            },
            "marker": {
             "colorbar": {
              "outlinewidth": 0,
              "ticks": ""
             }
            },
            "type": "scatter3d"
           }
          ],
          "scattercarpet": [
           {
            "marker": {
             "colorbar": {
              "outlinewidth": 0,
              "ticks": ""
             }
            },
            "type": "scattercarpet"
           }
          ],
          "scattergeo": [
           {
            "marker": {
             "colorbar": {
              "outlinewidth": 0,
              "ticks": ""
             }
            },
            "type": "scattergeo"
           }
          ],
          "scattergl": [
           {
            "marker": {
             "colorbar": {
              "outlinewidth": 0,
              "ticks": ""
             }
            },
            "type": "scattergl"
           }
          ],
          "scattermapbox": [
           {
            "marker": {
             "colorbar": {
              "outlinewidth": 0,
              "ticks": ""
             }
            },
            "type": "scattermapbox"
           }
          ],
          "scatterpolar": [
           {
            "marker": {
             "colorbar": {
              "outlinewidth": 0,
              "ticks": ""
             }
            },
            "type": "scatterpolar"
           }
          ],
          "scatterpolargl": [
           {
            "marker": {
             "colorbar": {
              "outlinewidth": 0,
              "ticks": ""
             }
            },
            "type": "scatterpolargl"
           }
          ],
          "scatterternary": [
           {
            "marker": {
             "colorbar": {
              "outlinewidth": 0,
              "ticks": ""
             }
            },
            "type": "scatterternary"
           }
          ],
          "surface": [
           {
            "colorbar": {
             "outlinewidth": 0,
             "ticks": ""
            },
            "colorscale": [
             [
              0,
              "#0d0887"
             ],
             [
              0.1111111111111111,
              "#46039f"
             ],
             [
              0.2222222222222222,
              "#7201a8"
             ],
             [
              0.3333333333333333,
              "#9c179e"
             ],
             [
              0.4444444444444444,
              "#bd3786"
             ],
             [
              0.5555555555555556,
              "#d8576b"
             ],
             [
              0.6666666666666666,
              "#ed7953"
             ],
             [
              0.7777777777777778,
              "#fb9f3a"
             ],
             [
              0.8888888888888888,
              "#fdca26"
             ],
             [
              1,
              "#f0f921"
             ]
            ],
            "type": "surface"
           }
          ],
          "table": [
           {
            "cells": {
             "fill": {
              "color": "#EBF0F8"
             },
             "line": {
              "color": "white"
             }
            },
            "header": {
             "fill": {
              "color": "#C8D4E3"
             },
             "line": {
              "color": "white"
             }
            },
            "type": "table"
           }
          ]
         },
         "layout": {
          "annotationdefaults": {
           "arrowcolor": "#2a3f5f",
           "arrowhead": 0,
           "arrowwidth": 1
          },
          "autotypenumbers": "strict",
          "coloraxis": {
           "colorbar": {
            "outlinewidth": 0,
            "ticks": ""
           }
          },
          "colorscale": {
           "diverging": [
            [
             0,
             "#8e0152"
            ],
            [
             0.1,
             "#c51b7d"
            ],
            [
             0.2,
             "#de77ae"
            ],
            [
             0.3,
             "#f1b6da"
            ],
            [
             0.4,
             "#fde0ef"
            ],
            [
             0.5,
             "#f7f7f7"
            ],
            [
             0.6,
             "#e6f5d0"
            ],
            [
             0.7,
             "#b8e186"
            ],
            [
             0.8,
             "#7fbc41"
            ],
            [
             0.9,
             "#4d9221"
            ],
            [
             1,
             "#276419"
            ]
           ],
           "sequential": [
            [
             0,
             "#0d0887"
            ],
            [
             0.1111111111111111,
             "#46039f"
            ],
            [
             0.2222222222222222,
             "#7201a8"
            ],
            [
             0.3333333333333333,
             "#9c179e"
            ],
            [
             0.4444444444444444,
             "#bd3786"
            ],
            [
             0.5555555555555556,
             "#d8576b"
            ],
            [
             0.6666666666666666,
             "#ed7953"
            ],
            [
             0.7777777777777778,
             "#fb9f3a"
            ],
            [
             0.8888888888888888,
             "#fdca26"
            ],
            [
             1,
             "#f0f921"
            ]
           ],
           "sequentialminus": [
            [
             0,
             "#0d0887"
            ],
            [
             0.1111111111111111,
             "#46039f"
            ],
            [
             0.2222222222222222,
             "#7201a8"
            ],
            [
             0.3333333333333333,
             "#9c179e"
            ],
            [
             0.4444444444444444,
             "#bd3786"
            ],
            [
             0.5555555555555556,
             "#d8576b"
            ],
            [
             0.6666666666666666,
             "#ed7953"
            ],
            [
             0.7777777777777778,
             "#fb9f3a"
            ],
            [
             0.8888888888888888,
             "#fdca26"
            ],
            [
             1,
             "#f0f921"
            ]
           ]
          },
          "colorway": [
           "#636efa",
           "#EF553B",
           "#00cc96",
           "#ab63fa",
           "#FFA15A",
           "#19d3f3",
           "#FF6692",
           "#B6E880",
           "#FF97FF",
           "#FECB52"
          ],
          "font": {
           "color": "#2a3f5f"
          },
          "geo": {
           "bgcolor": "white",
           "lakecolor": "white",
           "landcolor": "#E5ECF6",
           "showlakes": true,
           "showland": true,
           "subunitcolor": "white"
          },
          "hoverlabel": {
           "align": "left"
          },
          "hovermode": "closest",
          "mapbox": {
           "style": "light"
          },
          "paper_bgcolor": "white",
          "plot_bgcolor": "#E5ECF6",
          "polar": {
           "angularaxis": {
            "gridcolor": "white",
            "linecolor": "white",
            "ticks": ""
           },
           "bgcolor": "#E5ECF6",
           "radialaxis": {
            "gridcolor": "white",
            "linecolor": "white",
            "ticks": ""
           }
          },
          "scene": {
           "xaxis": {
            "backgroundcolor": "#E5ECF6",
            "gridcolor": "white",
            "gridwidth": 2,
            "linecolor": "white",
            "showbackground": true,
            "ticks": "",
            "zerolinecolor": "white"
           },
           "yaxis": {
            "backgroundcolor": "#E5ECF6",
            "gridcolor": "white",
            "gridwidth": 2,
            "linecolor": "white",
            "showbackground": true,
            "ticks": "",
            "zerolinecolor": "white"
           },
           "zaxis": {
            "backgroundcolor": "#E5ECF6",
            "gridcolor": "white",
            "gridwidth": 2,
            "linecolor": "white",
            "showbackground": true,
            "ticks": "",
            "zerolinecolor": "white"
           }
          },
          "shapedefaults": {
           "line": {
            "color": "#2a3f5f"
           }
          },
          "ternary": {
           "aaxis": {
            "gridcolor": "white",
            "linecolor": "white",
            "ticks": ""
           },
           "baxis": {
            "gridcolor": "white",
            "linecolor": "white",
            "ticks": ""
           },
           "bgcolor": "#E5ECF6",
           "caxis": {
            "gridcolor": "white",
            "linecolor": "white",
            "ticks": ""
           }
          },
          "title": {
           "x": 0.05
          },
          "xaxis": {
           "automargin": true,
           "gridcolor": "white",
           "linecolor": "white",
           "ticks": "",
           "title": {
            "standoff": 15
           },
           "zerolinecolor": "white",
           "zerolinewidth": 2
          },
          "yaxis": {
           "automargin": true,
           "gridcolor": "white",
           "linecolor": "white",
           "ticks": "",
           "title": {
            "standoff": 15
           },
           "zerolinecolor": "white",
           "zerolinewidth": 2
          }
         }
        },
        "xaxis": {
         "anchor": "y",
         "domain": [
          0,
          1
         ],
         "title": {
          "text": "Age"
         }
        },
        "yaxis": {
         "anchor": "x",
         "domain": [
          0,
          1
         ],
         "title": {
          "text": "Cmp%"
         }
        }
       }
      },
      "text/html": [
       "<div>                            <div id=\"6aba39b7-ff4e-4f1d-9c2f-3cc084234b02\" class=\"plotly-graph-div\" style=\"height:525px; width:100%;\"></div>            <script type=\"text/javascript\">                require([\"plotly\"], function(Plotly) {                    window.PLOTLYENV=window.PLOTLYENV || {};                                    if (document.getElementById(\"6aba39b7-ff4e-4f1d-9c2f-3cc084234b02\")) {                    Plotly.newPlot(                        \"6aba39b7-ff4e-4f1d-9c2f-3cc084234b02\",                        [{\"hovertemplate\":\"Ret Age=21<br>Age=%{x}<br>Cmp%=%{y}<extra></extra>\",\"legendgroup\":\"21\",\"line\":{\"color\":\"#636efa\",\"dash\":\"solid\"},\"mode\":\"lines\",\"name\":\"21\",\"orientation\":\"v\",\"showlegend\":true,\"type\":\"scatter\",\"x\":[21],\"xaxis\":\"x\",\"y\":[0.45520026616735854],\"yaxis\":\"y\"},{\"hovertemplate\":\"Ret Age=23<br>Age=%{x}<br>Cmp%=%{y}<extra></extra>\",\"legendgroup\":\"23\",\"line\":{\"color\":\"#EF553B\",\"dash\":\"solid\"},\"mode\":\"lines\",\"name\":\"23\",\"orientation\":\"v\",\"showlegend\":true,\"type\":\"scatter\",\"x\":[22,23],\"xaxis\":\"x\",\"y\":[0.5096184194612731,0.5035537593581006],\"yaxis\":\"y\"},{\"hovertemplate\":\"Ret Age=24<br>Age=%{x}<br>Cmp%=%{y}<extra></extra>\",\"legendgroup\":\"24\",\"line\":{\"color\":\"#00cc96\",\"dash\":\"solid\"},\"mode\":\"lines\",\"name\":\"24\",\"orientation\":\"v\",\"showlegend\":true,\"type\":\"scatter\",\"x\":[21,22,23,24],\"xaxis\":\"x\",\"y\":[0.47485499088862665,0.5244200215539838,0.5086510578431935,0.4966520635337764],\"yaxis\":\"y\"},{\"hovertemplate\":\"Ret Age=25<br>Age=%{x}<br>Cmp%=%{y}<extra></extra>\",\"legendgroup\":\"25\",\"line\":{\"color\":\"#ab63fa\",\"dash\":\"solid\"},\"mode\":\"lines\",\"name\":\"25\",\"orientation\":\"v\",\"showlegend\":true,\"type\":\"scatter\",\"x\":[22,23,24,25],\"xaxis\":\"x\",\"y\":[0.4992504867864389,0.5004367053635204,0.5074853158764907,0.5134929997111715],\"yaxis\":\"y\"},{\"hovertemplate\":\"Ret Age=26<br>Age=%{x}<br>Cmp%=%{y}<extra></extra>\",\"legendgroup\":\"26\",\"line\":{\"color\":\"#FFA15A\",\"dash\":\"solid\"},\"mode\":\"lines\",\"name\":\"26\",\"orientation\":\"v\",\"showlegend\":true,\"type\":\"scatter\",\"x\":[22,23,24,25,26],\"xaxis\":\"x\",\"y\":[0.5061739709748374,0.5015604085486538,0.517247328422083,0.5357690656354763,0.5076531494774253],\"yaxis\":\"y\"},{\"hovertemplate\":\"Ret Age=27<br>Age=%{x}<br>Cmp%=%{y}<extra></extra>\",\"legendgroup\":\"27\",\"line\":{\"color\":\"#19d3f3\",\"dash\":\"solid\"},\"mode\":\"lines\",\"name\":\"27\",\"orientation\":\"v\",\"showlegend\":true,\"type\":\"scatter\",\"x\":[22,23,24,25,26,27],\"xaxis\":\"x\",\"y\":[0.5060803827066458,0.4772289475438084,0.5122398649800565,0.5096776243745637,0.5001731298693786,0.514881926768376],\"yaxis\":\"y\"},{\"hovertemplate\":\"Ret Age=28<br>Age=%{x}<br>Cmp%=%{y}<extra></extra>\",\"legendgroup\":\"28\",\"line\":{\"color\":\"#FF6692\",\"dash\":\"solid\"},\"mode\":\"lines\",\"name\":\"28\",\"orientation\":\"v\",\"showlegend\":true,\"type\":\"scatter\",\"x\":[22,23,24,25,26,27,28],\"xaxis\":\"x\",\"y\":[0.4489971277192504,0.4829266560748439,0.5030210822741545,0.5135985675258743,0.5112560727156994,0.502410700815807,0.5203955862556278],\"yaxis\":\"y\"},{\"hovertemplate\":\"Ret Age=29<br>Age=%{x}<br>Cmp%=%{y}<extra></extra>\",\"legendgroup\":\"29\",\"line\":{\"color\":\"#B6E880\",\"dash\":\"solid\"},\"mode\":\"lines\",\"name\":\"29\",\"orientation\":\"v\",\"showlegend\":true,\"type\":\"scatter\",\"x\":[22,23,24,25,26,27,28,29],\"xaxis\":\"x\",\"y\":[0.4899627310641927,0.4973733714397267,0.49704962797545227,0.531445518513699,0.5026848531274009,0.526905854531985,0.5379447237423428,0.5462232453380701],\"yaxis\":\"y\"},{\"hovertemplate\":\"Ret Age=30<br>Age=%{x}<br>Cmp%=%{y}<extra></extra>\",\"legendgroup\":\"30\",\"line\":{\"color\":\"#FF97FF\",\"dash\":\"solid\"},\"mode\":\"lines\",\"name\":\"30\",\"orientation\":\"v\",\"showlegend\":true,\"type\":\"scatter\",\"x\":[22,23,24,25,26,27,28,29,30],\"xaxis\":\"x\",\"y\":[0.4838018257023496,0.5515240440569726,0.5232243473077147,0.5436425487622122,0.5300011175673278,0.5426719356002455,0.5403059523665151,0.5179484663899513,0.5132425311782854],\"yaxis\":\"y\"},{\"hovertemplate\":\"Ret Age=31<br>Age=%{x}<br>Cmp%=%{y}<extra></extra>\",\"legendgroup\":\"31\",\"line\":{\"color\":\"#FECB52\",\"dash\":\"solid\"},\"mode\":\"lines\",\"name\":\"31\",\"orientation\":\"v\",\"showlegend\":true,\"type\":\"scatter\",\"x\":[22,23,24,25,26,27,28,29,30,31],\"xaxis\":\"x\",\"y\":[0.5294750139255376,0.5124234348512738,0.5279384553770311,0.5259809143469415,0.516674185649531,0.5141301681150574,0.5252736313906955,0.5528826762573886,0.5297164114388605,0.5174836040735048],\"yaxis\":\"y\"},{\"hovertemplate\":\"Ret Age=32<br>Age=%{x}<br>Cmp%=%{y}<extra></extra>\",\"legendgroup\":\"32\",\"line\":{\"color\":\"#636efa\",\"dash\":\"solid\"},\"mode\":\"lines\",\"name\":\"32\",\"orientation\":\"v\",\"showlegend\":true,\"type\":\"scatter\",\"x\":[23,24,25,26,27,28,29,30,31,32],\"xaxis\":\"x\",\"y\":[0.47857546286990704,0.5554601113649252,0.5057764753540265,0.5360321882960062,0.5477592062407706,0.539690584396935,0.5399393883908258,0.5396382976954093,0.5406034356178341,0.5308485247858948],\"yaxis\":\"y\"},{\"hovertemplate\":\"Ret Age=33<br>Age=%{x}<br>Cmp%=%{y}<extra></extra>\",\"legendgroup\":\"33\",\"line\":{\"color\":\"#EF553B\",\"dash\":\"solid\"},\"mode\":\"lines\",\"name\":\"33\",\"orientation\":\"v\",\"showlegend\":true,\"type\":\"scatter\",\"x\":[22,23,24,25,26,27,28,29,30,31,32,33],\"xaxis\":\"x\",\"y\":[0.4882264044717902,0.4829678332051,0.5016180718587551,0.5172875334831546,0.5210373674682687,0.5276459293500144,0.5100750733410255,0.5342677427841989,0.526776706193113,0.5283431037309804,0.5316240620492698,0.5205329119804819],\"yaxis\":\"y\"},{\"hovertemplate\":\"Ret Age=34<br>Age=%{x}<br>Cmp%=%{y}<extra></extra>\",\"legendgroup\":\"34\",\"line\":{\"color\":\"#00cc96\",\"dash\":\"solid\"},\"mode\":\"lines\",\"name\":\"34\",\"orientation\":\"v\",\"showlegend\":true,\"type\":\"scatter\",\"x\":[21,22,23,24,25,26,27,28,29,30,31,32,33,34],\"xaxis\":\"x\",\"y\":[0.4569574842374645,0.5293014579653609,0.5043608804469497,0.5400662890950323,0.5546503475713961,0.5392741404615035,0.5476257159271909,0.5372726438970564,0.5459997028000259,0.5476951610381984,0.5422759521032215,0.538287828300233,0.5414715475574519,0.5384929685675263],\"yaxis\":\"y\"},{\"hovertemplate\":\"Ret Age=35<br>Age=%{x}<br>Cmp%=%{y}<extra></extra>\",\"legendgroup\":\"35\",\"line\":{\"color\":\"#ab63fa\",\"dash\":\"solid\"},\"mode\":\"lines\",\"name\":\"35\",\"orientation\":\"v\",\"showlegend\":true,\"type\":\"scatter\",\"x\":[23,24,25,26,27,28,29,30,31,32,33,34,35],\"xaxis\":\"x\",\"y\":[0.4700986979438481,0.5123878663352357,0.5248284478065437,0.5047405737264532,0.5268163937698792,0.5496870965341278,0.5305440495031416,0.5419562708150721,0.5532416267018903,0.5368599299258676,0.5569372168515272,0.5472724221050909,0.5433200816077608],\"yaxis\":\"y\"},{\"hovertemplate\":\"Ret Age=36<br>Age=%{x}<br>Cmp%=%{y}<extra></extra>\",\"legendgroup\":\"36\",\"line\":{\"color\":\"#FFA15A\",\"dash\":\"solid\"},\"mode\":\"lines\",\"name\":\"36\",\"orientation\":\"v\",\"showlegend\":true,\"type\":\"scatter\",\"x\":[22,23,24,25,26,27,28,29,30,31,32,33,34,35,36],\"xaxis\":\"x\",\"y\":[0.5162829849746908,0.5057805617305734,0.5354501701418836,0.5303993293534934,0.5357813128886685,0.5609994343467514,0.563723786642422,0.5413897920721027,0.55781041518211,0.5409330355887763,0.5536097957616615,0.5662233372389054,0.5513297192135772,0.5437616444528711,0.5419515180106502],\"yaxis\":\"y\"},{\"hovertemplate\":\"Ret Age=37<br>Age=%{x}<br>Cmp%=%{y}<extra></extra>\",\"legendgroup\":\"37\",\"line\":{\"color\":\"#19d3f3\",\"dash\":\"solid\"},\"mode\":\"lines\",\"name\":\"37\",\"orientation\":\"v\",\"showlegend\":true,\"type\":\"scatter\",\"x\":[24,25,26,27,28,29,30,31,32,33,34,35,36,37],\"xaxis\":\"x\",\"y\":[0.4614463726603299,0.5237330480415846,0.5096394826625695,0.5160361900903881,0.5570991377714797,0.5203481826638983,0.5651011428559702,0.5990229165152644,0.6057412433175515,0.5888967437123614,0.5286685450273623,0.5483768797703522,0.549839716381547,0.5506978146619156],\"yaxis\":\"y\"},{\"hovertemplate\":\"Ret Age=38<br>Age=%{x}<br>Cmp%=%{y}<extra></extra>\",\"legendgroup\":\"38\",\"line\":{\"color\":\"#FF6692\",\"dash\":\"solid\"},\"mode\":\"lines\",\"name\":\"38\",\"orientation\":\"v\",\"showlegend\":true,\"type\":\"scatter\",\"x\":[22,23,24,25,26,27,28,29,30,31,32,33,34,35,36,37,38],\"xaxis\":\"x\",\"y\":[0.5451317045630295,0.5107999509056261,0.52893145209776,0.5320607761592434,0.537801498965309,0.5406801476259855,0.555853521048224,0.5451040927935707,0.5567637264648984,0.5471290107959618,0.5402100431919468,0.5494410443984502,0.5507304400600131,0.5433700641408508,0.5475297254310951,0.546124207319077,0.5537261441718804],\"yaxis\":\"y\"},{\"hovertemplate\":\"Ret Age=39<br>Age=%{x}<br>Cmp%=%{y}<extra></extra>\",\"legendgroup\":\"39\",\"line\":{\"color\":\"#B6E880\",\"dash\":\"solid\"},\"mode\":\"lines\",\"name\":\"39\",\"orientation\":\"v\",\"showlegend\":true,\"type\":\"scatter\",\"x\":[22,23,24,25,26,27,28,29,30,31,32,33,34,35,36,37,38,39],\"xaxis\":\"x\",\"y\":[0.5316734191026098,0.5773940506041684,0.5299347258370953,0.5686206617726564,0.5575009125778494,0.5877768236864346,0.5787751993182229,0.5749373629905342,0.5670915957530076,0.5507122716781704,0.591906570974428,0.5607355688479094,0.5544030324629365,0.5360954355457989,0.5630042584895935,0.5628512421742535,0.5562089438092732,0.5314060985394843],\"yaxis\":\"y\"},{\"hovertemplate\":\"Ret Age=40<br>Age=%{x}<br>Cmp%=%{y}<extra></extra>\",\"legendgroup\":\"40\",\"line\":{\"color\":\"#FF97FF\",\"dash\":\"solid\"},\"mode\":\"lines\",\"name\":\"40\",\"orientation\":\"v\",\"showlegend\":true,\"type\":\"scatter\",\"x\":[25,26,27,28,29,30,31,32,33,34,35,36,37,40],\"xaxis\":\"x\",\"y\":[0.5029617046831085,0.45954888647557757,0.5670072575133591,0.5372101433801708,0.5228049324106149,0.5844225092466793,0.502599837072491,0.5435012777082833,0.453751031252754,0.5232987727719263,0.5233861771596989,0.5437950412357794,0.5441748546301274,0.5165542771883663],\"yaxis\":\"y\"},{\"hovertemplate\":\"Ret Age=41<br>Age=%{x}<br>Cmp%=%{y}<extra></extra>\",\"legendgroup\":\"41\",\"line\":{\"color\":\"#FECB52\",\"dash\":\"solid\"},\"mode\":\"lines\",\"name\":\"41\",\"orientation\":\"v\",\"showlegend\":true,\"type\":\"scatter\",\"x\":[23,24,25,26,27,28,29,30,31,32,33,34,35,36,37,38,39,40,41],\"xaxis\":\"x\",\"y\":[0.565346181949002,0.5226533518639084,0.5398464799642416,0.5500823080193518,0.552543934239779,0.5515249823764817,0.5666991648169876,0.5619976334914738,0.5507802432086409,0.5873414978868082,0.5483536591868003,0.5786031912045484,0.5781083311060389,0.5554375739903715,0.5293012585380938,0.5698978495741583,0.5619159531130754,0.5983813249975264,0.5384593513624312],\"yaxis\":\"y\"},{\"hovertemplate\":\"Ret Age=42<br>Age=%{x}<br>Cmp%=%{y}<extra></extra>\",\"legendgroup\":\"42\",\"line\":{\"color\":\"#636efa\",\"dash\":\"solid\"},\"mode\":\"lines\",\"name\":\"42\",\"orientation\":\"v\",\"showlegend\":true,\"type\":\"scatter\",\"x\":[28,29,30,31,32,33,34,35,36,37,38,39,40,41,42],\"xaxis\":\"x\",\"y\":[0.541824763682654,0.5133175869520952,0.5026695771683324,0.4840503335318993,0.5321370090295806,0.5740000357100172,0.5872277640833364,0.570603899646226,0.5979110192289783,0.5337754538423374,0.5644436400393423,0.5674142880922061,0.49978572135092014,0.55954635771707,0.5270398929671385],\"yaxis\":\"y\"}],                        {\"legend\":{\"title\":{\"text\":\"Ret Age\"},\"tracegroupgap\":0},\"margin\":{\"t\":60},\"template\":{\"data\":{\"bar\":[{\"error_x\":{\"color\":\"#2a3f5f\"},\"error_y\":{\"color\":\"#2a3f5f\"},\"marker\":{\"line\":{\"color\":\"#E5ECF6\",\"width\":0.5},\"pattern\":{\"fillmode\":\"overlay\",\"size\":10,\"solidity\":0.2}},\"type\":\"bar\"}],\"barpolar\":[{\"marker\":{\"line\":{\"color\":\"#E5ECF6\",\"width\":0.5},\"pattern\":{\"fillmode\":\"overlay\",\"size\":10,\"solidity\":0.2}},\"type\":\"barpolar\"}],\"carpet\":[{\"aaxis\":{\"endlinecolor\":\"#2a3f5f\",\"gridcolor\":\"white\",\"linecolor\":\"white\",\"minorgridcolor\":\"white\",\"startlinecolor\":\"#2a3f5f\"},\"baxis\":{\"endlinecolor\":\"#2a3f5f\",\"gridcolor\":\"white\",\"linecolor\":\"white\",\"minorgridcolor\":\"white\",\"startlinecolor\":\"#2a3f5f\"},\"type\":\"carpet\"}],\"choropleth\":[{\"colorbar\":{\"outlinewidth\":0,\"ticks\":\"\"},\"type\":\"choropleth\"}],\"contour\":[{\"colorbar\":{\"outlinewidth\":0,\"ticks\":\"\"},\"colorscale\":[[0.0,\"#0d0887\"],[0.1111111111111111,\"#46039f\"],[0.2222222222222222,\"#7201a8\"],[0.3333333333333333,\"#9c179e\"],[0.4444444444444444,\"#bd3786\"],[0.5555555555555556,\"#d8576b\"],[0.6666666666666666,\"#ed7953\"],[0.7777777777777778,\"#fb9f3a\"],[0.8888888888888888,\"#fdca26\"],[1.0,\"#f0f921\"]],\"type\":\"contour\"}],\"contourcarpet\":[{\"colorbar\":{\"outlinewidth\":0,\"ticks\":\"\"},\"type\":\"contourcarpet\"}],\"heatmap\":[{\"colorbar\":{\"outlinewidth\":0,\"ticks\":\"\"},\"colorscale\":[[0.0,\"#0d0887\"],[0.1111111111111111,\"#46039f\"],[0.2222222222222222,\"#7201a8\"],[0.3333333333333333,\"#9c179e\"],[0.4444444444444444,\"#bd3786\"],[0.5555555555555556,\"#d8576b\"],[0.6666666666666666,\"#ed7953\"],[0.7777777777777778,\"#fb9f3a\"],[0.8888888888888888,\"#fdca26\"],[1.0,\"#f0f921\"]],\"type\":\"heatmap\"}],\"heatmapgl\":[{\"colorbar\":{\"outlinewidth\":0,\"ticks\":\"\"},\"colorscale\":[[0.0,\"#0d0887\"],[0.1111111111111111,\"#46039f\"],[0.2222222222222222,\"#7201a8\"],[0.3333333333333333,\"#9c179e\"],[0.4444444444444444,\"#bd3786\"],[0.5555555555555556,\"#d8576b\"],[0.6666666666666666,\"#ed7953\"],[0.7777777777777778,\"#fb9f3a\"],[0.8888888888888888,\"#fdca26\"],[1.0,\"#f0f921\"]],\"type\":\"heatmapgl\"}],\"histogram\":[{\"marker\":{\"pattern\":{\"fillmode\":\"overlay\",\"size\":10,\"solidity\":0.2}},\"type\":\"histogram\"}],\"histogram2d\":[{\"colorbar\":{\"outlinewidth\":0,\"ticks\":\"\"},\"colorscale\":[[0.0,\"#0d0887\"],[0.1111111111111111,\"#46039f\"],[0.2222222222222222,\"#7201a8\"],[0.3333333333333333,\"#9c179e\"],[0.4444444444444444,\"#bd3786\"],[0.5555555555555556,\"#d8576b\"],[0.6666666666666666,\"#ed7953\"],[0.7777777777777778,\"#fb9f3a\"],[0.8888888888888888,\"#fdca26\"],[1.0,\"#f0f921\"]],\"type\":\"histogram2d\"}],\"histogram2dcontour\":[{\"colorbar\":{\"outlinewidth\":0,\"ticks\":\"\"},\"colorscale\":[[0.0,\"#0d0887\"],[0.1111111111111111,\"#46039f\"],[0.2222222222222222,\"#7201a8\"],[0.3333333333333333,\"#9c179e\"],[0.4444444444444444,\"#bd3786\"],[0.5555555555555556,\"#d8576b\"],[0.6666666666666666,\"#ed7953\"],[0.7777777777777778,\"#fb9f3a\"],[0.8888888888888888,\"#fdca26\"],[1.0,\"#f0f921\"]],\"type\":\"histogram2dcontour\"}],\"mesh3d\":[{\"colorbar\":{\"outlinewidth\":0,\"ticks\":\"\"},\"type\":\"mesh3d\"}],\"parcoords\":[{\"line\":{\"colorbar\":{\"outlinewidth\":0,\"ticks\":\"\"}},\"type\":\"parcoords\"}],\"pie\":[{\"automargin\":true,\"type\":\"pie\"}],\"scatter\":[{\"marker\":{\"colorbar\":{\"outlinewidth\":0,\"ticks\":\"\"}},\"type\":\"scatter\"}],\"scatter3d\":[{\"line\":{\"colorbar\":{\"outlinewidth\":0,\"ticks\":\"\"}},\"marker\":{\"colorbar\":{\"outlinewidth\":0,\"ticks\":\"\"}},\"type\":\"scatter3d\"}],\"scattercarpet\":[{\"marker\":{\"colorbar\":{\"outlinewidth\":0,\"ticks\":\"\"}},\"type\":\"scattercarpet\"}],\"scattergeo\":[{\"marker\":{\"colorbar\":{\"outlinewidth\":0,\"ticks\":\"\"}},\"type\":\"scattergeo\"}],\"scattergl\":[{\"marker\":{\"colorbar\":{\"outlinewidth\":0,\"ticks\":\"\"}},\"type\":\"scattergl\"}],\"scattermapbox\":[{\"marker\":{\"colorbar\":{\"outlinewidth\":0,\"ticks\":\"\"}},\"type\":\"scattermapbox\"}],\"scatterpolar\":[{\"marker\":{\"colorbar\":{\"outlinewidth\":0,\"ticks\":\"\"}},\"type\":\"scatterpolar\"}],\"scatterpolargl\":[{\"marker\":{\"colorbar\":{\"outlinewidth\":0,\"ticks\":\"\"}},\"type\":\"scatterpolargl\"}],\"scatterternary\":[{\"marker\":{\"colorbar\":{\"outlinewidth\":0,\"ticks\":\"\"}},\"type\":\"scatterternary\"}],\"surface\":[{\"colorbar\":{\"outlinewidth\":0,\"ticks\":\"\"},\"colorscale\":[[0.0,\"#0d0887\"],[0.1111111111111111,\"#46039f\"],[0.2222222222222222,\"#7201a8\"],[0.3333333333333333,\"#9c179e\"],[0.4444444444444444,\"#bd3786\"],[0.5555555555555556,\"#d8576b\"],[0.6666666666666666,\"#ed7953\"],[0.7777777777777778,\"#fb9f3a\"],[0.8888888888888888,\"#fdca26\"],[1.0,\"#f0f921\"]],\"type\":\"surface\"}],\"table\":[{\"cells\":{\"fill\":{\"color\":\"#EBF0F8\"},\"line\":{\"color\":\"white\"}},\"header\":{\"fill\":{\"color\":\"#C8D4E3\"},\"line\":{\"color\":\"white\"}},\"type\":\"table\"}]},\"layout\":{\"annotationdefaults\":{\"arrowcolor\":\"#2a3f5f\",\"arrowhead\":0,\"arrowwidth\":1},\"autotypenumbers\":\"strict\",\"coloraxis\":{\"colorbar\":{\"outlinewidth\":0,\"ticks\":\"\"}},\"colorscale\":{\"diverging\":[[0,\"#8e0152\"],[0.1,\"#c51b7d\"],[0.2,\"#de77ae\"],[0.3,\"#f1b6da\"],[0.4,\"#fde0ef\"],[0.5,\"#f7f7f7\"],[0.6,\"#e6f5d0\"],[0.7,\"#b8e186\"],[0.8,\"#7fbc41\"],[0.9,\"#4d9221\"],[1,\"#276419\"]],\"sequential\":[[0.0,\"#0d0887\"],[0.1111111111111111,\"#46039f\"],[0.2222222222222222,\"#7201a8\"],[0.3333333333333333,\"#9c179e\"],[0.4444444444444444,\"#bd3786\"],[0.5555555555555556,\"#d8576b\"],[0.6666666666666666,\"#ed7953\"],[0.7777777777777778,\"#fb9f3a\"],[0.8888888888888888,\"#fdca26\"],[1.0,\"#f0f921\"]],\"sequentialminus\":[[0.0,\"#0d0887\"],[0.1111111111111111,\"#46039f\"],[0.2222222222222222,\"#7201a8\"],[0.3333333333333333,\"#9c179e\"],[0.4444444444444444,\"#bd3786\"],[0.5555555555555556,\"#d8576b\"],[0.6666666666666666,\"#ed7953\"],[0.7777777777777778,\"#fb9f3a\"],[0.8888888888888888,\"#fdca26\"],[1.0,\"#f0f921\"]]},\"colorway\":[\"#636efa\",\"#EF553B\",\"#00cc96\",\"#ab63fa\",\"#FFA15A\",\"#19d3f3\",\"#FF6692\",\"#B6E880\",\"#FF97FF\",\"#FECB52\"],\"font\":{\"color\":\"#2a3f5f\"},\"geo\":{\"bgcolor\":\"white\",\"lakecolor\":\"white\",\"landcolor\":\"#E5ECF6\",\"showlakes\":true,\"showland\":true,\"subunitcolor\":\"white\"},\"hoverlabel\":{\"align\":\"left\"},\"hovermode\":\"closest\",\"mapbox\":{\"style\":\"light\"},\"paper_bgcolor\":\"white\",\"plot_bgcolor\":\"#E5ECF6\",\"polar\":{\"angularaxis\":{\"gridcolor\":\"white\",\"linecolor\":\"white\",\"ticks\":\"\"},\"bgcolor\":\"#E5ECF6\",\"radialaxis\":{\"gridcolor\":\"white\",\"linecolor\":\"white\",\"ticks\":\"\"}},\"scene\":{\"xaxis\":{\"backgroundcolor\":\"#E5ECF6\",\"gridcolor\":\"white\",\"gridwidth\":2,\"linecolor\":\"white\",\"showbackground\":true,\"ticks\":\"\",\"zerolinecolor\":\"white\"},\"yaxis\":{\"backgroundcolor\":\"#E5ECF6\",\"gridcolor\":\"white\",\"gridwidth\":2,\"linecolor\":\"white\",\"showbackground\":true,\"ticks\":\"\",\"zerolinecolor\":\"white\"},\"zaxis\":{\"backgroundcolor\":\"#E5ECF6\",\"gridcolor\":\"white\",\"gridwidth\":2,\"linecolor\":\"white\",\"showbackground\":true,\"ticks\":\"\",\"zerolinecolor\":\"white\"}},\"shapedefaults\":{\"line\":{\"color\":\"#2a3f5f\"}},\"ternary\":{\"aaxis\":{\"gridcolor\":\"white\",\"linecolor\":\"white\",\"ticks\":\"\"},\"baxis\":{\"gridcolor\":\"white\",\"linecolor\":\"white\",\"ticks\":\"\"},\"bgcolor\":\"#E5ECF6\",\"caxis\":{\"gridcolor\":\"white\",\"linecolor\":\"white\",\"ticks\":\"\"}},\"title\":{\"x\":0.05},\"xaxis\":{\"automargin\":true,\"gridcolor\":\"white\",\"linecolor\":\"white\",\"ticks\":\"\",\"title\":{\"standoff\":15},\"zerolinecolor\":\"white\",\"zerolinewidth\":2},\"yaxis\":{\"automargin\":true,\"gridcolor\":\"white\",\"linecolor\":\"white\",\"ticks\":\"\",\"title\":{\"standoff\":15},\"zerolinecolor\":\"white\",\"zerolinewidth\":2}}},\"xaxis\":{\"anchor\":\"y\",\"domain\":[0.0,1.0],\"title\":{\"text\":\"Age\"}},\"yaxis\":{\"anchor\":\"x\",\"domain\":[0.0,1.0],\"title\":{\"text\":\"Cmp%\"}}},                        {\"responsive\": true}                    ).then(function(){\n",
       "                            \n",
       "var gd = document.getElementById('6aba39b7-ff4e-4f1d-9c2f-3cc084234b02');\n",
       "var x = new MutationObserver(function (mutations, observer) {{\n",
       "        var display = window.getComputedStyle(gd).display;\n",
       "        if (!display || display === 'none') {{\n",
       "            console.log([gd, 'removed!']);\n",
       "            Plotly.purge(gd);\n",
       "            observer.disconnect();\n",
       "        }}\n",
       "}});\n",
       "\n",
       "// Listen for the removal of the full notebook cells\n",
       "var notebookContainer = gd.closest('#notebook-container');\n",
       "if (notebookContainer) {{\n",
       "    x.observe(notebookContainer, {childList: true});\n",
       "}}\n",
       "\n",
       "// Listen for the clearing of the current output cell\n",
       "var outputEl = gd.closest('.output');\n",
       "if (outputEl) {{\n",
       "    x.observe(outputEl, {childList: true});\n",
       "}}\n",
       "\n",
       "                        })                };                });            </script>        </div>"
      ]
     },
     "metadata": {},
     "output_type": "display_data"
    }
   ],
   "source": [
    "px.line(ret_passing, x = 'Age', y = 'Cmp%', color = 'Ret Age')"
   ]
  },
  {
   "cell_type": "code",
   "execution_count": 104,
   "id": "0149bada",
   "metadata": {},
   "outputs": [
    {
     "data": {
      "application/vnd.plotly.v1+json": {
       "config": {
        "plotlyServerURL": "https://plot.ly"
       },
       "data": [
        {
         "hovertemplate": "Ret Age=21<br>Age=%{x}<br>Y/A=%{y}<extra></extra>",
         "legendgroup": "21",
         "line": {
          "color": "#636efa",
          "dash": "solid"
         },
         "mode": "lines",
         "name": "21",
         "orientation": "v",
         "showlegend": true,
         "type": "scatter",
         "x": [
          21
         ],
         "xaxis": "x",
         "y": [
          5.584441440153605
         ],
         "yaxis": "y"
        },
        {
         "hovertemplate": "Ret Age=23<br>Age=%{x}<br>Y/A=%{y}<extra></extra>",
         "legendgroup": "23",
         "line": {
          "color": "#EF553B",
          "dash": "solid"
         },
         "mode": "lines",
         "name": "23",
         "orientation": "v",
         "showlegend": true,
         "type": "scatter",
         "x": [
          22,
          23
         ],
         "xaxis": "x",
         "y": [
          5.90712701534064,
          6.242185705204597
         ],
         "yaxis": "y"
        },
        {
         "hovertemplate": "Ret Age=24<br>Age=%{x}<br>Y/A=%{y}<extra></extra>",
         "legendgroup": "24",
         "line": {
          "color": "#00cc96",
          "dash": "solid"
         },
         "mode": "lines",
         "name": "24",
         "orientation": "v",
         "showlegend": true,
         "type": "scatter",
         "x": [
          21,
          22,
          23,
          24
         ],
         "xaxis": "x",
         "y": [
          6.162025401771326,
          6.851858223814335,
          6.366053735357037,
          6.30677582426383
         ],
         "yaxis": "y"
        },
        {
         "hovertemplate": "Ret Age=25<br>Age=%{x}<br>Y/A=%{y}<extra></extra>",
         "legendgroup": "25",
         "line": {
          "color": "#ab63fa",
          "dash": "solid"
         },
         "mode": "lines",
         "name": "25",
         "orientation": "v",
         "showlegend": true,
         "type": "scatter",
         "x": [
          22,
          23,
          24,
          25
         ],
         "xaxis": "x",
         "y": [
          6.722071640951684,
          6.753595370324439,
          6.364264718338403,
          6.402452093162284
         ],
         "yaxis": "y"
        },
        {
         "hovertemplate": "Ret Age=26<br>Age=%{x}<br>Y/A=%{y}<extra></extra>",
         "legendgroup": "26",
         "line": {
          "color": "#FFA15A",
          "dash": "solid"
         },
         "mode": "lines",
         "name": "26",
         "orientation": "v",
         "showlegend": true,
         "type": "scatter",
         "x": [
          22,
          23,
          24,
          25,
          26
         ],
         "xaxis": "x",
         "y": [
          6.157149813481351,
          6.494572126631859,
          6.379904600143355,
          6.610872263454564,
          6.44520906616508
         ],
         "yaxis": "y"
        },
        {
         "hovertemplate": "Ret Age=27<br>Age=%{x}<br>Y/A=%{y}<extra></extra>",
         "legendgroup": "27",
         "line": {
          "color": "#19d3f3",
          "dash": "solid"
         },
         "mode": "lines",
         "name": "27",
         "orientation": "v",
         "showlegend": true,
         "type": "scatter",
         "x": [
          22,
          23,
          24,
          25,
          26,
          27
         ],
         "xaxis": "x",
         "y": [
          5.739306195181855,
          5.850075283980375,
          6.704072182027648,
          6.562642717385242,
          6.181405390631693,
          6.239910762882926
         ],
         "yaxis": "y"
        },
        {
         "hovertemplate": "Ret Age=28<br>Age=%{x}<br>Y/A=%{y}<extra></extra>",
         "legendgroup": "28",
         "line": {
          "color": "#FF6692",
          "dash": "solid"
         },
         "mode": "lines",
         "name": "28",
         "orientation": "v",
         "showlegend": true,
         "type": "scatter",
         "x": [
          22,
          23,
          24,
          25,
          26,
          27,
          28
         ],
         "xaxis": "x",
         "y": [
          5.008430626320117,
          6.334090414239532,
          6.321075486002247,
          6.148787961244411,
          6.315039131813485,
          6.508003881597885,
          6.31098611802519
         ],
         "yaxis": "y"
        },
        {
         "hovertemplate": "Ret Age=29<br>Age=%{x}<br>Y/A=%{y}<extra></extra>",
         "legendgroup": "29",
         "line": {
          "color": "#B6E880",
          "dash": "solid"
         },
         "mode": "lines",
         "name": "29",
         "orientation": "v",
         "showlegend": true,
         "type": "scatter",
         "x": [
          22,
          23,
          24,
          25,
          26,
          27,
          28,
          29
         ],
         "xaxis": "x",
         "y": [
          6.382466254800006,
          6.214948573386794,
          6.250668461682166,
          6.855322519331683,
          6.317123847315196,
          6.777269438351116,
          6.625744369352002,
          6.540915652425261
         ],
         "yaxis": "y"
        },
        {
         "hovertemplate": "Ret Age=30<br>Age=%{x}<br>Y/A=%{y}<extra></extra>",
         "legendgroup": "30",
         "line": {
          "color": "#FF97FF",
          "dash": "solid"
         },
         "mode": "lines",
         "name": "30",
         "orientation": "v",
         "showlegend": true,
         "type": "scatter",
         "x": [
          22,
          23,
          24,
          25,
          26,
          27,
          28,
          29,
          30
         ],
         "xaxis": "x",
         "y": [
          6.079925177087893,
          7.160148970637235,
          6.453654317439394,
          6.894662120711218,
          7.040206199670593,
          6.687211638169216,
          6.600860792121422,
          6.627726897799142,
          6.448656901181845
         ],
         "yaxis": "y"
        },
        {
         "hovertemplate": "Ret Age=31<br>Age=%{x}<br>Y/A=%{y}<extra></extra>",
         "legendgroup": "31",
         "line": {
          "color": "#FECB52",
          "dash": "solid"
         },
         "mode": "lines",
         "name": "31",
         "orientation": "v",
         "showlegend": true,
         "type": "scatter",
         "x": [
          22,
          23,
          24,
          25,
          26,
          27,
          28,
          29,
          30,
          31
         ],
         "xaxis": "x",
         "y": [
          7.320585170999926,
          7.051700038922543,
          6.386869268335966,
          6.9334786291069594,
          6.7218945141382385,
          6.3525242370855395,
          6.4526744896369905,
          6.716591223617191,
          6.483669870392533,
          6.312004258729503
         ],
         "yaxis": "y"
        },
        {
         "hovertemplate": "Ret Age=32<br>Age=%{x}<br>Y/A=%{y}<extra></extra>",
         "legendgroup": "32",
         "line": {
          "color": "#636efa",
          "dash": "solid"
         },
         "mode": "lines",
         "name": "32",
         "orientation": "v",
         "showlegend": true,
         "type": "scatter",
         "x": [
          23,
          24,
          25,
          26,
          27,
          28,
          29,
          30,
          31,
          32
         ],
         "xaxis": "x",
         "y": [
          6.1232829242839415,
          6.708592973593538,
          6.506275042143342,
          6.8621189963224145,
          7.0188608492350655,
          6.935430118996896,
          6.97234314725314,
          6.86487632998037,
          6.728902195996848,
          6.440848139349186
         ],
         "yaxis": "y"
        },
        {
         "hovertemplate": "Ret Age=33<br>Age=%{x}<br>Y/A=%{y}<extra></extra>",
         "legendgroup": "33",
         "line": {
          "color": "#EF553B",
          "dash": "solid"
         },
         "mode": "lines",
         "name": "33",
         "orientation": "v",
         "showlegend": true,
         "type": "scatter",
         "x": [
          22,
          23,
          24,
          25,
          26,
          27,
          28,
          29,
          30,
          31,
          32,
          33
         ],
         "xaxis": "x",
         "y": [
          6.979747036617189,
          6.013443270164684,
          6.229779818250644,
          6.806232355489235,
          6.772345273659287,
          6.810880265984949,
          6.718695036173002,
          7.091690421424226,
          6.924623812934616,
          6.644264670773921,
          6.993495855870407,
          6.3526787601432755
         ],
         "yaxis": "y"
        },
        {
         "hovertemplate": "Ret Age=34<br>Age=%{x}<br>Y/A=%{y}<extra></extra>",
         "legendgroup": "34",
         "line": {
          "color": "#00cc96",
          "dash": "solid"
         },
         "mode": "lines",
         "name": "34",
         "orientation": "v",
         "showlegend": true,
         "type": "scatter",
         "x": [
          21,
          22,
          23,
          24,
          25,
          26,
          27,
          28,
          29,
          30,
          31,
          32,
          33,
          34
         ],
         "xaxis": "x",
         "y": [
          5.8407919183404085,
          6.55155391127213,
          6.298664760760672,
          6.753848391045015,
          6.909158129390953,
          6.90713544573882,
          7.237292417051487,
          6.945721808955025,
          7.229780635612865,
          6.9596608430279705,
          6.761013710409199,
          6.666122790597999,
          6.711799793130661,
          6.513228993898067
         ],
         "yaxis": "y"
        },
        {
         "hovertemplate": "Ret Age=35<br>Age=%{x}<br>Y/A=%{y}<extra></extra>",
         "legendgroup": "35",
         "line": {
          "color": "#ab63fa",
          "dash": "solid"
         },
         "mode": "lines",
         "name": "35",
         "orientation": "v",
         "showlegend": true,
         "type": "scatter",
         "x": [
          23,
          24,
          25,
          26,
          27,
          28,
          29,
          30,
          31,
          32,
          33,
          34,
          35
         ],
         "xaxis": "x",
         "y": [
          6.668780873145789,
          6.1599439007269545,
          6.571278002935363,
          6.292036489739142,
          6.568944201932675,
          7.35425807119397,
          7.1763845921743625,
          7.163585825569314,
          6.756740214012181,
          7.005610407314325,
          7.103746074339875,
          7.174772551454462,
          6.569571304518975
         ],
         "yaxis": "y"
        },
        {
         "hovertemplate": "Ret Age=36<br>Age=%{x}<br>Y/A=%{y}<extra></extra>",
         "legendgroup": "36",
         "line": {
          "color": "#FFA15A",
          "dash": "solid"
         },
         "mode": "lines",
         "name": "36",
         "orientation": "v",
         "showlegend": true,
         "type": "scatter",
         "x": [
          22,
          23,
          24,
          25,
          26,
          27,
          28,
          29,
          30,
          31,
          32,
          33,
          34,
          35,
          36
         ],
         "xaxis": "x",
         "y": [
          6.419003240836312,
          6.7587939914499024,
          7.1095143724116125,
          6.932055665229575,
          7.172551193171022,
          7.339720600286617,
          7.17209039791441,
          6.968595141544705,
          7.266341801640658,
          6.934615660874367,
          7.295869414031482,
          7.268216412655423,
          7.196398954552371,
          7.21263043640065,
          6.68615492175428
         ],
         "yaxis": "y"
        },
        {
         "hovertemplate": "Ret Age=37<br>Age=%{x}<br>Y/A=%{y}<extra></extra>",
         "legendgroup": "37",
         "line": {
          "color": "#19d3f3",
          "dash": "solid"
         },
         "mode": "lines",
         "name": "37",
         "orientation": "v",
         "showlegend": true,
         "type": "scatter",
         "x": [
          24,
          25,
          26,
          27,
          28,
          29,
          30,
          31,
          32,
          33,
          34,
          35,
          36,
          37
         ],
         "xaxis": "x",
         "y": [
          6.939411449904403,
          6.776763434489387,
          6.804110010006944,
          6.517253318981266,
          7.105119627273178,
          6.83741584816974,
          7.518988865729239,
          7.9919047654337065,
          8.504641003688667,
          7.6125377147385676,
          6.637403987542916,
          6.487708190186674,
          7.134519841837295,
          7.243974709956322
         ],
         "yaxis": "y"
        },
        {
         "hovertemplate": "Ret Age=38<br>Age=%{x}<br>Y/A=%{y}<extra></extra>",
         "legendgroup": "38",
         "line": {
          "color": "#FF6692",
          "dash": "solid"
         },
         "mode": "lines",
         "name": "38",
         "orientation": "v",
         "showlegend": true,
         "type": "scatter",
         "x": [
          22,
          23,
          24,
          25,
          26,
          27,
          28,
          29,
          30,
          31,
          32,
          33,
          34,
          35,
          36,
          37,
          38
         ],
         "xaxis": "x",
         "y": [
          6.989219224663158,
          6.890436912948862,
          6.634148094678521,
          6.420251315541273,
          6.577505950251594,
          6.918216818199836,
          7.1368231950796135,
          6.867828570781896,
          7.243288854515607,
          6.901864564172276,
          7.02535542112236,
          7.040879151399757,
          7.082709793279191,
          6.903505251680066,
          7.072773920193891,
          6.864107858089977,
          6.761147599153956
         ],
         "yaxis": "y"
        },
        {
         "hovertemplate": "Ret Age=39<br>Age=%{x}<br>Y/A=%{y}<extra></extra>",
         "legendgroup": "39",
         "line": {
          "color": "#B6E880",
          "dash": "solid"
         },
         "mode": "lines",
         "name": "39",
         "orientation": "v",
         "showlegend": true,
         "type": "scatter",
         "x": [
          22,
          23,
          24,
          25,
          26,
          27,
          28,
          29,
          30,
          31,
          32,
          33,
          34,
          35,
          36,
          37,
          38,
          39
         ],
         "xaxis": "x",
         "y": [
          6.385329191358625,
          7.721454838297358,
          6.837042260347431,
          6.9410470713963885,
          6.716400818803702,
          7.860558390992262,
          8.11824828872564,
          8.064900315487392,
          7.2730744218801,
          6.915873446165777,
          7.374116243757285,
          7.125481001876964,
          6.629173718223061,
          7.270009227961513,
          7.474727752214729,
          7.440179980073579,
          7.330221662684775,
          7.082977003825218
         ],
         "yaxis": "y"
        },
        {
         "hovertemplate": "Ret Age=40<br>Age=%{x}<br>Y/A=%{y}<extra></extra>",
         "legendgroup": "40",
         "line": {
          "color": "#FF97FF",
          "dash": "solid"
         },
         "mode": "lines",
         "name": "40",
         "orientation": "v",
         "showlegend": true,
         "type": "scatter",
         "x": [
          25,
          26,
          27,
          28,
          29,
          30,
          31,
          32,
          33,
          34,
          35,
          36,
          37,
          40
         ],
         "xaxis": "x",
         "y": [
          7.047007863076591,
          5.6265219526171615,
          7.345084979099629,
          7.491453870784383,
          6.804202104196404,
          7.6354586631212,
          6.461952652087826,
          6.921908564173787,
          5.634717642280337,
          5.9793919106203335,
          6.4906631575678,
          6.440716571625034,
          5.875327879499969,
          6.485223394685177
         ],
         "yaxis": "y"
        },
        {
         "hovertemplate": "Ret Age=41<br>Age=%{x}<br>Y/A=%{y}<extra></extra>",
         "legendgroup": "41",
         "line": {
          "color": "#FECB52",
          "dash": "solid"
         },
         "mode": "lines",
         "name": "41",
         "orientation": "v",
         "showlegend": true,
         "type": "scatter",
         "x": [
          23,
          24,
          25,
          26,
          27,
          28,
          29,
          30,
          31,
          32,
          33,
          34,
          35,
          36,
          37,
          38,
          39,
          40,
          41
         ],
         "xaxis": "x",
         "y": [
          6.468841044547402,
          6.231387917780964,
          6.923091280970442,
          6.9380496328393475,
          7.501783876746941,
          6.821207748835993,
          7.4794543820080195,
          7.546145448844676,
          6.6886607247158505,
          7.614944063198923,
          7.222402118872358,
          7.080490299072378,
          7.2317113506870125,
          6.94298090700352,
          6.621429998536042,
          7.261477019070298,
          6.816527347355801,
          7.431005752157022,
          6.8235208544012185
         ],
         "yaxis": "y"
        },
        {
         "hovertemplate": "Ret Age=42<br>Age=%{x}<br>Y/A=%{y}<extra></extra>",
         "legendgroup": "42",
         "line": {
          "color": "#636efa",
          "dash": "solid"
         },
         "mode": "lines",
         "name": "42",
         "orientation": "v",
         "showlegend": true,
         "type": "scatter",
         "x": [
          28,
          29,
          30,
          31,
          32,
          33,
          34,
          35,
          36,
          37,
          38,
          39,
          40,
          41,
          42
         ],
         "xaxis": "x",
         "y": [
          6.990491471605256,
          6.866107068298711,
          6.879844336743036,
          7.369398194215484,
          7.704541253490269,
          7.365289368440152,
          7.70718805653238,
          6.990572253978963,
          7.140873894655765,
          6.733362816446859,
          7.0514220468505915,
          6.930102118465399,
          6.562204538374088,
          6.998909936031352,
          6.211494713351344
         ],
         "yaxis": "y"
        }
       ],
       "layout": {
        "legend": {
         "title": {
          "text": "Ret Age"
         },
         "tracegroupgap": 0
        },
        "margin": {
         "t": 60
        },
        "template": {
         "data": {
          "bar": [
           {
            "error_x": {
             "color": "#2a3f5f"
            },
            "error_y": {
             "color": "#2a3f5f"
            },
            "marker": {
             "line": {
              "color": "#E5ECF6",
              "width": 0.5
             },
             "pattern": {
              "fillmode": "overlay",
              "size": 10,
              "solidity": 0.2
             }
            },
            "type": "bar"
           }
          ],
          "barpolar": [
           {
            "marker": {
             "line": {
              "color": "#E5ECF6",
              "width": 0.5
             },
             "pattern": {
              "fillmode": "overlay",
              "size": 10,
              "solidity": 0.2
             }
            },
            "type": "barpolar"
           }
          ],
          "carpet": [
           {
            "aaxis": {
             "endlinecolor": "#2a3f5f",
             "gridcolor": "white",
             "linecolor": "white",
             "minorgridcolor": "white",
             "startlinecolor": "#2a3f5f"
            },
            "baxis": {
             "endlinecolor": "#2a3f5f",
             "gridcolor": "white",
             "linecolor": "white",
             "minorgridcolor": "white",
             "startlinecolor": "#2a3f5f"
            },
            "type": "carpet"
           }
          ],
          "choropleth": [
           {
            "colorbar": {
             "outlinewidth": 0,
             "ticks": ""
            },
            "type": "choropleth"
           }
          ],
          "contour": [
           {
            "colorbar": {
             "outlinewidth": 0,
             "ticks": ""
            },
            "colorscale": [
             [
              0,
              "#0d0887"
             ],
             [
              0.1111111111111111,
              "#46039f"
             ],
             [
              0.2222222222222222,
              "#7201a8"
             ],
             [
              0.3333333333333333,
              "#9c179e"
             ],
             [
              0.4444444444444444,
              "#bd3786"
             ],
             [
              0.5555555555555556,
              "#d8576b"
             ],
             [
              0.6666666666666666,
              "#ed7953"
             ],
             [
              0.7777777777777778,
              "#fb9f3a"
             ],
             [
              0.8888888888888888,
              "#fdca26"
             ],
             [
              1,
              "#f0f921"
             ]
            ],
            "type": "contour"
           }
          ],
          "contourcarpet": [
           {
            "colorbar": {
             "outlinewidth": 0,
             "ticks": ""
            },
            "type": "contourcarpet"
           }
          ],
          "heatmap": [
           {
            "colorbar": {
             "outlinewidth": 0,
             "ticks": ""
            },
            "colorscale": [
             [
              0,
              "#0d0887"
             ],
             [
              0.1111111111111111,
              "#46039f"
             ],
             [
              0.2222222222222222,
              "#7201a8"
             ],
             [
              0.3333333333333333,
              "#9c179e"
             ],
             [
              0.4444444444444444,
              "#bd3786"
             ],
             [
              0.5555555555555556,
              "#d8576b"
             ],
             [
              0.6666666666666666,
              "#ed7953"
             ],
             [
              0.7777777777777778,
              "#fb9f3a"
             ],
             [
              0.8888888888888888,
              "#fdca26"
             ],
             [
              1,
              "#f0f921"
             ]
            ],
            "type": "heatmap"
           }
          ],
          "heatmapgl": [
           {
            "colorbar": {
             "outlinewidth": 0,
             "ticks": ""
            },
            "colorscale": [
             [
              0,
              "#0d0887"
             ],
             [
              0.1111111111111111,
              "#46039f"
             ],
             [
              0.2222222222222222,
              "#7201a8"
             ],
             [
              0.3333333333333333,
              "#9c179e"
             ],
             [
              0.4444444444444444,
              "#bd3786"
             ],
             [
              0.5555555555555556,
              "#d8576b"
             ],
             [
              0.6666666666666666,
              "#ed7953"
             ],
             [
              0.7777777777777778,
              "#fb9f3a"
             ],
             [
              0.8888888888888888,
              "#fdca26"
             ],
             [
              1,
              "#f0f921"
             ]
            ],
            "type": "heatmapgl"
           }
          ],
          "histogram": [
           {
            "marker": {
             "pattern": {
              "fillmode": "overlay",
              "size": 10,
              "solidity": 0.2
             }
            },
            "type": "histogram"
           }
          ],
          "histogram2d": [
           {
            "colorbar": {
             "outlinewidth": 0,
             "ticks": ""
            },
            "colorscale": [
             [
              0,
              "#0d0887"
             ],
             [
              0.1111111111111111,
              "#46039f"
             ],
             [
              0.2222222222222222,
              "#7201a8"
             ],
             [
              0.3333333333333333,
              "#9c179e"
             ],
             [
              0.4444444444444444,
              "#bd3786"
             ],
             [
              0.5555555555555556,
              "#d8576b"
             ],
             [
              0.6666666666666666,
              "#ed7953"
             ],
             [
              0.7777777777777778,
              "#fb9f3a"
             ],
             [
              0.8888888888888888,
              "#fdca26"
             ],
             [
              1,
              "#f0f921"
             ]
            ],
            "type": "histogram2d"
           }
          ],
          "histogram2dcontour": [
           {
            "colorbar": {
             "outlinewidth": 0,
             "ticks": ""
            },
            "colorscale": [
             [
              0,
              "#0d0887"
             ],
             [
              0.1111111111111111,
              "#46039f"
             ],
             [
              0.2222222222222222,
              "#7201a8"
             ],
             [
              0.3333333333333333,
              "#9c179e"
             ],
             [
              0.4444444444444444,
              "#bd3786"
             ],
             [
              0.5555555555555556,
              "#d8576b"
             ],
             [
              0.6666666666666666,
              "#ed7953"
             ],
             [
              0.7777777777777778,
              "#fb9f3a"
             ],
             [
              0.8888888888888888,
              "#fdca26"
             ],
             [
              1,
              "#f0f921"
             ]
            ],
            "type": "histogram2dcontour"
           }
          ],
          "mesh3d": [
           {
            "colorbar": {
             "outlinewidth": 0,
             "ticks": ""
            },
            "type": "mesh3d"
           }
          ],
          "parcoords": [
           {
            "line": {
             "colorbar": {
              "outlinewidth": 0,
              "ticks": ""
             }
            },
            "type": "parcoords"
           }
          ],
          "pie": [
           {
            "automargin": true,
            "type": "pie"
           }
          ],
          "scatter": [
           {
            "marker": {
             "colorbar": {
              "outlinewidth": 0,
              "ticks": ""
             }
            },
            "type": "scatter"
           }
          ],
          "scatter3d": [
           {
            "line": {
             "colorbar": {
              "outlinewidth": 0,
              "ticks": ""
             }
            },
            "marker": {
             "colorbar": {
              "outlinewidth": 0,
              "ticks": ""
             }
            },
            "type": "scatter3d"
           }
          ],
          "scattercarpet": [
           {
            "marker": {
             "colorbar": {
              "outlinewidth": 0,
              "ticks": ""
             }
            },
            "type": "scattercarpet"
           }
          ],
          "scattergeo": [
           {
            "marker": {
             "colorbar": {
              "outlinewidth": 0,
              "ticks": ""
             }
            },
            "type": "scattergeo"
           }
          ],
          "scattergl": [
           {
            "marker": {
             "colorbar": {
              "outlinewidth": 0,
              "ticks": ""
             }
            },
            "type": "scattergl"
           }
          ],
          "scattermapbox": [
           {
            "marker": {
             "colorbar": {
              "outlinewidth": 0,
              "ticks": ""
             }
            },
            "type": "scattermapbox"
           }
          ],
          "scatterpolar": [
           {
            "marker": {
             "colorbar": {
              "outlinewidth": 0,
              "ticks": ""
             }
            },
            "type": "scatterpolar"
           }
          ],
          "scatterpolargl": [
           {
            "marker": {
             "colorbar": {
              "outlinewidth": 0,
              "ticks": ""
             }
            },
            "type": "scatterpolargl"
           }
          ],
          "scatterternary": [
           {
            "marker": {
             "colorbar": {
              "outlinewidth": 0,
              "ticks": ""
             }
            },
            "type": "scatterternary"
           }
          ],
          "surface": [
           {
            "colorbar": {
             "outlinewidth": 0,
             "ticks": ""
            },
            "colorscale": [
             [
              0,
              "#0d0887"
             ],
             [
              0.1111111111111111,
              "#46039f"
             ],
             [
              0.2222222222222222,
              "#7201a8"
             ],
             [
              0.3333333333333333,
              "#9c179e"
             ],
             [
              0.4444444444444444,
              "#bd3786"
             ],
             [
              0.5555555555555556,
              "#d8576b"
             ],
             [
              0.6666666666666666,
              "#ed7953"
             ],
             [
              0.7777777777777778,
              "#fb9f3a"
             ],
             [
              0.8888888888888888,
              "#fdca26"
             ],
             [
              1,
              "#f0f921"
             ]
            ],
            "type": "surface"
           }
          ],
          "table": [
           {
            "cells": {
             "fill": {
              "color": "#EBF0F8"
             },
             "line": {
              "color": "white"
             }
            },
            "header": {
             "fill": {
              "color": "#C8D4E3"
             },
             "line": {
              "color": "white"
             }
            },
            "type": "table"
           }
          ]
         },
         "layout": {
          "annotationdefaults": {
           "arrowcolor": "#2a3f5f",
           "arrowhead": 0,
           "arrowwidth": 1
          },
          "autotypenumbers": "strict",
          "coloraxis": {
           "colorbar": {
            "outlinewidth": 0,
            "ticks": ""
           }
          },
          "colorscale": {
           "diverging": [
            [
             0,
             "#8e0152"
            ],
            [
             0.1,
             "#c51b7d"
            ],
            [
             0.2,
             "#de77ae"
            ],
            [
             0.3,
             "#f1b6da"
            ],
            [
             0.4,
             "#fde0ef"
            ],
            [
             0.5,
             "#f7f7f7"
            ],
            [
             0.6,
             "#e6f5d0"
            ],
            [
             0.7,
             "#b8e186"
            ],
            [
             0.8,
             "#7fbc41"
            ],
            [
             0.9,
             "#4d9221"
            ],
            [
             1,
             "#276419"
            ]
           ],
           "sequential": [
            [
             0,
             "#0d0887"
            ],
            [
             0.1111111111111111,
             "#46039f"
            ],
            [
             0.2222222222222222,
             "#7201a8"
            ],
            [
             0.3333333333333333,
             "#9c179e"
            ],
            [
             0.4444444444444444,
             "#bd3786"
            ],
            [
             0.5555555555555556,
             "#d8576b"
            ],
            [
             0.6666666666666666,
             "#ed7953"
            ],
            [
             0.7777777777777778,
             "#fb9f3a"
            ],
            [
             0.8888888888888888,
             "#fdca26"
            ],
            [
             1,
             "#f0f921"
            ]
           ],
           "sequentialminus": [
            [
             0,
             "#0d0887"
            ],
            [
             0.1111111111111111,
             "#46039f"
            ],
            [
             0.2222222222222222,
             "#7201a8"
            ],
            [
             0.3333333333333333,
             "#9c179e"
            ],
            [
             0.4444444444444444,
             "#bd3786"
            ],
            [
             0.5555555555555556,
             "#d8576b"
            ],
            [
             0.6666666666666666,
             "#ed7953"
            ],
            [
             0.7777777777777778,
             "#fb9f3a"
            ],
            [
             0.8888888888888888,
             "#fdca26"
            ],
            [
             1,
             "#f0f921"
            ]
           ]
          },
          "colorway": [
           "#636efa",
           "#EF553B",
           "#00cc96",
           "#ab63fa",
           "#FFA15A",
           "#19d3f3",
           "#FF6692",
           "#B6E880",
           "#FF97FF",
           "#FECB52"
          ],
          "font": {
           "color": "#2a3f5f"
          },
          "geo": {
           "bgcolor": "white",
           "lakecolor": "white",
           "landcolor": "#E5ECF6",
           "showlakes": true,
           "showland": true,
           "subunitcolor": "white"
          },
          "hoverlabel": {
           "align": "left"
          },
          "hovermode": "closest",
          "mapbox": {
           "style": "light"
          },
          "paper_bgcolor": "white",
          "plot_bgcolor": "#E5ECF6",
          "polar": {
           "angularaxis": {
            "gridcolor": "white",
            "linecolor": "white",
            "ticks": ""
           },
           "bgcolor": "#E5ECF6",
           "radialaxis": {
            "gridcolor": "white",
            "linecolor": "white",
            "ticks": ""
           }
          },
          "scene": {
           "xaxis": {
            "backgroundcolor": "#E5ECF6",
            "gridcolor": "white",
            "gridwidth": 2,
            "linecolor": "white",
            "showbackground": true,
            "ticks": "",
            "zerolinecolor": "white"
           },
           "yaxis": {
            "backgroundcolor": "#E5ECF6",
            "gridcolor": "white",
            "gridwidth": 2,
            "linecolor": "white",
            "showbackground": true,
            "ticks": "",
            "zerolinecolor": "white"
           },
           "zaxis": {
            "backgroundcolor": "#E5ECF6",
            "gridcolor": "white",
            "gridwidth": 2,
            "linecolor": "white",
            "showbackground": true,
            "ticks": "",
            "zerolinecolor": "white"
           }
          },
          "shapedefaults": {
           "line": {
            "color": "#2a3f5f"
           }
          },
          "ternary": {
           "aaxis": {
            "gridcolor": "white",
            "linecolor": "white",
            "ticks": ""
           },
           "baxis": {
            "gridcolor": "white",
            "linecolor": "white",
            "ticks": ""
           },
           "bgcolor": "#E5ECF6",
           "caxis": {
            "gridcolor": "white",
            "linecolor": "white",
            "ticks": ""
           }
          },
          "title": {
           "x": 0.05
          },
          "xaxis": {
           "automargin": true,
           "gridcolor": "white",
           "linecolor": "white",
           "ticks": "",
           "title": {
            "standoff": 15
           },
           "zerolinecolor": "white",
           "zerolinewidth": 2
          },
          "yaxis": {
           "automargin": true,
           "gridcolor": "white",
           "linecolor": "white",
           "ticks": "",
           "title": {
            "standoff": 15
           },
           "zerolinecolor": "white",
           "zerolinewidth": 2
          }
         }
        },
        "xaxis": {
         "anchor": "y",
         "domain": [
          0,
          1
         ],
         "title": {
          "text": "Age"
         }
        },
        "yaxis": {
         "anchor": "x",
         "domain": [
          0,
          1
         ],
         "title": {
          "text": "Y/A"
         }
        }
       }
      },
      "text/html": [
       "<div>                            <div id=\"968f0c5a-05eb-4918-ba14-5c272692eb81\" class=\"plotly-graph-div\" style=\"height:525px; width:100%;\"></div>            <script type=\"text/javascript\">                require([\"plotly\"], function(Plotly) {                    window.PLOTLYENV=window.PLOTLYENV || {};                                    if (document.getElementById(\"968f0c5a-05eb-4918-ba14-5c272692eb81\")) {                    Plotly.newPlot(                        \"968f0c5a-05eb-4918-ba14-5c272692eb81\",                        [{\"hovertemplate\":\"Ret Age=21<br>Age=%{x}<br>Y/A=%{y}<extra></extra>\",\"legendgroup\":\"21\",\"line\":{\"color\":\"#636efa\",\"dash\":\"solid\"},\"mode\":\"lines\",\"name\":\"21\",\"orientation\":\"v\",\"showlegend\":true,\"type\":\"scatter\",\"x\":[21],\"xaxis\":\"x\",\"y\":[5.584441440153605],\"yaxis\":\"y\"},{\"hovertemplate\":\"Ret Age=23<br>Age=%{x}<br>Y/A=%{y}<extra></extra>\",\"legendgroup\":\"23\",\"line\":{\"color\":\"#EF553B\",\"dash\":\"solid\"},\"mode\":\"lines\",\"name\":\"23\",\"orientation\":\"v\",\"showlegend\":true,\"type\":\"scatter\",\"x\":[22,23],\"xaxis\":\"x\",\"y\":[5.90712701534064,6.242185705204597],\"yaxis\":\"y\"},{\"hovertemplate\":\"Ret Age=24<br>Age=%{x}<br>Y/A=%{y}<extra></extra>\",\"legendgroup\":\"24\",\"line\":{\"color\":\"#00cc96\",\"dash\":\"solid\"},\"mode\":\"lines\",\"name\":\"24\",\"orientation\":\"v\",\"showlegend\":true,\"type\":\"scatter\",\"x\":[21,22,23,24],\"xaxis\":\"x\",\"y\":[6.162025401771326,6.851858223814335,6.366053735357037,6.30677582426383],\"yaxis\":\"y\"},{\"hovertemplate\":\"Ret Age=25<br>Age=%{x}<br>Y/A=%{y}<extra></extra>\",\"legendgroup\":\"25\",\"line\":{\"color\":\"#ab63fa\",\"dash\":\"solid\"},\"mode\":\"lines\",\"name\":\"25\",\"orientation\":\"v\",\"showlegend\":true,\"type\":\"scatter\",\"x\":[22,23,24,25],\"xaxis\":\"x\",\"y\":[6.722071640951684,6.753595370324439,6.364264718338403,6.402452093162284],\"yaxis\":\"y\"},{\"hovertemplate\":\"Ret Age=26<br>Age=%{x}<br>Y/A=%{y}<extra></extra>\",\"legendgroup\":\"26\",\"line\":{\"color\":\"#FFA15A\",\"dash\":\"solid\"},\"mode\":\"lines\",\"name\":\"26\",\"orientation\":\"v\",\"showlegend\":true,\"type\":\"scatter\",\"x\":[22,23,24,25,26],\"xaxis\":\"x\",\"y\":[6.157149813481351,6.494572126631859,6.379904600143355,6.610872263454564,6.44520906616508],\"yaxis\":\"y\"},{\"hovertemplate\":\"Ret Age=27<br>Age=%{x}<br>Y/A=%{y}<extra></extra>\",\"legendgroup\":\"27\",\"line\":{\"color\":\"#19d3f3\",\"dash\":\"solid\"},\"mode\":\"lines\",\"name\":\"27\",\"orientation\":\"v\",\"showlegend\":true,\"type\":\"scatter\",\"x\":[22,23,24,25,26,27],\"xaxis\":\"x\",\"y\":[5.739306195181855,5.850075283980375,6.704072182027648,6.562642717385242,6.181405390631693,6.239910762882926],\"yaxis\":\"y\"},{\"hovertemplate\":\"Ret Age=28<br>Age=%{x}<br>Y/A=%{y}<extra></extra>\",\"legendgroup\":\"28\",\"line\":{\"color\":\"#FF6692\",\"dash\":\"solid\"},\"mode\":\"lines\",\"name\":\"28\",\"orientation\":\"v\",\"showlegend\":true,\"type\":\"scatter\",\"x\":[22,23,24,25,26,27,28],\"xaxis\":\"x\",\"y\":[5.008430626320117,6.334090414239532,6.321075486002247,6.148787961244411,6.315039131813485,6.508003881597885,6.31098611802519],\"yaxis\":\"y\"},{\"hovertemplate\":\"Ret Age=29<br>Age=%{x}<br>Y/A=%{y}<extra></extra>\",\"legendgroup\":\"29\",\"line\":{\"color\":\"#B6E880\",\"dash\":\"solid\"},\"mode\":\"lines\",\"name\":\"29\",\"orientation\":\"v\",\"showlegend\":true,\"type\":\"scatter\",\"x\":[22,23,24,25,26,27,28,29],\"xaxis\":\"x\",\"y\":[6.382466254800006,6.214948573386794,6.250668461682166,6.855322519331683,6.317123847315196,6.777269438351116,6.625744369352002,6.540915652425261],\"yaxis\":\"y\"},{\"hovertemplate\":\"Ret Age=30<br>Age=%{x}<br>Y/A=%{y}<extra></extra>\",\"legendgroup\":\"30\",\"line\":{\"color\":\"#FF97FF\",\"dash\":\"solid\"},\"mode\":\"lines\",\"name\":\"30\",\"orientation\":\"v\",\"showlegend\":true,\"type\":\"scatter\",\"x\":[22,23,24,25,26,27,28,29,30],\"xaxis\":\"x\",\"y\":[6.079925177087893,7.160148970637235,6.453654317439394,6.894662120711218,7.040206199670593,6.687211638169216,6.600860792121422,6.627726897799142,6.448656901181845],\"yaxis\":\"y\"},{\"hovertemplate\":\"Ret Age=31<br>Age=%{x}<br>Y/A=%{y}<extra></extra>\",\"legendgroup\":\"31\",\"line\":{\"color\":\"#FECB52\",\"dash\":\"solid\"},\"mode\":\"lines\",\"name\":\"31\",\"orientation\":\"v\",\"showlegend\":true,\"type\":\"scatter\",\"x\":[22,23,24,25,26,27,28,29,30,31],\"xaxis\":\"x\",\"y\":[7.320585170999926,7.051700038922543,6.386869268335966,6.9334786291069594,6.7218945141382385,6.3525242370855395,6.4526744896369905,6.716591223617191,6.483669870392533,6.312004258729503],\"yaxis\":\"y\"},{\"hovertemplate\":\"Ret Age=32<br>Age=%{x}<br>Y/A=%{y}<extra></extra>\",\"legendgroup\":\"32\",\"line\":{\"color\":\"#636efa\",\"dash\":\"solid\"},\"mode\":\"lines\",\"name\":\"32\",\"orientation\":\"v\",\"showlegend\":true,\"type\":\"scatter\",\"x\":[23,24,25,26,27,28,29,30,31,32],\"xaxis\":\"x\",\"y\":[6.1232829242839415,6.708592973593538,6.506275042143342,6.8621189963224145,7.0188608492350655,6.935430118996896,6.97234314725314,6.86487632998037,6.728902195996848,6.440848139349186],\"yaxis\":\"y\"},{\"hovertemplate\":\"Ret Age=33<br>Age=%{x}<br>Y/A=%{y}<extra></extra>\",\"legendgroup\":\"33\",\"line\":{\"color\":\"#EF553B\",\"dash\":\"solid\"},\"mode\":\"lines\",\"name\":\"33\",\"orientation\":\"v\",\"showlegend\":true,\"type\":\"scatter\",\"x\":[22,23,24,25,26,27,28,29,30,31,32,33],\"xaxis\":\"x\",\"y\":[6.979747036617189,6.013443270164684,6.229779818250644,6.806232355489235,6.772345273659287,6.810880265984949,6.718695036173002,7.091690421424226,6.924623812934616,6.644264670773921,6.993495855870407,6.3526787601432755],\"yaxis\":\"y\"},{\"hovertemplate\":\"Ret Age=34<br>Age=%{x}<br>Y/A=%{y}<extra></extra>\",\"legendgroup\":\"34\",\"line\":{\"color\":\"#00cc96\",\"dash\":\"solid\"},\"mode\":\"lines\",\"name\":\"34\",\"orientation\":\"v\",\"showlegend\":true,\"type\":\"scatter\",\"x\":[21,22,23,24,25,26,27,28,29,30,31,32,33,34],\"xaxis\":\"x\",\"y\":[5.8407919183404085,6.55155391127213,6.298664760760672,6.753848391045015,6.909158129390953,6.90713544573882,7.237292417051487,6.945721808955025,7.229780635612865,6.9596608430279705,6.761013710409199,6.666122790597999,6.711799793130661,6.513228993898067],\"yaxis\":\"y\"},{\"hovertemplate\":\"Ret Age=35<br>Age=%{x}<br>Y/A=%{y}<extra></extra>\",\"legendgroup\":\"35\",\"line\":{\"color\":\"#ab63fa\",\"dash\":\"solid\"},\"mode\":\"lines\",\"name\":\"35\",\"orientation\":\"v\",\"showlegend\":true,\"type\":\"scatter\",\"x\":[23,24,25,26,27,28,29,30,31,32,33,34,35],\"xaxis\":\"x\",\"y\":[6.668780873145789,6.1599439007269545,6.571278002935363,6.292036489739142,6.568944201932675,7.35425807119397,7.1763845921743625,7.163585825569314,6.756740214012181,7.005610407314325,7.103746074339875,7.174772551454462,6.569571304518975],\"yaxis\":\"y\"},{\"hovertemplate\":\"Ret Age=36<br>Age=%{x}<br>Y/A=%{y}<extra></extra>\",\"legendgroup\":\"36\",\"line\":{\"color\":\"#FFA15A\",\"dash\":\"solid\"},\"mode\":\"lines\",\"name\":\"36\",\"orientation\":\"v\",\"showlegend\":true,\"type\":\"scatter\",\"x\":[22,23,24,25,26,27,28,29,30,31,32,33,34,35,36],\"xaxis\":\"x\",\"y\":[6.419003240836312,6.7587939914499024,7.1095143724116125,6.932055665229575,7.172551193171022,7.339720600286617,7.17209039791441,6.968595141544705,7.266341801640658,6.934615660874367,7.295869414031482,7.268216412655423,7.196398954552371,7.21263043640065,6.68615492175428],\"yaxis\":\"y\"},{\"hovertemplate\":\"Ret Age=37<br>Age=%{x}<br>Y/A=%{y}<extra></extra>\",\"legendgroup\":\"37\",\"line\":{\"color\":\"#19d3f3\",\"dash\":\"solid\"},\"mode\":\"lines\",\"name\":\"37\",\"orientation\":\"v\",\"showlegend\":true,\"type\":\"scatter\",\"x\":[24,25,26,27,28,29,30,31,32,33,34,35,36,37],\"xaxis\":\"x\",\"y\":[6.939411449904403,6.776763434489387,6.804110010006944,6.517253318981266,7.105119627273178,6.83741584816974,7.518988865729239,7.9919047654337065,8.504641003688667,7.6125377147385676,6.637403987542916,6.487708190186674,7.134519841837295,7.243974709956322],\"yaxis\":\"y\"},{\"hovertemplate\":\"Ret Age=38<br>Age=%{x}<br>Y/A=%{y}<extra></extra>\",\"legendgroup\":\"38\",\"line\":{\"color\":\"#FF6692\",\"dash\":\"solid\"},\"mode\":\"lines\",\"name\":\"38\",\"orientation\":\"v\",\"showlegend\":true,\"type\":\"scatter\",\"x\":[22,23,24,25,26,27,28,29,30,31,32,33,34,35,36,37,38],\"xaxis\":\"x\",\"y\":[6.989219224663158,6.890436912948862,6.634148094678521,6.420251315541273,6.577505950251594,6.918216818199836,7.1368231950796135,6.867828570781896,7.243288854515607,6.901864564172276,7.02535542112236,7.040879151399757,7.082709793279191,6.903505251680066,7.072773920193891,6.864107858089977,6.761147599153956],\"yaxis\":\"y\"},{\"hovertemplate\":\"Ret Age=39<br>Age=%{x}<br>Y/A=%{y}<extra></extra>\",\"legendgroup\":\"39\",\"line\":{\"color\":\"#B6E880\",\"dash\":\"solid\"},\"mode\":\"lines\",\"name\":\"39\",\"orientation\":\"v\",\"showlegend\":true,\"type\":\"scatter\",\"x\":[22,23,24,25,26,27,28,29,30,31,32,33,34,35,36,37,38,39],\"xaxis\":\"x\",\"y\":[6.385329191358625,7.721454838297358,6.837042260347431,6.9410470713963885,6.716400818803702,7.860558390992262,8.11824828872564,8.064900315487392,7.2730744218801,6.915873446165777,7.374116243757285,7.125481001876964,6.629173718223061,7.270009227961513,7.474727752214729,7.440179980073579,7.330221662684775,7.082977003825218],\"yaxis\":\"y\"},{\"hovertemplate\":\"Ret Age=40<br>Age=%{x}<br>Y/A=%{y}<extra></extra>\",\"legendgroup\":\"40\",\"line\":{\"color\":\"#FF97FF\",\"dash\":\"solid\"},\"mode\":\"lines\",\"name\":\"40\",\"orientation\":\"v\",\"showlegend\":true,\"type\":\"scatter\",\"x\":[25,26,27,28,29,30,31,32,33,34,35,36,37,40],\"xaxis\":\"x\",\"y\":[7.047007863076591,5.6265219526171615,7.345084979099629,7.491453870784383,6.804202104196404,7.6354586631212,6.461952652087826,6.921908564173787,5.634717642280337,5.9793919106203335,6.4906631575678,6.440716571625034,5.875327879499969,6.485223394685177],\"yaxis\":\"y\"},{\"hovertemplate\":\"Ret Age=41<br>Age=%{x}<br>Y/A=%{y}<extra></extra>\",\"legendgroup\":\"41\",\"line\":{\"color\":\"#FECB52\",\"dash\":\"solid\"},\"mode\":\"lines\",\"name\":\"41\",\"orientation\":\"v\",\"showlegend\":true,\"type\":\"scatter\",\"x\":[23,24,25,26,27,28,29,30,31,32,33,34,35,36,37,38,39,40,41],\"xaxis\":\"x\",\"y\":[6.468841044547402,6.231387917780964,6.923091280970442,6.9380496328393475,7.501783876746941,6.821207748835993,7.4794543820080195,7.546145448844676,6.6886607247158505,7.614944063198923,7.222402118872358,7.080490299072378,7.2317113506870125,6.94298090700352,6.621429998536042,7.261477019070298,6.816527347355801,7.431005752157022,6.8235208544012185],\"yaxis\":\"y\"},{\"hovertemplate\":\"Ret Age=42<br>Age=%{x}<br>Y/A=%{y}<extra></extra>\",\"legendgroup\":\"42\",\"line\":{\"color\":\"#636efa\",\"dash\":\"solid\"},\"mode\":\"lines\",\"name\":\"42\",\"orientation\":\"v\",\"showlegend\":true,\"type\":\"scatter\",\"x\":[28,29,30,31,32,33,34,35,36,37,38,39,40,41,42],\"xaxis\":\"x\",\"y\":[6.990491471605256,6.866107068298711,6.879844336743036,7.369398194215484,7.704541253490269,7.365289368440152,7.70718805653238,6.990572253978963,7.140873894655765,6.733362816446859,7.0514220468505915,6.930102118465399,6.562204538374088,6.998909936031352,6.211494713351344],\"yaxis\":\"y\"}],                        {\"legend\":{\"title\":{\"text\":\"Ret Age\"},\"tracegroupgap\":0},\"margin\":{\"t\":60},\"template\":{\"data\":{\"bar\":[{\"error_x\":{\"color\":\"#2a3f5f\"},\"error_y\":{\"color\":\"#2a3f5f\"},\"marker\":{\"line\":{\"color\":\"#E5ECF6\",\"width\":0.5},\"pattern\":{\"fillmode\":\"overlay\",\"size\":10,\"solidity\":0.2}},\"type\":\"bar\"}],\"barpolar\":[{\"marker\":{\"line\":{\"color\":\"#E5ECF6\",\"width\":0.5},\"pattern\":{\"fillmode\":\"overlay\",\"size\":10,\"solidity\":0.2}},\"type\":\"barpolar\"}],\"carpet\":[{\"aaxis\":{\"endlinecolor\":\"#2a3f5f\",\"gridcolor\":\"white\",\"linecolor\":\"white\",\"minorgridcolor\":\"white\",\"startlinecolor\":\"#2a3f5f\"},\"baxis\":{\"endlinecolor\":\"#2a3f5f\",\"gridcolor\":\"white\",\"linecolor\":\"white\",\"minorgridcolor\":\"white\",\"startlinecolor\":\"#2a3f5f\"},\"type\":\"carpet\"}],\"choropleth\":[{\"colorbar\":{\"outlinewidth\":0,\"ticks\":\"\"},\"type\":\"choropleth\"}],\"contour\":[{\"colorbar\":{\"outlinewidth\":0,\"ticks\":\"\"},\"colorscale\":[[0.0,\"#0d0887\"],[0.1111111111111111,\"#46039f\"],[0.2222222222222222,\"#7201a8\"],[0.3333333333333333,\"#9c179e\"],[0.4444444444444444,\"#bd3786\"],[0.5555555555555556,\"#d8576b\"],[0.6666666666666666,\"#ed7953\"],[0.7777777777777778,\"#fb9f3a\"],[0.8888888888888888,\"#fdca26\"],[1.0,\"#f0f921\"]],\"type\":\"contour\"}],\"contourcarpet\":[{\"colorbar\":{\"outlinewidth\":0,\"ticks\":\"\"},\"type\":\"contourcarpet\"}],\"heatmap\":[{\"colorbar\":{\"outlinewidth\":0,\"ticks\":\"\"},\"colorscale\":[[0.0,\"#0d0887\"],[0.1111111111111111,\"#46039f\"],[0.2222222222222222,\"#7201a8\"],[0.3333333333333333,\"#9c179e\"],[0.4444444444444444,\"#bd3786\"],[0.5555555555555556,\"#d8576b\"],[0.6666666666666666,\"#ed7953\"],[0.7777777777777778,\"#fb9f3a\"],[0.8888888888888888,\"#fdca26\"],[1.0,\"#f0f921\"]],\"type\":\"heatmap\"}],\"heatmapgl\":[{\"colorbar\":{\"outlinewidth\":0,\"ticks\":\"\"},\"colorscale\":[[0.0,\"#0d0887\"],[0.1111111111111111,\"#46039f\"],[0.2222222222222222,\"#7201a8\"],[0.3333333333333333,\"#9c179e\"],[0.4444444444444444,\"#bd3786\"],[0.5555555555555556,\"#d8576b\"],[0.6666666666666666,\"#ed7953\"],[0.7777777777777778,\"#fb9f3a\"],[0.8888888888888888,\"#fdca26\"],[1.0,\"#f0f921\"]],\"type\":\"heatmapgl\"}],\"histogram\":[{\"marker\":{\"pattern\":{\"fillmode\":\"overlay\",\"size\":10,\"solidity\":0.2}},\"type\":\"histogram\"}],\"histogram2d\":[{\"colorbar\":{\"outlinewidth\":0,\"ticks\":\"\"},\"colorscale\":[[0.0,\"#0d0887\"],[0.1111111111111111,\"#46039f\"],[0.2222222222222222,\"#7201a8\"],[0.3333333333333333,\"#9c179e\"],[0.4444444444444444,\"#bd3786\"],[0.5555555555555556,\"#d8576b\"],[0.6666666666666666,\"#ed7953\"],[0.7777777777777778,\"#fb9f3a\"],[0.8888888888888888,\"#fdca26\"],[1.0,\"#f0f921\"]],\"type\":\"histogram2d\"}],\"histogram2dcontour\":[{\"colorbar\":{\"outlinewidth\":0,\"ticks\":\"\"},\"colorscale\":[[0.0,\"#0d0887\"],[0.1111111111111111,\"#46039f\"],[0.2222222222222222,\"#7201a8\"],[0.3333333333333333,\"#9c179e\"],[0.4444444444444444,\"#bd3786\"],[0.5555555555555556,\"#d8576b\"],[0.6666666666666666,\"#ed7953\"],[0.7777777777777778,\"#fb9f3a\"],[0.8888888888888888,\"#fdca26\"],[1.0,\"#f0f921\"]],\"type\":\"histogram2dcontour\"}],\"mesh3d\":[{\"colorbar\":{\"outlinewidth\":0,\"ticks\":\"\"},\"type\":\"mesh3d\"}],\"parcoords\":[{\"line\":{\"colorbar\":{\"outlinewidth\":0,\"ticks\":\"\"}},\"type\":\"parcoords\"}],\"pie\":[{\"automargin\":true,\"type\":\"pie\"}],\"scatter\":[{\"marker\":{\"colorbar\":{\"outlinewidth\":0,\"ticks\":\"\"}},\"type\":\"scatter\"}],\"scatter3d\":[{\"line\":{\"colorbar\":{\"outlinewidth\":0,\"ticks\":\"\"}},\"marker\":{\"colorbar\":{\"outlinewidth\":0,\"ticks\":\"\"}},\"type\":\"scatter3d\"}],\"scattercarpet\":[{\"marker\":{\"colorbar\":{\"outlinewidth\":0,\"ticks\":\"\"}},\"type\":\"scattercarpet\"}],\"scattergeo\":[{\"marker\":{\"colorbar\":{\"outlinewidth\":0,\"ticks\":\"\"}},\"type\":\"scattergeo\"}],\"scattergl\":[{\"marker\":{\"colorbar\":{\"outlinewidth\":0,\"ticks\":\"\"}},\"type\":\"scattergl\"}],\"scattermapbox\":[{\"marker\":{\"colorbar\":{\"outlinewidth\":0,\"ticks\":\"\"}},\"type\":\"scattermapbox\"}],\"scatterpolar\":[{\"marker\":{\"colorbar\":{\"outlinewidth\":0,\"ticks\":\"\"}},\"type\":\"scatterpolar\"}],\"scatterpolargl\":[{\"marker\":{\"colorbar\":{\"outlinewidth\":0,\"ticks\":\"\"}},\"type\":\"scatterpolargl\"}],\"scatterternary\":[{\"marker\":{\"colorbar\":{\"outlinewidth\":0,\"ticks\":\"\"}},\"type\":\"scatterternary\"}],\"surface\":[{\"colorbar\":{\"outlinewidth\":0,\"ticks\":\"\"},\"colorscale\":[[0.0,\"#0d0887\"],[0.1111111111111111,\"#46039f\"],[0.2222222222222222,\"#7201a8\"],[0.3333333333333333,\"#9c179e\"],[0.4444444444444444,\"#bd3786\"],[0.5555555555555556,\"#d8576b\"],[0.6666666666666666,\"#ed7953\"],[0.7777777777777778,\"#fb9f3a\"],[0.8888888888888888,\"#fdca26\"],[1.0,\"#f0f921\"]],\"type\":\"surface\"}],\"table\":[{\"cells\":{\"fill\":{\"color\":\"#EBF0F8\"},\"line\":{\"color\":\"white\"}},\"header\":{\"fill\":{\"color\":\"#C8D4E3\"},\"line\":{\"color\":\"white\"}},\"type\":\"table\"}]},\"layout\":{\"annotationdefaults\":{\"arrowcolor\":\"#2a3f5f\",\"arrowhead\":0,\"arrowwidth\":1},\"autotypenumbers\":\"strict\",\"coloraxis\":{\"colorbar\":{\"outlinewidth\":0,\"ticks\":\"\"}},\"colorscale\":{\"diverging\":[[0,\"#8e0152\"],[0.1,\"#c51b7d\"],[0.2,\"#de77ae\"],[0.3,\"#f1b6da\"],[0.4,\"#fde0ef\"],[0.5,\"#f7f7f7\"],[0.6,\"#e6f5d0\"],[0.7,\"#b8e186\"],[0.8,\"#7fbc41\"],[0.9,\"#4d9221\"],[1,\"#276419\"]],\"sequential\":[[0.0,\"#0d0887\"],[0.1111111111111111,\"#46039f\"],[0.2222222222222222,\"#7201a8\"],[0.3333333333333333,\"#9c179e\"],[0.4444444444444444,\"#bd3786\"],[0.5555555555555556,\"#d8576b\"],[0.6666666666666666,\"#ed7953\"],[0.7777777777777778,\"#fb9f3a\"],[0.8888888888888888,\"#fdca26\"],[1.0,\"#f0f921\"]],\"sequentialminus\":[[0.0,\"#0d0887\"],[0.1111111111111111,\"#46039f\"],[0.2222222222222222,\"#7201a8\"],[0.3333333333333333,\"#9c179e\"],[0.4444444444444444,\"#bd3786\"],[0.5555555555555556,\"#d8576b\"],[0.6666666666666666,\"#ed7953\"],[0.7777777777777778,\"#fb9f3a\"],[0.8888888888888888,\"#fdca26\"],[1.0,\"#f0f921\"]]},\"colorway\":[\"#636efa\",\"#EF553B\",\"#00cc96\",\"#ab63fa\",\"#FFA15A\",\"#19d3f3\",\"#FF6692\",\"#B6E880\",\"#FF97FF\",\"#FECB52\"],\"font\":{\"color\":\"#2a3f5f\"},\"geo\":{\"bgcolor\":\"white\",\"lakecolor\":\"white\",\"landcolor\":\"#E5ECF6\",\"showlakes\":true,\"showland\":true,\"subunitcolor\":\"white\"},\"hoverlabel\":{\"align\":\"left\"},\"hovermode\":\"closest\",\"mapbox\":{\"style\":\"light\"},\"paper_bgcolor\":\"white\",\"plot_bgcolor\":\"#E5ECF6\",\"polar\":{\"angularaxis\":{\"gridcolor\":\"white\",\"linecolor\":\"white\",\"ticks\":\"\"},\"bgcolor\":\"#E5ECF6\",\"radialaxis\":{\"gridcolor\":\"white\",\"linecolor\":\"white\",\"ticks\":\"\"}},\"scene\":{\"xaxis\":{\"backgroundcolor\":\"#E5ECF6\",\"gridcolor\":\"white\",\"gridwidth\":2,\"linecolor\":\"white\",\"showbackground\":true,\"ticks\":\"\",\"zerolinecolor\":\"white\"},\"yaxis\":{\"backgroundcolor\":\"#E5ECF6\",\"gridcolor\":\"white\",\"gridwidth\":2,\"linecolor\":\"white\",\"showbackground\":true,\"ticks\":\"\",\"zerolinecolor\":\"white\"},\"zaxis\":{\"backgroundcolor\":\"#E5ECF6\",\"gridcolor\":\"white\",\"gridwidth\":2,\"linecolor\":\"white\",\"showbackground\":true,\"ticks\":\"\",\"zerolinecolor\":\"white\"}},\"shapedefaults\":{\"line\":{\"color\":\"#2a3f5f\"}},\"ternary\":{\"aaxis\":{\"gridcolor\":\"white\",\"linecolor\":\"white\",\"ticks\":\"\"},\"baxis\":{\"gridcolor\":\"white\",\"linecolor\":\"white\",\"ticks\":\"\"},\"bgcolor\":\"#E5ECF6\",\"caxis\":{\"gridcolor\":\"white\",\"linecolor\":\"white\",\"ticks\":\"\"}},\"title\":{\"x\":0.05},\"xaxis\":{\"automargin\":true,\"gridcolor\":\"white\",\"linecolor\":\"white\",\"ticks\":\"\",\"title\":{\"standoff\":15},\"zerolinecolor\":\"white\",\"zerolinewidth\":2},\"yaxis\":{\"automargin\":true,\"gridcolor\":\"white\",\"linecolor\":\"white\",\"ticks\":\"\",\"title\":{\"standoff\":15},\"zerolinecolor\":\"white\",\"zerolinewidth\":2}}},\"xaxis\":{\"anchor\":\"y\",\"domain\":[0.0,1.0],\"title\":{\"text\":\"Age\"}},\"yaxis\":{\"anchor\":\"x\",\"domain\":[0.0,1.0],\"title\":{\"text\":\"Y/A\"}}},                        {\"responsive\": true}                    ).then(function(){\n",
       "                            \n",
       "var gd = document.getElementById('968f0c5a-05eb-4918-ba14-5c272692eb81');\n",
       "var x = new MutationObserver(function (mutations, observer) {{\n",
       "        var display = window.getComputedStyle(gd).display;\n",
       "        if (!display || display === 'none') {{\n",
       "            console.log([gd, 'removed!']);\n",
       "            Plotly.purge(gd);\n",
       "            observer.disconnect();\n",
       "        }}\n",
       "}});\n",
       "\n",
       "// Listen for the removal of the full notebook cells\n",
       "var notebookContainer = gd.closest('#notebook-container');\n",
       "if (notebookContainer) {{\n",
       "    x.observe(notebookContainer, {childList: true});\n",
       "}}\n",
       "\n",
       "// Listen for the clearing of the current output cell\n",
       "var outputEl = gd.closest('.output');\n",
       "if (outputEl) {{\n",
       "    x.observe(outputEl, {childList: true});\n",
       "}}\n",
       "\n",
       "                        })                };                });            </script>        </div>"
      ]
     },
     "metadata": {},
     "output_type": "display_data"
    }
   ],
   "source": [
    "px.line(ret_passing, x = 'Age', y = 'Y/A', color = 'Ret Age')"
   ]
  },
  {
   "cell_type": "code",
   "execution_count": 105,
   "id": "fff73243",
   "metadata": {},
   "outputs": [
    {
     "data": {
      "application/vnd.plotly.v1+json": {
       "config": {
        "plotlyServerURL": "https://plot.ly"
       },
       "data": [
        {
         "hovertemplate": "Ret Age=21<br>Age=%{x}<br>TD%=%{y}<extra></extra>",
         "legendgroup": "21",
         "line": {
          "color": "#636efa",
          "dash": "solid"
         },
         "mode": "lines",
         "name": "21",
         "orientation": "v",
         "showlegend": true,
         "type": "scatter",
         "x": [
          21
         ],
         "xaxis": "x",
         "y": [
          0.02226769244495175
         ],
         "yaxis": "y"
        },
        {
         "hovertemplate": "Ret Age=23<br>Age=%{x}<br>TD%=%{y}<extra></extra>",
         "legendgroup": "23",
         "line": {
          "color": "#EF553B",
          "dash": "solid"
         },
         "mode": "lines",
         "name": "23",
         "orientation": "v",
         "showlegend": true,
         "type": "scatter",
         "x": [
          22,
          23
         ],
         "xaxis": "x",
         "y": [
          0.02811783754190156,
          0.030003147662515807
         ],
         "yaxis": "y"
        },
        {
         "hovertemplate": "Ret Age=24<br>Age=%{x}<br>TD%=%{y}<extra></extra>",
         "legendgroup": "24",
         "line": {
          "color": "#00cc96",
          "dash": "solid"
         },
         "mode": "lines",
         "name": "24",
         "orientation": "v",
         "showlegend": true,
         "type": "scatter",
         "x": [
          21,
          22,
          23,
          24
         ],
         "xaxis": "x",
         "y": [
          0.03272899133191938,
          0.038848869243129865,
          0.031141368530563828,
          0.03185776070706421
         ],
         "yaxis": "y"
        },
        {
         "hovertemplate": "Ret Age=25<br>Age=%{x}<br>TD%=%{y}<extra></extra>",
         "legendgroup": "25",
         "line": {
          "color": "#ab63fa",
          "dash": "solid"
         },
         "mode": "lines",
         "name": "25",
         "orientation": "v",
         "showlegend": true,
         "type": "scatter",
         "x": [
          22,
          23,
          24,
          25
         ],
         "xaxis": "x",
         "y": [
          0.05328202622667124,
          0.03610352568191313,
          0.034760329645886864,
          0.03300168299068612
         ],
         "yaxis": "y"
        },
        {
         "hovertemplate": "Ret Age=26<br>Age=%{x}<br>TD%=%{y}<extra></extra>",
         "legendgroup": "26",
         "line": {
          "color": "#FFA15A",
          "dash": "solid"
         },
         "mode": "lines",
         "name": "26",
         "orientation": "v",
         "showlegend": true,
         "type": "scatter",
         "x": [
          22,
          23,
          24,
          25,
          26
         ],
         "xaxis": "x",
         "y": [
          0.03264227167437832,
          0.03760574986794035,
          0.03256632003092014,
          0.035939483759634266,
          0.02979052256235615
         ],
         "yaxis": "y"
        },
        {
         "hovertemplate": "Ret Age=27<br>Age=%{x}<br>TD%=%{y}<extra></extra>",
         "legendgroup": "27",
         "line": {
          "color": "#19d3f3",
          "dash": "solid"
         },
         "mode": "lines",
         "name": "27",
         "orientation": "v",
         "showlegend": true,
         "type": "scatter",
         "x": [
          22,
          23,
          24,
          25,
          26,
          27
         ],
         "xaxis": "x",
         "y": [
          0.027728057635169123,
          0.027609741962335534,
          0.03604529172421814,
          0.03421449616536055,
          0.03147549692366685,
          0.02822077045120934
         ],
         "yaxis": "y"
        },
        {
         "hovertemplate": "Ret Age=28<br>Age=%{x}<br>TD%=%{y}<extra></extra>",
         "legendgroup": "28",
         "line": {
          "color": "#FF6692",
          "dash": "solid"
         },
         "mode": "lines",
         "name": "28",
         "orientation": "v",
         "showlegend": true,
         "type": "scatter",
         "x": [
          22,
          23,
          24,
          25,
          26,
          27,
          28
         ],
         "xaxis": "x",
         "y": [
          0.026864051665660235,
          0.03235649336936486,
          0.028743470073059697,
          0.03262469495029013,
          0.035276841266760776,
          0.03387207381953207,
          0.029329066960651764
         ],
         "yaxis": "y"
        },
        {
         "hovertemplate": "Ret Age=29<br>Age=%{x}<br>TD%=%{y}<extra></extra>",
         "legendgroup": "29",
         "line": {
          "color": "#B6E880",
          "dash": "solid"
         },
         "mode": "lines",
         "name": "29",
         "orientation": "v",
         "showlegend": true,
         "type": "scatter",
         "x": [
          22,
          23,
          24,
          25,
          26,
          27,
          28,
          29
         ],
         "xaxis": "x",
         "y": [
          0.016089204049384017,
          0.03000146992642385,
          0.03452932124275942,
          0.043880863766189694,
          0.036304068485526524,
          0.04461267662810604,
          0.034029446048145666,
          0.035520610022569885
         ],
         "yaxis": "y"
        },
        {
         "hovertemplate": "Ret Age=30<br>Age=%{x}<br>TD%=%{y}<extra></extra>",
         "legendgroup": "30",
         "line": {
          "color": "#FF97FF",
          "dash": "solid"
         },
         "mode": "lines",
         "name": "30",
         "orientation": "v",
         "showlegend": true,
         "type": "scatter",
         "x": [
          22,
          23,
          24,
          25,
          26,
          27,
          28,
          29,
          30
         ],
         "xaxis": "x",
         "y": [
          0.030781554401269996,
          0.045191618802051935,
          0.03213989354684545,
          0.03971288654123753,
          0.044852104895840884,
          0.042730257784690466,
          0.03455620573364855,
          0.038771054634720914,
          0.034301647721148236
         ],
         "yaxis": "y"
        },
        {
         "hovertemplate": "Ret Age=31<br>Age=%{x}<br>TD%=%{y}<extra></extra>",
         "legendgroup": "31",
         "line": {
          "color": "#FECB52",
          "dash": "solid"
         },
         "mode": "lines",
         "name": "31",
         "orientation": "v",
         "showlegend": true,
         "type": "scatter",
         "x": [
          22,
          23,
          24,
          25,
          26,
          27,
          28,
          29,
          30,
          31
         ],
         "xaxis": "x",
         "y": [
          0.037555112845949576,
          0.03098901754224918,
          0.04020565546777112,
          0.04169296360607315,
          0.04115443311175751,
          0.02902288367396146,
          0.03996534403478343,
          0.038170406438944746,
          0.034304272792382455,
          0.03178185834162917
         ],
         "yaxis": "y"
        },
        {
         "hovertemplate": "Ret Age=32<br>Age=%{x}<br>TD%=%{y}<extra></extra>",
         "legendgroup": "32",
         "line": {
          "color": "#636efa",
          "dash": "solid"
         },
         "mode": "lines",
         "name": "32",
         "orientation": "v",
         "showlegend": true,
         "type": "scatter",
         "x": [
          23,
          24,
          25,
          26,
          27,
          28,
          29,
          30,
          31,
          32
         ],
         "xaxis": "x",
         "y": [
          0.03649387001473713,
          0.02894389023176064,
          0.03828630197136401,
          0.03558915536152793,
          0.03709690727914756,
          0.041550475213763635,
          0.03895828379800839,
          0.03646054536501127,
          0.03710984440088038,
          0.03389597435620406
         ],
         "yaxis": "y"
        },
        {
         "hovertemplate": "Ret Age=33<br>Age=%{x}<br>TD%=%{y}<extra></extra>",
         "legendgroup": "33",
         "line": {
          "color": "#EF553B",
          "dash": "solid"
         },
         "mode": "lines",
         "name": "33",
         "orientation": "v",
         "showlegend": true,
         "type": "scatter",
         "x": [
          22,
          23,
          24,
          25,
          26,
          27,
          28,
          29,
          30,
          31,
          32,
          33
         ],
         "xaxis": "x",
         "y": [
          0.037464631435225645,
          0.03551615343401977,
          0.03420449847301451,
          0.04161312086889265,
          0.04356488063533522,
          0.038353607639493706,
          0.03933109657613111,
          0.04648091927007867,
          0.03971578012034111,
          0.03983625577708717,
          0.0430440194216001,
          0.029277368708177366
         ],
         "yaxis": "y"
        },
        {
         "hovertemplate": "Ret Age=34<br>Age=%{x}<br>TD%=%{y}<extra></extra>",
         "legendgroup": "34",
         "line": {
          "color": "#00cc96",
          "dash": "solid"
         },
         "mode": "lines",
         "name": "34",
         "orientation": "v",
         "showlegend": true,
         "type": "scatter",
         "x": [
          21,
          22,
          23,
          24,
          25,
          26,
          27,
          28,
          29,
          30,
          31,
          32,
          33,
          34
         ],
         "xaxis": "x",
         "y": [
          0.0385678796063529,
          0.03696586166124215,
          0.03236799504234428,
          0.03740906549810212,
          0.04046736517605936,
          0.04299799821448748,
          0.04555435897108407,
          0.04193496780960378,
          0.0420061966296111,
          0.04316717256186803,
          0.04280326656891533,
          0.036409354226503966,
          0.04120814422792398,
          0.03761869733866313
         ],
         "yaxis": "y"
        },
        {
         "hovertemplate": "Ret Age=35<br>Age=%{x}<br>TD%=%{y}<extra></extra>",
         "legendgroup": "35",
         "line": {
          "color": "#ab63fa",
          "dash": "solid"
         },
         "mode": "lines",
         "name": "35",
         "orientation": "v",
         "showlegend": true,
         "type": "scatter",
         "x": [
          23,
          24,
          25,
          26,
          27,
          28,
          29,
          30,
          31,
          32,
          33,
          34,
          35
         ],
         "xaxis": "x",
         "y": [
          0.01842302173486549,
          0.03641104277416519,
          0.05276944959643809,
          0.04596956308436439,
          0.03833242508653345,
          0.05289240789881935,
          0.044005956369759416,
          0.04413670522221331,
          0.039195720383861904,
          0.042917932732637616,
          0.04160414011945207,
          0.04383821732598625,
          0.037230448075950814
         ],
         "yaxis": "y"
        },
        {
         "hovertemplate": "Ret Age=36<br>Age=%{x}<br>TD%=%{y}<extra></extra>",
         "legendgroup": "36",
         "line": {
          "color": "#FFA15A",
          "dash": "solid"
         },
         "mode": "lines",
         "name": "36",
         "orientation": "v",
         "showlegend": true,
         "type": "scatter",
         "x": [
          22,
          23,
          24,
          25,
          26,
          27,
          28,
          29,
          30,
          31,
          32,
          33,
          34,
          35,
          36
         ],
         "xaxis": "x",
         "y": [
          0.03622204651579121,
          0.03140695623396357,
          0.05229808525669465,
          0.04218244044716245,
          0.04145392319450914,
          0.04914396221007794,
          0.04488440895073551,
          0.04256212628001312,
          0.0464835063262233,
          0.04073364825262492,
          0.043076491880542356,
          0.046023826221514026,
          0.04738568374236563,
          0.04753115471457872,
          0.03671237602395496
         ],
         "yaxis": "y"
        },
        {
         "hovertemplate": "Ret Age=37<br>Age=%{x}<br>TD%=%{y}<extra></extra>",
         "legendgroup": "37",
         "line": {
          "color": "#19d3f3",
          "dash": "solid"
         },
         "mode": "lines",
         "name": "37",
         "orientation": "v",
         "showlegend": true,
         "type": "scatter",
         "x": [
          24,
          25,
          26,
          27,
          28,
          29,
          30,
          31,
          32,
          33,
          34,
          35,
          36,
          37
         ],
         "xaxis": "x",
         "y": [
          0.027254429327683873,
          0.024027367743752373,
          0.03874417954479068,
          0.04028289031969533,
          0.038429630049102576,
          0.04156071847329645,
          0.04083283641825675,
          0.05777608029047739,
          0.0630523196593148,
          0.05644184038941492,
          0.03729228158571007,
          0.03433920285090412,
          0.04178654099331744,
          0.05151458318627853
         ],
         "yaxis": "y"
        },
        {
         "hovertemplate": "Ret Age=38<br>Age=%{x}<br>TD%=%{y}<extra></extra>",
         "legendgroup": "38",
         "line": {
          "color": "#FF6692",
          "dash": "solid"
         },
         "mode": "lines",
         "name": "38",
         "orientation": "v",
         "showlegend": true,
         "type": "scatter",
         "x": [
          22,
          23,
          24,
          25,
          26,
          27,
          28,
          29,
          30,
          31,
          32,
          33,
          34,
          35,
          36,
          37,
          38
         ],
         "xaxis": "x",
         "y": [
          0.06008134840394541,
          0.0461194161632147,
          0.04449244968921475,
          0.04200798535972657,
          0.042943305191069384,
          0.04371105270331669,
          0.049925221027466674,
          0.041622376607209285,
          0.045120469584885636,
          0.043782654362121046,
          0.03966204029048462,
          0.042628951421894434,
          0.041409140461599374,
          0.04044616583813986,
          0.045170631630459424,
          0.03905501252206092,
          0.038315759463012675
         ],
         "yaxis": "y"
        },
        {
         "hovertemplate": "Ret Age=39<br>Age=%{x}<br>TD%=%{y}<extra></extra>",
         "legendgroup": "39",
         "line": {
          "color": "#B6E880",
          "dash": "solid"
         },
         "mode": "lines",
         "name": "39",
         "orientation": "v",
         "showlegend": true,
         "type": "scatter",
         "x": [
          22,
          23,
          24,
          25,
          26,
          27,
          28,
          29,
          30,
          31,
          32,
          33,
          34,
          35,
          36,
          37,
          38,
          39
         ],
         "xaxis": "x",
         "y": [
          0.04211150965484397,
          0.04864030944535646,
          0.0476656561155807,
          0.04066365464011731,
          0.041561451872932885,
          0.06067699161210256,
          0.0636430144166673,
          0.052618952328938644,
          0.04459494047700871,
          0.05052189511241649,
          0.050851378851030735,
          0.05001715416374094,
          0.03871767147949977,
          0.04715583130343074,
          0.05033619341164664,
          0.055246576619933,
          0.04593284257712976,
          0.036051825381538206
         ],
         "yaxis": "y"
        },
        {
         "hovertemplate": "Ret Age=40<br>Age=%{x}<br>TD%=%{y}<extra></extra>",
         "legendgroup": "40",
         "line": {
          "color": "#FF97FF",
          "dash": "solid"
         },
         "mode": "lines",
         "name": "40",
         "orientation": "v",
         "showlegend": true,
         "type": "scatter",
         "x": [
          25,
          26,
          27,
          28,
          29,
          30,
          31,
          32,
          33,
          34,
          35,
          36,
          37,
          40
         ],
         "xaxis": "x",
         "y": [
          0.035403983219312415,
          0.023116265907024938,
          0.035290743960836805,
          0.04618145903799395,
          0.041025612417637504,
          0.05406450263303494,
          0.04854828202150182,
          0.04666422378923383,
          0.024213455385231817,
          0.033064329357861175,
          0.024588008224333175,
          0.03212795368122879,
          0.029446577755078404,
          0.03182603445845097
         ],
         "yaxis": "y"
        },
        {
         "hovertemplate": "Ret Age=41<br>Age=%{x}<br>TD%=%{y}<extra></extra>",
         "legendgroup": "41",
         "line": {
          "color": "#FECB52",
          "dash": "solid"
         },
         "mode": "lines",
         "name": "41",
         "orientation": "v",
         "showlegend": true,
         "type": "scatter",
         "x": [
          23,
          24,
          25,
          26,
          27,
          28,
          29,
          30,
          31,
          32,
          33,
          34,
          35,
          36,
          37,
          38,
          39,
          40,
          41
         ],
         "xaxis": "x",
         "y": [
          0.03536931571500477,
          0.034804281608238855,
          0.04879484548640724,
          0.05186793363368397,
          0.055526599313510346,
          0.047059970599542034,
          0.05030794810103515,
          0.05201653772032261,
          0.041351128364994376,
          0.05884014830988639,
          0.056435758636454246,
          0.0533550825133925,
          0.05089571428405297,
          0.04179374497302968,
          0.039260521382218444,
          0.040718186340198276,
          0.04164658403440679,
          0.05621888621900884,
          0.03805398851716944
         ],
         "yaxis": "y"
        },
        {
         "hovertemplate": "Ret Age=42<br>Age=%{x}<br>TD%=%{y}<extra></extra>",
         "legendgroup": "42",
         "line": {
          "color": "#636efa",
          "dash": "solid"
         },
         "mode": "lines",
         "name": "42",
         "orientation": "v",
         "showlegend": true,
         "type": "scatter",
         "x": [
          28,
          29,
          30,
          31,
          32,
          33,
          34,
          35,
          36,
          37,
          38,
          39,
          40,
          41,
          42
         ],
         "xaxis": "x",
         "y": [
          0.024574577980119132,
          0.03796663871774681,
          0.026023293040355357,
          0.04985081115422991,
          0.058143010815588876,
          0.04831403038986323,
          0.05255079039505327,
          0.03792605449877331,
          0.053482109303440405,
          0.04454590094533759,
          0.0306010906717158,
          0.05426453343369574,
          0.02859701477515842,
          0.04775511066587183,
          0.03970711069870127
         ],
         "yaxis": "y"
        }
       ],
       "layout": {
        "legend": {
         "title": {
          "text": "Ret Age"
         },
         "tracegroupgap": 0
        },
        "margin": {
         "t": 60
        },
        "template": {
         "data": {
          "bar": [
           {
            "error_x": {
             "color": "#2a3f5f"
            },
            "error_y": {
             "color": "#2a3f5f"
            },
            "marker": {
             "line": {
              "color": "#E5ECF6",
              "width": 0.5
             },
             "pattern": {
              "fillmode": "overlay",
              "size": 10,
              "solidity": 0.2
             }
            },
            "type": "bar"
           }
          ],
          "barpolar": [
           {
            "marker": {
             "line": {
              "color": "#E5ECF6",
              "width": 0.5
             },
             "pattern": {
              "fillmode": "overlay",
              "size": 10,
              "solidity": 0.2
             }
            },
            "type": "barpolar"
           }
          ],
          "carpet": [
           {
            "aaxis": {
             "endlinecolor": "#2a3f5f",
             "gridcolor": "white",
             "linecolor": "white",
             "minorgridcolor": "white",
             "startlinecolor": "#2a3f5f"
            },
            "baxis": {
             "endlinecolor": "#2a3f5f",
             "gridcolor": "white",
             "linecolor": "white",
             "minorgridcolor": "white",
             "startlinecolor": "#2a3f5f"
            },
            "type": "carpet"
           }
          ],
          "choropleth": [
           {
            "colorbar": {
             "outlinewidth": 0,
             "ticks": ""
            },
            "type": "choropleth"
           }
          ],
          "contour": [
           {
            "colorbar": {
             "outlinewidth": 0,
             "ticks": ""
            },
            "colorscale": [
             [
              0,
              "#0d0887"
             ],
             [
              0.1111111111111111,
              "#46039f"
             ],
             [
              0.2222222222222222,
              "#7201a8"
             ],
             [
              0.3333333333333333,
              "#9c179e"
             ],
             [
              0.4444444444444444,
              "#bd3786"
             ],
             [
              0.5555555555555556,
              "#d8576b"
             ],
             [
              0.6666666666666666,
              "#ed7953"
             ],
             [
              0.7777777777777778,
              "#fb9f3a"
             ],
             [
              0.8888888888888888,
              "#fdca26"
             ],
             [
              1,
              "#f0f921"
             ]
            ],
            "type": "contour"
           }
          ],
          "contourcarpet": [
           {
            "colorbar": {
             "outlinewidth": 0,
             "ticks": ""
            },
            "type": "contourcarpet"
           }
          ],
          "heatmap": [
           {
            "colorbar": {
             "outlinewidth": 0,
             "ticks": ""
            },
            "colorscale": [
             [
              0,
              "#0d0887"
             ],
             [
              0.1111111111111111,
              "#46039f"
             ],
             [
              0.2222222222222222,
              "#7201a8"
             ],
             [
              0.3333333333333333,
              "#9c179e"
             ],
             [
              0.4444444444444444,
              "#bd3786"
             ],
             [
              0.5555555555555556,
              "#d8576b"
             ],
             [
              0.6666666666666666,
              "#ed7953"
             ],
             [
              0.7777777777777778,
              "#fb9f3a"
             ],
             [
              0.8888888888888888,
              "#fdca26"
             ],
             [
              1,
              "#f0f921"
             ]
            ],
            "type": "heatmap"
           }
          ],
          "heatmapgl": [
           {
            "colorbar": {
             "outlinewidth": 0,
             "ticks": ""
            },
            "colorscale": [
             [
              0,
              "#0d0887"
             ],
             [
              0.1111111111111111,
              "#46039f"
             ],
             [
              0.2222222222222222,
              "#7201a8"
             ],
             [
              0.3333333333333333,
              "#9c179e"
             ],
             [
              0.4444444444444444,
              "#bd3786"
             ],
             [
              0.5555555555555556,
              "#d8576b"
             ],
             [
              0.6666666666666666,
              "#ed7953"
             ],
             [
              0.7777777777777778,
              "#fb9f3a"
             ],
             [
              0.8888888888888888,
              "#fdca26"
             ],
             [
              1,
              "#f0f921"
             ]
            ],
            "type": "heatmapgl"
           }
          ],
          "histogram": [
           {
            "marker": {
             "pattern": {
              "fillmode": "overlay",
              "size": 10,
              "solidity": 0.2
             }
            },
            "type": "histogram"
           }
          ],
          "histogram2d": [
           {
            "colorbar": {
             "outlinewidth": 0,
             "ticks": ""
            },
            "colorscale": [
             [
              0,
              "#0d0887"
             ],
             [
              0.1111111111111111,
              "#46039f"
             ],
             [
              0.2222222222222222,
              "#7201a8"
             ],
             [
              0.3333333333333333,
              "#9c179e"
             ],
             [
              0.4444444444444444,
              "#bd3786"
             ],
             [
              0.5555555555555556,
              "#d8576b"
             ],
             [
              0.6666666666666666,
              "#ed7953"
             ],
             [
              0.7777777777777778,
              "#fb9f3a"
             ],
             [
              0.8888888888888888,
              "#fdca26"
             ],
             [
              1,
              "#f0f921"
             ]
            ],
            "type": "histogram2d"
           }
          ],
          "histogram2dcontour": [
           {
            "colorbar": {
             "outlinewidth": 0,
             "ticks": ""
            },
            "colorscale": [
             [
              0,
              "#0d0887"
             ],
             [
              0.1111111111111111,
              "#46039f"
             ],
             [
              0.2222222222222222,
              "#7201a8"
             ],
             [
              0.3333333333333333,
              "#9c179e"
             ],
             [
              0.4444444444444444,
              "#bd3786"
             ],
             [
              0.5555555555555556,
              "#d8576b"
             ],
             [
              0.6666666666666666,
              "#ed7953"
             ],
             [
              0.7777777777777778,
              "#fb9f3a"
             ],
             [
              0.8888888888888888,
              "#fdca26"
             ],
             [
              1,
              "#f0f921"
             ]
            ],
            "type": "histogram2dcontour"
           }
          ],
          "mesh3d": [
           {
            "colorbar": {
             "outlinewidth": 0,
             "ticks": ""
            },
            "type": "mesh3d"
           }
          ],
          "parcoords": [
           {
            "line": {
             "colorbar": {
              "outlinewidth": 0,
              "ticks": ""
             }
            },
            "type": "parcoords"
           }
          ],
          "pie": [
           {
            "automargin": true,
            "type": "pie"
           }
          ],
          "scatter": [
           {
            "marker": {
             "colorbar": {
              "outlinewidth": 0,
              "ticks": ""
             }
            },
            "type": "scatter"
           }
          ],
          "scatter3d": [
           {
            "line": {
             "colorbar": {
              "outlinewidth": 0,
              "ticks": ""
             }
            },
            "marker": {
             "colorbar": {
              "outlinewidth": 0,
              "ticks": ""
             }
            },
            "type": "scatter3d"
           }
          ],
          "scattercarpet": [
           {
            "marker": {
             "colorbar": {
              "outlinewidth": 0,
              "ticks": ""
             }
            },
            "type": "scattercarpet"
           }
          ],
          "scattergeo": [
           {
            "marker": {
             "colorbar": {
              "outlinewidth": 0,
              "ticks": ""
             }
            },
            "type": "scattergeo"
           }
          ],
          "scattergl": [
           {
            "marker": {
             "colorbar": {
              "outlinewidth": 0,
              "ticks": ""
             }
            },
            "type": "scattergl"
           }
          ],
          "scattermapbox": [
           {
            "marker": {
             "colorbar": {
              "outlinewidth": 0,
              "ticks": ""
             }
            },
            "type": "scattermapbox"
           }
          ],
          "scatterpolar": [
           {
            "marker": {
             "colorbar": {
              "outlinewidth": 0,
              "ticks": ""
             }
            },
            "type": "scatterpolar"
           }
          ],
          "scatterpolargl": [
           {
            "marker": {
             "colorbar": {
              "outlinewidth": 0,
              "ticks": ""
             }
            },
            "type": "scatterpolargl"
           }
          ],
          "scatterternary": [
           {
            "marker": {
             "colorbar": {
              "outlinewidth": 0,
              "ticks": ""
             }
            },
            "type": "scatterternary"
           }
          ],
          "surface": [
           {
            "colorbar": {
             "outlinewidth": 0,
             "ticks": ""
            },
            "colorscale": [
             [
              0,
              "#0d0887"
             ],
             [
              0.1111111111111111,
              "#46039f"
             ],
             [
              0.2222222222222222,
              "#7201a8"
             ],
             [
              0.3333333333333333,
              "#9c179e"
             ],
             [
              0.4444444444444444,
              "#bd3786"
             ],
             [
              0.5555555555555556,
              "#d8576b"
             ],
             [
              0.6666666666666666,
              "#ed7953"
             ],
             [
              0.7777777777777778,
              "#fb9f3a"
             ],
             [
              0.8888888888888888,
              "#fdca26"
             ],
             [
              1,
              "#f0f921"
             ]
            ],
            "type": "surface"
           }
          ],
          "table": [
           {
            "cells": {
             "fill": {
              "color": "#EBF0F8"
             },
             "line": {
              "color": "white"
             }
            },
            "header": {
             "fill": {
              "color": "#C8D4E3"
             },
             "line": {
              "color": "white"
             }
            },
            "type": "table"
           }
          ]
         },
         "layout": {
          "annotationdefaults": {
           "arrowcolor": "#2a3f5f",
           "arrowhead": 0,
           "arrowwidth": 1
          },
          "autotypenumbers": "strict",
          "coloraxis": {
           "colorbar": {
            "outlinewidth": 0,
            "ticks": ""
           }
          },
          "colorscale": {
           "diverging": [
            [
             0,
             "#8e0152"
            ],
            [
             0.1,
             "#c51b7d"
            ],
            [
             0.2,
             "#de77ae"
            ],
            [
             0.3,
             "#f1b6da"
            ],
            [
             0.4,
             "#fde0ef"
            ],
            [
             0.5,
             "#f7f7f7"
            ],
            [
             0.6,
             "#e6f5d0"
            ],
            [
             0.7,
             "#b8e186"
            ],
            [
             0.8,
             "#7fbc41"
            ],
            [
             0.9,
             "#4d9221"
            ],
            [
             1,
             "#276419"
            ]
           ],
           "sequential": [
            [
             0,
             "#0d0887"
            ],
            [
             0.1111111111111111,
             "#46039f"
            ],
            [
             0.2222222222222222,
             "#7201a8"
            ],
            [
             0.3333333333333333,
             "#9c179e"
            ],
            [
             0.4444444444444444,
             "#bd3786"
            ],
            [
             0.5555555555555556,
             "#d8576b"
            ],
            [
             0.6666666666666666,
             "#ed7953"
            ],
            [
             0.7777777777777778,
             "#fb9f3a"
            ],
            [
             0.8888888888888888,
             "#fdca26"
            ],
            [
             1,
             "#f0f921"
            ]
           ],
           "sequentialminus": [
            [
             0,
             "#0d0887"
            ],
            [
             0.1111111111111111,
             "#46039f"
            ],
            [
             0.2222222222222222,
             "#7201a8"
            ],
            [
             0.3333333333333333,
             "#9c179e"
            ],
            [
             0.4444444444444444,
             "#bd3786"
            ],
            [
             0.5555555555555556,
             "#d8576b"
            ],
            [
             0.6666666666666666,
             "#ed7953"
            ],
            [
             0.7777777777777778,
             "#fb9f3a"
            ],
            [
             0.8888888888888888,
             "#fdca26"
            ],
            [
             1,
             "#f0f921"
            ]
           ]
          },
          "colorway": [
           "#636efa",
           "#EF553B",
           "#00cc96",
           "#ab63fa",
           "#FFA15A",
           "#19d3f3",
           "#FF6692",
           "#B6E880",
           "#FF97FF",
           "#FECB52"
          ],
          "font": {
           "color": "#2a3f5f"
          },
          "geo": {
           "bgcolor": "white",
           "lakecolor": "white",
           "landcolor": "#E5ECF6",
           "showlakes": true,
           "showland": true,
           "subunitcolor": "white"
          },
          "hoverlabel": {
           "align": "left"
          },
          "hovermode": "closest",
          "mapbox": {
           "style": "light"
          },
          "paper_bgcolor": "white",
          "plot_bgcolor": "#E5ECF6",
          "polar": {
           "angularaxis": {
            "gridcolor": "white",
            "linecolor": "white",
            "ticks": ""
           },
           "bgcolor": "#E5ECF6",
           "radialaxis": {
            "gridcolor": "white",
            "linecolor": "white",
            "ticks": ""
           }
          },
          "scene": {
           "xaxis": {
            "backgroundcolor": "#E5ECF6",
            "gridcolor": "white",
            "gridwidth": 2,
            "linecolor": "white",
            "showbackground": true,
            "ticks": "",
            "zerolinecolor": "white"
           },
           "yaxis": {
            "backgroundcolor": "#E5ECF6",
            "gridcolor": "white",
            "gridwidth": 2,
            "linecolor": "white",
            "showbackground": true,
            "ticks": "",
            "zerolinecolor": "white"
           },
           "zaxis": {
            "backgroundcolor": "#E5ECF6",
            "gridcolor": "white",
            "gridwidth": 2,
            "linecolor": "white",
            "showbackground": true,
            "ticks": "",
            "zerolinecolor": "white"
           }
          },
          "shapedefaults": {
           "line": {
            "color": "#2a3f5f"
           }
          },
          "ternary": {
           "aaxis": {
            "gridcolor": "white",
            "linecolor": "white",
            "ticks": ""
           },
           "baxis": {
            "gridcolor": "white",
            "linecolor": "white",
            "ticks": ""
           },
           "bgcolor": "#E5ECF6",
           "caxis": {
            "gridcolor": "white",
            "linecolor": "white",
            "ticks": ""
           }
          },
          "title": {
           "x": 0.05
          },
          "xaxis": {
           "automargin": true,
           "gridcolor": "white",
           "linecolor": "white",
           "ticks": "",
           "title": {
            "standoff": 15
           },
           "zerolinecolor": "white",
           "zerolinewidth": 2
          },
          "yaxis": {
           "automargin": true,
           "gridcolor": "white",
           "linecolor": "white",
           "ticks": "",
           "title": {
            "standoff": 15
           },
           "zerolinecolor": "white",
           "zerolinewidth": 2
          }
         }
        },
        "xaxis": {
         "anchor": "y",
         "domain": [
          0,
          1
         ],
         "title": {
          "text": "Age"
         }
        },
        "yaxis": {
         "anchor": "x",
         "domain": [
          0,
          1
         ],
         "title": {
          "text": "TD%"
         }
        }
       }
      },
      "text/html": [
       "<div>                            <div id=\"b73913da-7bb7-4ec7-b132-e91b0bbd18ca\" class=\"plotly-graph-div\" style=\"height:525px; width:100%;\"></div>            <script type=\"text/javascript\">                require([\"plotly\"], function(Plotly) {                    window.PLOTLYENV=window.PLOTLYENV || {};                                    if (document.getElementById(\"b73913da-7bb7-4ec7-b132-e91b0bbd18ca\")) {                    Plotly.newPlot(                        \"b73913da-7bb7-4ec7-b132-e91b0bbd18ca\",                        [{\"hovertemplate\":\"Ret Age=21<br>Age=%{x}<br>TD%=%{y}<extra></extra>\",\"legendgroup\":\"21\",\"line\":{\"color\":\"#636efa\",\"dash\":\"solid\"},\"mode\":\"lines\",\"name\":\"21\",\"orientation\":\"v\",\"showlegend\":true,\"type\":\"scatter\",\"x\":[21],\"xaxis\":\"x\",\"y\":[0.02226769244495175],\"yaxis\":\"y\"},{\"hovertemplate\":\"Ret Age=23<br>Age=%{x}<br>TD%=%{y}<extra></extra>\",\"legendgroup\":\"23\",\"line\":{\"color\":\"#EF553B\",\"dash\":\"solid\"},\"mode\":\"lines\",\"name\":\"23\",\"orientation\":\"v\",\"showlegend\":true,\"type\":\"scatter\",\"x\":[22,23],\"xaxis\":\"x\",\"y\":[0.02811783754190156,0.030003147662515807],\"yaxis\":\"y\"},{\"hovertemplate\":\"Ret Age=24<br>Age=%{x}<br>TD%=%{y}<extra></extra>\",\"legendgroup\":\"24\",\"line\":{\"color\":\"#00cc96\",\"dash\":\"solid\"},\"mode\":\"lines\",\"name\":\"24\",\"orientation\":\"v\",\"showlegend\":true,\"type\":\"scatter\",\"x\":[21,22,23,24],\"xaxis\":\"x\",\"y\":[0.03272899133191938,0.038848869243129865,0.031141368530563828,0.03185776070706421],\"yaxis\":\"y\"},{\"hovertemplate\":\"Ret Age=25<br>Age=%{x}<br>TD%=%{y}<extra></extra>\",\"legendgroup\":\"25\",\"line\":{\"color\":\"#ab63fa\",\"dash\":\"solid\"},\"mode\":\"lines\",\"name\":\"25\",\"orientation\":\"v\",\"showlegend\":true,\"type\":\"scatter\",\"x\":[22,23,24,25],\"xaxis\":\"x\",\"y\":[0.05328202622667124,0.03610352568191313,0.034760329645886864,0.03300168299068612],\"yaxis\":\"y\"},{\"hovertemplate\":\"Ret Age=26<br>Age=%{x}<br>TD%=%{y}<extra></extra>\",\"legendgroup\":\"26\",\"line\":{\"color\":\"#FFA15A\",\"dash\":\"solid\"},\"mode\":\"lines\",\"name\":\"26\",\"orientation\":\"v\",\"showlegend\":true,\"type\":\"scatter\",\"x\":[22,23,24,25,26],\"xaxis\":\"x\",\"y\":[0.03264227167437832,0.03760574986794035,0.03256632003092014,0.035939483759634266,0.02979052256235615],\"yaxis\":\"y\"},{\"hovertemplate\":\"Ret Age=27<br>Age=%{x}<br>TD%=%{y}<extra></extra>\",\"legendgroup\":\"27\",\"line\":{\"color\":\"#19d3f3\",\"dash\":\"solid\"},\"mode\":\"lines\",\"name\":\"27\",\"orientation\":\"v\",\"showlegend\":true,\"type\":\"scatter\",\"x\":[22,23,24,25,26,27],\"xaxis\":\"x\",\"y\":[0.027728057635169123,0.027609741962335534,0.03604529172421814,0.03421449616536055,0.03147549692366685,0.02822077045120934],\"yaxis\":\"y\"},{\"hovertemplate\":\"Ret Age=28<br>Age=%{x}<br>TD%=%{y}<extra></extra>\",\"legendgroup\":\"28\",\"line\":{\"color\":\"#FF6692\",\"dash\":\"solid\"},\"mode\":\"lines\",\"name\":\"28\",\"orientation\":\"v\",\"showlegend\":true,\"type\":\"scatter\",\"x\":[22,23,24,25,26,27,28],\"xaxis\":\"x\",\"y\":[0.026864051665660235,0.03235649336936486,0.028743470073059697,0.03262469495029013,0.035276841266760776,0.03387207381953207,0.029329066960651764],\"yaxis\":\"y\"},{\"hovertemplate\":\"Ret Age=29<br>Age=%{x}<br>TD%=%{y}<extra></extra>\",\"legendgroup\":\"29\",\"line\":{\"color\":\"#B6E880\",\"dash\":\"solid\"},\"mode\":\"lines\",\"name\":\"29\",\"orientation\":\"v\",\"showlegend\":true,\"type\":\"scatter\",\"x\":[22,23,24,25,26,27,28,29],\"xaxis\":\"x\",\"y\":[0.016089204049384017,0.03000146992642385,0.03452932124275942,0.043880863766189694,0.036304068485526524,0.04461267662810604,0.034029446048145666,0.035520610022569885],\"yaxis\":\"y\"},{\"hovertemplate\":\"Ret Age=30<br>Age=%{x}<br>TD%=%{y}<extra></extra>\",\"legendgroup\":\"30\",\"line\":{\"color\":\"#FF97FF\",\"dash\":\"solid\"},\"mode\":\"lines\",\"name\":\"30\",\"orientation\":\"v\",\"showlegend\":true,\"type\":\"scatter\",\"x\":[22,23,24,25,26,27,28,29,30],\"xaxis\":\"x\",\"y\":[0.030781554401269996,0.045191618802051935,0.03213989354684545,0.03971288654123753,0.044852104895840884,0.042730257784690466,0.03455620573364855,0.038771054634720914,0.034301647721148236],\"yaxis\":\"y\"},{\"hovertemplate\":\"Ret Age=31<br>Age=%{x}<br>TD%=%{y}<extra></extra>\",\"legendgroup\":\"31\",\"line\":{\"color\":\"#FECB52\",\"dash\":\"solid\"},\"mode\":\"lines\",\"name\":\"31\",\"orientation\":\"v\",\"showlegend\":true,\"type\":\"scatter\",\"x\":[22,23,24,25,26,27,28,29,30,31],\"xaxis\":\"x\",\"y\":[0.037555112845949576,0.03098901754224918,0.04020565546777112,0.04169296360607315,0.04115443311175751,0.02902288367396146,0.03996534403478343,0.038170406438944746,0.034304272792382455,0.03178185834162917],\"yaxis\":\"y\"},{\"hovertemplate\":\"Ret Age=32<br>Age=%{x}<br>TD%=%{y}<extra></extra>\",\"legendgroup\":\"32\",\"line\":{\"color\":\"#636efa\",\"dash\":\"solid\"},\"mode\":\"lines\",\"name\":\"32\",\"orientation\":\"v\",\"showlegend\":true,\"type\":\"scatter\",\"x\":[23,24,25,26,27,28,29,30,31,32],\"xaxis\":\"x\",\"y\":[0.03649387001473713,0.02894389023176064,0.03828630197136401,0.03558915536152793,0.03709690727914756,0.041550475213763635,0.03895828379800839,0.03646054536501127,0.03710984440088038,0.03389597435620406],\"yaxis\":\"y\"},{\"hovertemplate\":\"Ret Age=33<br>Age=%{x}<br>TD%=%{y}<extra></extra>\",\"legendgroup\":\"33\",\"line\":{\"color\":\"#EF553B\",\"dash\":\"solid\"},\"mode\":\"lines\",\"name\":\"33\",\"orientation\":\"v\",\"showlegend\":true,\"type\":\"scatter\",\"x\":[22,23,24,25,26,27,28,29,30,31,32,33],\"xaxis\":\"x\",\"y\":[0.037464631435225645,0.03551615343401977,0.03420449847301451,0.04161312086889265,0.04356488063533522,0.038353607639493706,0.03933109657613111,0.04648091927007867,0.03971578012034111,0.03983625577708717,0.0430440194216001,0.029277368708177366],\"yaxis\":\"y\"},{\"hovertemplate\":\"Ret Age=34<br>Age=%{x}<br>TD%=%{y}<extra></extra>\",\"legendgroup\":\"34\",\"line\":{\"color\":\"#00cc96\",\"dash\":\"solid\"},\"mode\":\"lines\",\"name\":\"34\",\"orientation\":\"v\",\"showlegend\":true,\"type\":\"scatter\",\"x\":[21,22,23,24,25,26,27,28,29,30,31,32,33,34],\"xaxis\":\"x\",\"y\":[0.0385678796063529,0.03696586166124215,0.03236799504234428,0.03740906549810212,0.04046736517605936,0.04299799821448748,0.04555435897108407,0.04193496780960378,0.0420061966296111,0.04316717256186803,0.04280326656891533,0.036409354226503966,0.04120814422792398,0.03761869733866313],\"yaxis\":\"y\"},{\"hovertemplate\":\"Ret Age=35<br>Age=%{x}<br>TD%=%{y}<extra></extra>\",\"legendgroup\":\"35\",\"line\":{\"color\":\"#ab63fa\",\"dash\":\"solid\"},\"mode\":\"lines\",\"name\":\"35\",\"orientation\":\"v\",\"showlegend\":true,\"type\":\"scatter\",\"x\":[23,24,25,26,27,28,29,30,31,32,33,34,35],\"xaxis\":\"x\",\"y\":[0.01842302173486549,0.03641104277416519,0.05276944959643809,0.04596956308436439,0.03833242508653345,0.05289240789881935,0.044005956369759416,0.04413670522221331,0.039195720383861904,0.042917932732637616,0.04160414011945207,0.04383821732598625,0.037230448075950814],\"yaxis\":\"y\"},{\"hovertemplate\":\"Ret Age=36<br>Age=%{x}<br>TD%=%{y}<extra></extra>\",\"legendgroup\":\"36\",\"line\":{\"color\":\"#FFA15A\",\"dash\":\"solid\"},\"mode\":\"lines\",\"name\":\"36\",\"orientation\":\"v\",\"showlegend\":true,\"type\":\"scatter\",\"x\":[22,23,24,25,26,27,28,29,30,31,32,33,34,35,36],\"xaxis\":\"x\",\"y\":[0.03622204651579121,0.03140695623396357,0.05229808525669465,0.04218244044716245,0.04145392319450914,0.04914396221007794,0.04488440895073551,0.04256212628001312,0.0464835063262233,0.04073364825262492,0.043076491880542356,0.046023826221514026,0.04738568374236563,0.04753115471457872,0.03671237602395496],\"yaxis\":\"y\"},{\"hovertemplate\":\"Ret Age=37<br>Age=%{x}<br>TD%=%{y}<extra></extra>\",\"legendgroup\":\"37\",\"line\":{\"color\":\"#19d3f3\",\"dash\":\"solid\"},\"mode\":\"lines\",\"name\":\"37\",\"orientation\":\"v\",\"showlegend\":true,\"type\":\"scatter\",\"x\":[24,25,26,27,28,29,30,31,32,33,34,35,36,37],\"xaxis\":\"x\",\"y\":[0.027254429327683873,0.024027367743752373,0.03874417954479068,0.04028289031969533,0.038429630049102576,0.04156071847329645,0.04083283641825675,0.05777608029047739,0.0630523196593148,0.05644184038941492,0.03729228158571007,0.03433920285090412,0.04178654099331744,0.05151458318627853],\"yaxis\":\"y\"},{\"hovertemplate\":\"Ret Age=38<br>Age=%{x}<br>TD%=%{y}<extra></extra>\",\"legendgroup\":\"38\",\"line\":{\"color\":\"#FF6692\",\"dash\":\"solid\"},\"mode\":\"lines\",\"name\":\"38\",\"orientation\":\"v\",\"showlegend\":true,\"type\":\"scatter\",\"x\":[22,23,24,25,26,27,28,29,30,31,32,33,34,35,36,37,38],\"xaxis\":\"x\",\"y\":[0.06008134840394541,0.0461194161632147,0.04449244968921475,0.04200798535972657,0.042943305191069384,0.04371105270331669,0.049925221027466674,0.041622376607209285,0.045120469584885636,0.043782654362121046,0.03966204029048462,0.042628951421894434,0.041409140461599374,0.04044616583813986,0.045170631630459424,0.03905501252206092,0.038315759463012675],\"yaxis\":\"y\"},{\"hovertemplate\":\"Ret Age=39<br>Age=%{x}<br>TD%=%{y}<extra></extra>\",\"legendgroup\":\"39\",\"line\":{\"color\":\"#B6E880\",\"dash\":\"solid\"},\"mode\":\"lines\",\"name\":\"39\",\"orientation\":\"v\",\"showlegend\":true,\"type\":\"scatter\",\"x\":[22,23,24,25,26,27,28,29,30,31,32,33,34,35,36,37,38,39],\"xaxis\":\"x\",\"y\":[0.04211150965484397,0.04864030944535646,0.0476656561155807,0.04066365464011731,0.041561451872932885,0.06067699161210256,0.0636430144166673,0.052618952328938644,0.04459494047700871,0.05052189511241649,0.050851378851030735,0.05001715416374094,0.03871767147949977,0.04715583130343074,0.05033619341164664,0.055246576619933,0.04593284257712976,0.036051825381538206],\"yaxis\":\"y\"},{\"hovertemplate\":\"Ret Age=40<br>Age=%{x}<br>TD%=%{y}<extra></extra>\",\"legendgroup\":\"40\",\"line\":{\"color\":\"#FF97FF\",\"dash\":\"solid\"},\"mode\":\"lines\",\"name\":\"40\",\"orientation\":\"v\",\"showlegend\":true,\"type\":\"scatter\",\"x\":[25,26,27,28,29,30,31,32,33,34,35,36,37,40],\"xaxis\":\"x\",\"y\":[0.035403983219312415,0.023116265907024938,0.035290743960836805,0.04618145903799395,0.041025612417637504,0.05406450263303494,0.04854828202150182,0.04666422378923383,0.024213455385231817,0.033064329357861175,0.024588008224333175,0.03212795368122879,0.029446577755078404,0.03182603445845097],\"yaxis\":\"y\"},{\"hovertemplate\":\"Ret Age=41<br>Age=%{x}<br>TD%=%{y}<extra></extra>\",\"legendgroup\":\"41\",\"line\":{\"color\":\"#FECB52\",\"dash\":\"solid\"},\"mode\":\"lines\",\"name\":\"41\",\"orientation\":\"v\",\"showlegend\":true,\"type\":\"scatter\",\"x\":[23,24,25,26,27,28,29,30,31,32,33,34,35,36,37,38,39,40,41],\"xaxis\":\"x\",\"y\":[0.03536931571500477,0.034804281608238855,0.04879484548640724,0.05186793363368397,0.055526599313510346,0.047059970599542034,0.05030794810103515,0.05201653772032261,0.041351128364994376,0.05884014830988639,0.056435758636454246,0.0533550825133925,0.05089571428405297,0.04179374497302968,0.039260521382218444,0.040718186340198276,0.04164658403440679,0.05621888621900884,0.03805398851716944],\"yaxis\":\"y\"},{\"hovertemplate\":\"Ret Age=42<br>Age=%{x}<br>TD%=%{y}<extra></extra>\",\"legendgroup\":\"42\",\"line\":{\"color\":\"#636efa\",\"dash\":\"solid\"},\"mode\":\"lines\",\"name\":\"42\",\"orientation\":\"v\",\"showlegend\":true,\"type\":\"scatter\",\"x\":[28,29,30,31,32,33,34,35,36,37,38,39,40,41,42],\"xaxis\":\"x\",\"y\":[0.024574577980119132,0.03796663871774681,0.026023293040355357,0.04985081115422991,0.058143010815588876,0.04831403038986323,0.05255079039505327,0.03792605449877331,0.053482109303440405,0.04454590094533759,0.0306010906717158,0.05426453343369574,0.02859701477515842,0.04775511066587183,0.03970711069870127],\"yaxis\":\"y\"}],                        {\"legend\":{\"title\":{\"text\":\"Ret Age\"},\"tracegroupgap\":0},\"margin\":{\"t\":60},\"template\":{\"data\":{\"bar\":[{\"error_x\":{\"color\":\"#2a3f5f\"},\"error_y\":{\"color\":\"#2a3f5f\"},\"marker\":{\"line\":{\"color\":\"#E5ECF6\",\"width\":0.5},\"pattern\":{\"fillmode\":\"overlay\",\"size\":10,\"solidity\":0.2}},\"type\":\"bar\"}],\"barpolar\":[{\"marker\":{\"line\":{\"color\":\"#E5ECF6\",\"width\":0.5},\"pattern\":{\"fillmode\":\"overlay\",\"size\":10,\"solidity\":0.2}},\"type\":\"barpolar\"}],\"carpet\":[{\"aaxis\":{\"endlinecolor\":\"#2a3f5f\",\"gridcolor\":\"white\",\"linecolor\":\"white\",\"minorgridcolor\":\"white\",\"startlinecolor\":\"#2a3f5f\"},\"baxis\":{\"endlinecolor\":\"#2a3f5f\",\"gridcolor\":\"white\",\"linecolor\":\"white\",\"minorgridcolor\":\"white\",\"startlinecolor\":\"#2a3f5f\"},\"type\":\"carpet\"}],\"choropleth\":[{\"colorbar\":{\"outlinewidth\":0,\"ticks\":\"\"},\"type\":\"choropleth\"}],\"contour\":[{\"colorbar\":{\"outlinewidth\":0,\"ticks\":\"\"},\"colorscale\":[[0.0,\"#0d0887\"],[0.1111111111111111,\"#46039f\"],[0.2222222222222222,\"#7201a8\"],[0.3333333333333333,\"#9c179e\"],[0.4444444444444444,\"#bd3786\"],[0.5555555555555556,\"#d8576b\"],[0.6666666666666666,\"#ed7953\"],[0.7777777777777778,\"#fb9f3a\"],[0.8888888888888888,\"#fdca26\"],[1.0,\"#f0f921\"]],\"type\":\"contour\"}],\"contourcarpet\":[{\"colorbar\":{\"outlinewidth\":0,\"ticks\":\"\"},\"type\":\"contourcarpet\"}],\"heatmap\":[{\"colorbar\":{\"outlinewidth\":0,\"ticks\":\"\"},\"colorscale\":[[0.0,\"#0d0887\"],[0.1111111111111111,\"#46039f\"],[0.2222222222222222,\"#7201a8\"],[0.3333333333333333,\"#9c179e\"],[0.4444444444444444,\"#bd3786\"],[0.5555555555555556,\"#d8576b\"],[0.6666666666666666,\"#ed7953\"],[0.7777777777777778,\"#fb9f3a\"],[0.8888888888888888,\"#fdca26\"],[1.0,\"#f0f921\"]],\"type\":\"heatmap\"}],\"heatmapgl\":[{\"colorbar\":{\"outlinewidth\":0,\"ticks\":\"\"},\"colorscale\":[[0.0,\"#0d0887\"],[0.1111111111111111,\"#46039f\"],[0.2222222222222222,\"#7201a8\"],[0.3333333333333333,\"#9c179e\"],[0.4444444444444444,\"#bd3786\"],[0.5555555555555556,\"#d8576b\"],[0.6666666666666666,\"#ed7953\"],[0.7777777777777778,\"#fb9f3a\"],[0.8888888888888888,\"#fdca26\"],[1.0,\"#f0f921\"]],\"type\":\"heatmapgl\"}],\"histogram\":[{\"marker\":{\"pattern\":{\"fillmode\":\"overlay\",\"size\":10,\"solidity\":0.2}},\"type\":\"histogram\"}],\"histogram2d\":[{\"colorbar\":{\"outlinewidth\":0,\"ticks\":\"\"},\"colorscale\":[[0.0,\"#0d0887\"],[0.1111111111111111,\"#46039f\"],[0.2222222222222222,\"#7201a8\"],[0.3333333333333333,\"#9c179e\"],[0.4444444444444444,\"#bd3786\"],[0.5555555555555556,\"#d8576b\"],[0.6666666666666666,\"#ed7953\"],[0.7777777777777778,\"#fb9f3a\"],[0.8888888888888888,\"#fdca26\"],[1.0,\"#f0f921\"]],\"type\":\"histogram2d\"}],\"histogram2dcontour\":[{\"colorbar\":{\"outlinewidth\":0,\"ticks\":\"\"},\"colorscale\":[[0.0,\"#0d0887\"],[0.1111111111111111,\"#46039f\"],[0.2222222222222222,\"#7201a8\"],[0.3333333333333333,\"#9c179e\"],[0.4444444444444444,\"#bd3786\"],[0.5555555555555556,\"#d8576b\"],[0.6666666666666666,\"#ed7953\"],[0.7777777777777778,\"#fb9f3a\"],[0.8888888888888888,\"#fdca26\"],[1.0,\"#f0f921\"]],\"type\":\"histogram2dcontour\"}],\"mesh3d\":[{\"colorbar\":{\"outlinewidth\":0,\"ticks\":\"\"},\"type\":\"mesh3d\"}],\"parcoords\":[{\"line\":{\"colorbar\":{\"outlinewidth\":0,\"ticks\":\"\"}},\"type\":\"parcoords\"}],\"pie\":[{\"automargin\":true,\"type\":\"pie\"}],\"scatter\":[{\"marker\":{\"colorbar\":{\"outlinewidth\":0,\"ticks\":\"\"}},\"type\":\"scatter\"}],\"scatter3d\":[{\"line\":{\"colorbar\":{\"outlinewidth\":0,\"ticks\":\"\"}},\"marker\":{\"colorbar\":{\"outlinewidth\":0,\"ticks\":\"\"}},\"type\":\"scatter3d\"}],\"scattercarpet\":[{\"marker\":{\"colorbar\":{\"outlinewidth\":0,\"ticks\":\"\"}},\"type\":\"scattercarpet\"}],\"scattergeo\":[{\"marker\":{\"colorbar\":{\"outlinewidth\":0,\"ticks\":\"\"}},\"type\":\"scattergeo\"}],\"scattergl\":[{\"marker\":{\"colorbar\":{\"outlinewidth\":0,\"ticks\":\"\"}},\"type\":\"scattergl\"}],\"scattermapbox\":[{\"marker\":{\"colorbar\":{\"outlinewidth\":0,\"ticks\":\"\"}},\"type\":\"scattermapbox\"}],\"scatterpolar\":[{\"marker\":{\"colorbar\":{\"outlinewidth\":0,\"ticks\":\"\"}},\"type\":\"scatterpolar\"}],\"scatterpolargl\":[{\"marker\":{\"colorbar\":{\"outlinewidth\":0,\"ticks\":\"\"}},\"type\":\"scatterpolargl\"}],\"scatterternary\":[{\"marker\":{\"colorbar\":{\"outlinewidth\":0,\"ticks\":\"\"}},\"type\":\"scatterternary\"}],\"surface\":[{\"colorbar\":{\"outlinewidth\":0,\"ticks\":\"\"},\"colorscale\":[[0.0,\"#0d0887\"],[0.1111111111111111,\"#46039f\"],[0.2222222222222222,\"#7201a8\"],[0.3333333333333333,\"#9c179e\"],[0.4444444444444444,\"#bd3786\"],[0.5555555555555556,\"#d8576b\"],[0.6666666666666666,\"#ed7953\"],[0.7777777777777778,\"#fb9f3a\"],[0.8888888888888888,\"#fdca26\"],[1.0,\"#f0f921\"]],\"type\":\"surface\"}],\"table\":[{\"cells\":{\"fill\":{\"color\":\"#EBF0F8\"},\"line\":{\"color\":\"white\"}},\"header\":{\"fill\":{\"color\":\"#C8D4E3\"},\"line\":{\"color\":\"white\"}},\"type\":\"table\"}]},\"layout\":{\"annotationdefaults\":{\"arrowcolor\":\"#2a3f5f\",\"arrowhead\":0,\"arrowwidth\":1},\"autotypenumbers\":\"strict\",\"coloraxis\":{\"colorbar\":{\"outlinewidth\":0,\"ticks\":\"\"}},\"colorscale\":{\"diverging\":[[0,\"#8e0152\"],[0.1,\"#c51b7d\"],[0.2,\"#de77ae\"],[0.3,\"#f1b6da\"],[0.4,\"#fde0ef\"],[0.5,\"#f7f7f7\"],[0.6,\"#e6f5d0\"],[0.7,\"#b8e186\"],[0.8,\"#7fbc41\"],[0.9,\"#4d9221\"],[1,\"#276419\"]],\"sequential\":[[0.0,\"#0d0887\"],[0.1111111111111111,\"#46039f\"],[0.2222222222222222,\"#7201a8\"],[0.3333333333333333,\"#9c179e\"],[0.4444444444444444,\"#bd3786\"],[0.5555555555555556,\"#d8576b\"],[0.6666666666666666,\"#ed7953\"],[0.7777777777777778,\"#fb9f3a\"],[0.8888888888888888,\"#fdca26\"],[1.0,\"#f0f921\"]],\"sequentialminus\":[[0.0,\"#0d0887\"],[0.1111111111111111,\"#46039f\"],[0.2222222222222222,\"#7201a8\"],[0.3333333333333333,\"#9c179e\"],[0.4444444444444444,\"#bd3786\"],[0.5555555555555556,\"#d8576b\"],[0.6666666666666666,\"#ed7953\"],[0.7777777777777778,\"#fb9f3a\"],[0.8888888888888888,\"#fdca26\"],[1.0,\"#f0f921\"]]},\"colorway\":[\"#636efa\",\"#EF553B\",\"#00cc96\",\"#ab63fa\",\"#FFA15A\",\"#19d3f3\",\"#FF6692\",\"#B6E880\",\"#FF97FF\",\"#FECB52\"],\"font\":{\"color\":\"#2a3f5f\"},\"geo\":{\"bgcolor\":\"white\",\"lakecolor\":\"white\",\"landcolor\":\"#E5ECF6\",\"showlakes\":true,\"showland\":true,\"subunitcolor\":\"white\"},\"hoverlabel\":{\"align\":\"left\"},\"hovermode\":\"closest\",\"mapbox\":{\"style\":\"light\"},\"paper_bgcolor\":\"white\",\"plot_bgcolor\":\"#E5ECF6\",\"polar\":{\"angularaxis\":{\"gridcolor\":\"white\",\"linecolor\":\"white\",\"ticks\":\"\"},\"bgcolor\":\"#E5ECF6\",\"radialaxis\":{\"gridcolor\":\"white\",\"linecolor\":\"white\",\"ticks\":\"\"}},\"scene\":{\"xaxis\":{\"backgroundcolor\":\"#E5ECF6\",\"gridcolor\":\"white\",\"gridwidth\":2,\"linecolor\":\"white\",\"showbackground\":true,\"ticks\":\"\",\"zerolinecolor\":\"white\"},\"yaxis\":{\"backgroundcolor\":\"#E5ECF6\",\"gridcolor\":\"white\",\"gridwidth\":2,\"linecolor\":\"white\",\"showbackground\":true,\"ticks\":\"\",\"zerolinecolor\":\"white\"},\"zaxis\":{\"backgroundcolor\":\"#E5ECF6\",\"gridcolor\":\"white\",\"gridwidth\":2,\"linecolor\":\"white\",\"showbackground\":true,\"ticks\":\"\",\"zerolinecolor\":\"white\"}},\"shapedefaults\":{\"line\":{\"color\":\"#2a3f5f\"}},\"ternary\":{\"aaxis\":{\"gridcolor\":\"white\",\"linecolor\":\"white\",\"ticks\":\"\"},\"baxis\":{\"gridcolor\":\"white\",\"linecolor\":\"white\",\"ticks\":\"\"},\"bgcolor\":\"#E5ECF6\",\"caxis\":{\"gridcolor\":\"white\",\"linecolor\":\"white\",\"ticks\":\"\"}},\"title\":{\"x\":0.05},\"xaxis\":{\"automargin\":true,\"gridcolor\":\"white\",\"linecolor\":\"white\",\"ticks\":\"\",\"title\":{\"standoff\":15},\"zerolinecolor\":\"white\",\"zerolinewidth\":2},\"yaxis\":{\"automargin\":true,\"gridcolor\":\"white\",\"linecolor\":\"white\",\"ticks\":\"\",\"title\":{\"standoff\":15},\"zerolinecolor\":\"white\",\"zerolinewidth\":2}}},\"xaxis\":{\"anchor\":\"y\",\"domain\":[0.0,1.0],\"title\":{\"text\":\"Age\"}},\"yaxis\":{\"anchor\":\"x\",\"domain\":[0.0,1.0],\"title\":{\"text\":\"TD%\"}}},                        {\"responsive\": true}                    ).then(function(){\n",
       "                            \n",
       "var gd = document.getElementById('b73913da-7bb7-4ec7-b132-e91b0bbd18ca');\n",
       "var x = new MutationObserver(function (mutations, observer) {{\n",
       "        var display = window.getComputedStyle(gd).display;\n",
       "        if (!display || display === 'none') {{\n",
       "            console.log([gd, 'removed!']);\n",
       "            Plotly.purge(gd);\n",
       "            observer.disconnect();\n",
       "        }}\n",
       "}});\n",
       "\n",
       "// Listen for the removal of the full notebook cells\n",
       "var notebookContainer = gd.closest('#notebook-container');\n",
       "if (notebookContainer) {{\n",
       "    x.observe(notebookContainer, {childList: true});\n",
       "}}\n",
       "\n",
       "// Listen for the clearing of the current output cell\n",
       "var outputEl = gd.closest('.output');\n",
       "if (outputEl) {{\n",
       "    x.observe(outputEl, {childList: true});\n",
       "}}\n",
       "\n",
       "                        })                };                });            </script>        </div>"
      ]
     },
     "metadata": {},
     "output_type": "display_data"
    }
   ],
   "source": [
    "px.line(ret_passing, x = 'Age', y = 'TD%', color = 'Ret Age')"
   ]
  },
  {
   "cell_type": "code",
   "execution_count": 106,
   "id": "705a1c49",
   "metadata": {},
   "outputs": [
    {
     "data": {
      "application/vnd.plotly.v1+json": {
       "config": {
        "plotlyServerURL": "https://plot.ly"
       },
       "data": [
        {
         "hovertemplate": "Ret Age=21<br>Age=%{x}<br>Int%=%{y}<extra></extra>",
         "legendgroup": "21",
         "line": {
          "color": "#636efa",
          "dash": "solid"
         },
         "mode": "lines",
         "name": "21",
         "orientation": "v",
         "showlegend": true,
         "type": "scatter",
         "x": [
          21
         ],
         "xaxis": "x",
         "y": [
          0.09232310342559794
         ],
         "yaxis": "y"
        },
        {
         "hovertemplate": "Ret Age=23<br>Age=%{x}<br>Int%=%{y}<extra></extra>",
         "legendgroup": "23",
         "line": {
          "color": "#EF553B",
          "dash": "solid"
         },
         "mode": "lines",
         "name": "23",
         "orientation": "v",
         "showlegend": true,
         "type": "scatter",
         "x": [
          22,
          23
         ],
         "xaxis": "x",
         "y": [
          0.06923330262466808,
          0.0625881412374179
         ],
         "yaxis": "y"
        },
        {
         "hovertemplate": "Ret Age=24<br>Age=%{x}<br>Int%=%{y}<extra></extra>",
         "legendgroup": "24",
         "line": {
          "color": "#00cc96",
          "dash": "solid"
         },
         "mode": "lines",
         "name": "24",
         "orientation": "v",
         "showlegend": true,
         "type": "scatter",
         "x": [
          21,
          22,
          23,
          24
         ],
         "xaxis": "x",
         "y": [
          0.10899013562374123,
          0.04125633027753498,
          0.061579499774178245,
          0.063853650774599
         ],
         "yaxis": "y"
        },
        {
         "hovertemplate": "Ret Age=25<br>Age=%{x}<br>Int%=%{y}<extra></extra>",
         "legendgroup": "25",
         "line": {
          "color": "#ab63fa",
          "dash": "solid"
         },
         "mode": "lines",
         "name": "25",
         "orientation": "v",
         "showlegend": true,
         "type": "scatter",
         "x": [
          22,
          23,
          24,
          25
         ],
         "xaxis": "x",
         "y": [
          0.06157908808066721,
          0.060961074331046125,
          0.059174848087044325,
          0.05664468386082175
         ],
         "yaxis": "y"
        },
        {
         "hovertemplate": "Ret Age=26<br>Age=%{x}<br>Int%=%{y}<extra></extra>",
         "legendgroup": "26",
         "line": {
          "color": "#FFA15A",
          "dash": "solid"
         },
         "mode": "lines",
         "name": "26",
         "orientation": "v",
         "showlegend": true,
         "type": "scatter",
         "x": [
          22,
          23,
          24,
          25,
          26
         ],
         "xaxis": "x",
         "y": [
          0.06471701700902918,
          0.05754679521215821,
          0.06184511123536466,
          0.052132840125425274,
          0.066114060975259
         ],
         "yaxis": "y"
        },
        {
         "hovertemplate": "Ret Age=27<br>Age=%{x}<br>Int%=%{y}<extra></extra>",
         "legendgroup": "27",
         "line": {
          "color": "#19d3f3",
          "dash": "solid"
         },
         "mode": "lines",
         "name": "27",
         "orientation": "v",
         "showlegend": true,
         "type": "scatter",
         "x": [
          22,
          23,
          24,
          25,
          26,
          27
         ],
         "xaxis": "x",
         "y": [
          0.06977129634057708,
          0.05374240958835092,
          0.06383790647375735,
          0.04920627224835934,
          0.06139274276199391,
          0.060581119019061325
         ],
         "yaxis": "y"
        },
        {
         "hovertemplate": "Ret Age=28<br>Age=%{x}<br>Int%=%{y}<extra></extra>",
         "legendgroup": "28",
         "line": {
          "color": "#FF6692",
          "dash": "solid"
         },
         "mode": "lines",
         "name": "28",
         "orientation": "v",
         "showlegend": true,
         "type": "scatter",
         "x": [
          22,
          23,
          24,
          25,
          26,
          27,
          28
         ],
         "xaxis": "x",
         "y": [
          0.049504390079957425,
          0.0681674976925567,
          0.05584320788730945,
          0.05227781116962261,
          0.06049567352282015,
          0.05010587238750999,
          0.048826998973002564
         ],
         "yaxis": "y"
        },
        {
         "hovertemplate": "Ret Age=29<br>Age=%{x}<br>Int%=%{y}<extra></extra>",
         "legendgroup": "29",
         "line": {
          "color": "#B6E880",
          "dash": "solid"
         },
         "mode": "lines",
         "name": "29",
         "orientation": "v",
         "showlegend": true,
         "type": "scatter",
         "x": [
          22,
          23,
          24,
          25,
          26,
          27,
          28,
          29
         ],
         "xaxis": "x",
         "y": [
          0.053296631545740374,
          0.05042817330796679,
          0.045442573572761664,
          0.05055166110591741,
          0.047346721474094224,
          0.0513776229042627,
          0.05683405376823082,
          0.04961663616320022
         ],
         "yaxis": "y"
        },
        {
         "hovertemplate": "Ret Age=30<br>Age=%{x}<br>Int%=%{y}<extra></extra>",
         "legendgroup": "30",
         "line": {
          "color": "#FF97FF",
          "dash": "solid"
         },
         "mode": "lines",
         "name": "30",
         "orientation": "v",
         "showlegend": true,
         "type": "scatter",
         "x": [
          22,
          23,
          24,
          25,
          26,
          27,
          28,
          29,
          30
         ],
         "xaxis": "x",
         "y": [
          0.036530725535809515,
          0.04172940370309612,
          0.045785766296261333,
          0.0491066717730953,
          0.05425459928228938,
          0.03955016304537876,
          0.04807360365032868,
          0.060624980340983264,
          0.06036358317103483
         ],
         "yaxis": "y"
        },
        {
         "hovertemplate": "Ret Age=31<br>Age=%{x}<br>Int%=%{y}<extra></extra>",
         "legendgroup": "31",
         "line": {
          "color": "#FECB52",
          "dash": "solid"
         },
         "mode": "lines",
         "name": "31",
         "orientation": "v",
         "showlegend": true,
         "type": "scatter",
         "x": [
          22,
          23,
          24,
          25,
          26,
          27,
          28,
          29,
          30,
          31
         ],
         "xaxis": "x",
         "y": [
          0.06111663842999492,
          0.04653950417379279,
          0.04781188732569926,
          0.05207385581038573,
          0.06063929756430003,
          0.05210339266538173,
          0.05341013482374958,
          0.04831818082588863,
          0.04926630882681911,
          0.06304273969734601
         ],
         "yaxis": "y"
        },
        {
         "hovertemplate": "Ret Age=32<br>Age=%{x}<br>Int%=%{y}<extra></extra>",
         "legendgroup": "32",
         "line": {
          "color": "#636efa",
          "dash": "solid"
         },
         "mode": "lines",
         "name": "32",
         "orientation": "v",
         "showlegend": true,
         "type": "scatter",
         "x": [
          23,
          24,
          25,
          26,
          27,
          28,
          29,
          30,
          31,
          32
         ],
         "xaxis": "x",
         "y": [
          0.07448429384907868,
          0.06010368408677265,
          0.06761695609437386,
          0.05696288697717741,
          0.04536282094917046,
          0.04728367961351811,
          0.043990896607318385,
          0.05340500123195892,
          0.04466753328280097,
          0.052563814813039934
         ],
         "yaxis": "y"
        },
        {
         "hovertemplate": "Ret Age=33<br>Age=%{x}<br>Int%=%{y}<extra></extra>",
         "legendgroup": "33",
         "line": {
          "color": "#EF553B",
          "dash": "solid"
         },
         "mode": "lines",
         "name": "33",
         "orientation": "v",
         "showlegend": true,
         "type": "scatter",
         "x": [
          22,
          23,
          24,
          25,
          26,
          27,
          28,
          29,
          30,
          31,
          32,
          33
         ],
         "xaxis": "x",
         "y": [
          0.033618011533714104,
          0.05783428564381031,
          0.05182195923280955,
          0.05187857177418847,
          0.048607297024690674,
          0.0500429564108157,
          0.05092589728253448,
          0.05360264514945152,
          0.05598128592474443,
          0.05075797239499675,
          0.05182428015254531,
          0.05698479647332987
         ],
         "yaxis": "y"
        },
        {
         "hovertemplate": "Ret Age=34<br>Age=%{x}<br>Int%=%{y}<extra></extra>",
         "legendgroup": "34",
         "line": {
          "color": "#00cc96",
          "dash": "solid"
         },
         "mode": "lines",
         "name": "34",
         "orientation": "v",
         "showlegend": true,
         "type": "scatter",
         "x": [
          21,
          22,
          23,
          24,
          25,
          26,
          27,
          28,
          29,
          30,
          31,
          32,
          33,
          34
         ],
         "xaxis": "x",
         "y": [
          0.058049497978940295,
          0.06704552680474277,
          0.053947871798757055,
          0.05019698714922293,
          0.045576995320218375,
          0.05117361327453503,
          0.05154409189526826,
          0.05408847809890087,
          0.04127546598408554,
          0.05253276355188195,
          0.04949411405083641,
          0.053731510123043835,
          0.04617722648906069,
          0.05906988735062305
         ],
         "yaxis": "y"
        },
        {
         "hovertemplate": "Ret Age=35<br>Age=%{x}<br>Int%=%{y}<extra></extra>",
         "legendgroup": "35",
         "line": {
          "color": "#ab63fa",
          "dash": "solid"
         },
         "mode": "lines",
         "name": "35",
         "orientation": "v",
         "showlegend": true,
         "type": "scatter",
         "x": [
          23,
          24,
          25,
          26,
          27,
          28,
          29,
          30,
          31,
          32,
          33,
          34,
          35
         ],
         "xaxis": "x",
         "y": [
          0.06336343684969993,
          0.05070255313321144,
          0.04409388771377388,
          0.04464863739034013,
          0.04637250861534627,
          0.05386822248472485,
          0.04759780763545013,
          0.043305099355995025,
          0.042348567554366695,
          0.04403739645758933,
          0.049795431118118176,
          0.05122706317164959,
          0.05972414129848096
         ],
         "yaxis": "y"
        },
        {
         "hovertemplate": "Ret Age=36<br>Age=%{x}<br>Int%=%{y}<extra></extra>",
         "legendgroup": "36",
         "line": {
          "color": "#FFA15A",
          "dash": "solid"
         },
         "mode": "lines",
         "name": "36",
         "orientation": "v",
         "showlegend": true,
         "type": "scatter",
         "x": [
          22,
          23,
          24,
          25,
          26,
          27,
          28,
          29,
          30,
          31,
          32,
          33,
          34,
          35,
          36
         ],
         "xaxis": "x",
         "y": [
          0.06163106198589207,
          0.05417618067881306,
          0.039616212851866076,
          0.04848446672682616,
          0.05203401552420024,
          0.04638756270135328,
          0.04696983049874667,
          0.050535890602319736,
          0.04087770910945423,
          0.051914491750264594,
          0.04668809967754724,
          0.04844213646876275,
          0.05519838623138145,
          0.04834497390880917,
          0.06613539194310934
         ],
         "yaxis": "y"
        },
        {
         "hovertemplate": "Ret Age=37<br>Age=%{x}<br>Int%=%{y}<extra></extra>",
         "legendgroup": "37",
         "line": {
          "color": "#19d3f3",
          "dash": "solid"
         },
         "mode": "lines",
         "name": "37",
         "orientation": "v",
         "showlegend": true,
         "type": "scatter",
         "x": [
          24,
          25,
          26,
          27,
          28,
          29,
          30,
          31,
          32,
          33,
          34,
          35,
          36,
          37
         ],
         "xaxis": "x",
         "y": [
          0.06646647208069457,
          0.04796131276086632,
          0.05605167233731927,
          0.05064048458725526,
          0.04678438107095493,
          0.05305368825678006,
          0.049552169085209756,
          0.03321879906743977,
          0.04558349163869385,
          0.04002643403532014,
          0.04435039905324663,
          0.051791428511189695,
          0.052091153708926044,
          0.054820249042488466
         ],
         "yaxis": "y"
        },
        {
         "hovertemplate": "Ret Age=38<br>Age=%{x}<br>Int%=%{y}<extra></extra>",
         "legendgroup": "38",
         "line": {
          "color": "#FF6692",
          "dash": "solid"
         },
         "mode": "lines",
         "name": "38",
         "orientation": "v",
         "showlegend": true,
         "type": "scatter",
         "x": [
          22,
          23,
          24,
          25,
          26,
          27,
          28,
          29,
          30,
          31,
          32,
          33,
          34,
          35,
          36,
          37,
          38
         ],
         "xaxis": "x",
         "y": [
          0.02480871434948894,
          0.06220298093097782,
          0.04986843772768468,
          0.056398253093642346,
          0.04967224489378437,
          0.047842511812224944,
          0.052613930302690556,
          0.05519223515727774,
          0.04874311939754492,
          0.05212946325805054,
          0.05959412797973581,
          0.04476691839178664,
          0.0514182344958611,
          0.05190145822221297,
          0.048197188843743737,
          0.04737728086090183,
          0.05214131754967809
         ],
         "yaxis": "y"
        },
        {
         "hovertemplate": "Ret Age=39<br>Age=%{x}<br>Int%=%{y}<extra></extra>",
         "legendgroup": "39",
         "line": {
          "color": "#B6E880",
          "dash": "solid"
         },
         "mode": "lines",
         "name": "39",
         "orientation": "v",
         "showlegend": true,
         "type": "scatter",
         "x": [
          22,
          23,
          24,
          25,
          26,
          27,
          28,
          29,
          30,
          31,
          32,
          33,
          34,
          35,
          36,
          37,
          38,
          39
         ],
         "xaxis": "x",
         "y": [
          0.08004765438895739,
          0.045337187502550044,
          0.05373091295165634,
          0.04850095049059846,
          0.05798185163972322,
          0.036090749401382134,
          0.03828363186452576,
          0.04125428736443307,
          0.04632727429445643,
          0.055406749585937255,
          0.04049664024587111,
          0.054762361089974745,
          0.048584257071379804,
          0.07790000689988666,
          0.03668330829106021,
          0.04542771206943751,
          0.06669918484665832,
          0.06973816105646137
         ],
         "yaxis": "y"
        },
        {
         "hovertemplate": "Ret Age=40<br>Age=%{x}<br>Int%=%{y}<extra></extra>",
         "legendgroup": "40",
         "line": {
          "color": "#FF97FF",
          "dash": "solid"
         },
         "mode": "lines",
         "name": "40",
         "orientation": "v",
         "showlegend": true,
         "type": "scatter",
         "x": [
          25,
          26,
          27,
          28,
          29,
          30,
          31,
          32,
          33,
          34,
          35,
          36,
          37,
          40
         ],
         "xaxis": "x",
         "y": [
          0.06795783147607705,
          0.05018064601984354,
          0.04222309921149653,
          0.0507717947848335,
          0.05335295155698141,
          0.03523171915465695,
          0.06883658035149333,
          0.036817433018052126,
          0.0918589201570755,
          0.06117046546277826,
          0.06989805111584996,
          0.05023418452831062,
          0.046452792294842414,
          0.05900330411807561
         ],
         "yaxis": "y"
        },
        {
         "hovertemplate": "Ret Age=41<br>Age=%{x}<br>Int%=%{y}<extra></extra>",
         "legendgroup": "41",
         "line": {
          "color": "#FECB52",
          "dash": "solid"
         },
         "mode": "lines",
         "name": "41",
         "orientation": "v",
         "showlegend": true,
         "type": "scatter",
         "x": [
          23,
          24,
          25,
          26,
          27,
          28,
          29,
          30,
          31,
          32,
          33,
          34,
          35,
          36,
          37,
          38,
          39,
          40,
          41
         ],
         "xaxis": "x",
         "y": [
          0.046588451031526694,
          0.06978265164405217,
          0.05810590599427322,
          0.05410979301033936,
          0.045687312713874495,
          0.055386982987187514,
          0.0600872448165818,
          0.0532561515471029,
          0.060480667077522594,
          0.04342374700771443,
          0.05511409815595802,
          0.05330221523462733,
          0.047317640219833326,
          0.05918937062706498,
          0.056777805400277076,
          0.04066278427366348,
          0.053849285980734546,
          0.02259500367791691,
          0.06369775293449874
         ],
         "yaxis": "y"
        },
        {
         "hovertemplate": "Ret Age=42<br>Age=%{x}<br>Int%=%{y}<extra></extra>",
         "legendgroup": "42",
         "line": {
          "color": "#636efa",
          "dash": "solid"
         },
         "mode": "lines",
         "name": "42",
         "orientation": "v",
         "showlegend": true,
         "type": "scatter",
         "x": [
          28,
          29,
          30,
          31,
          32,
          33,
          34,
          35,
          36,
          37,
          38,
          39,
          40,
          41,
          42
         ],
         "xaxis": "x",
         "y": [
          0.04122400022234652,
          0.06522651713707255,
          0.07167517080875314,
          0.06601276064351796,
          0.03756152774183085,
          0.04180609948004828,
          0.03386025912055003,
          0.049509119963865,
          0.04840103148166698,
          0.06704717016567605,
          0.05424543793797176,
          0.04070321759422011,
          0.05798227093523285,
          0.05375322005305535,
          0.050971651465836654
         ],
         "yaxis": "y"
        }
       ],
       "layout": {
        "legend": {
         "title": {
          "text": "Ret Age"
         },
         "tracegroupgap": 0
        },
        "margin": {
         "t": 60
        },
        "template": {
         "data": {
          "bar": [
           {
            "error_x": {
             "color": "#2a3f5f"
            },
            "error_y": {
             "color": "#2a3f5f"
            },
            "marker": {
             "line": {
              "color": "#E5ECF6",
              "width": 0.5
             },
             "pattern": {
              "fillmode": "overlay",
              "size": 10,
              "solidity": 0.2
             }
            },
            "type": "bar"
           }
          ],
          "barpolar": [
           {
            "marker": {
             "line": {
              "color": "#E5ECF6",
              "width": 0.5
             },
             "pattern": {
              "fillmode": "overlay",
              "size": 10,
              "solidity": 0.2
             }
            },
            "type": "barpolar"
           }
          ],
          "carpet": [
           {
            "aaxis": {
             "endlinecolor": "#2a3f5f",
             "gridcolor": "white",
             "linecolor": "white",
             "minorgridcolor": "white",
             "startlinecolor": "#2a3f5f"
            },
            "baxis": {
             "endlinecolor": "#2a3f5f",
             "gridcolor": "white",
             "linecolor": "white",
             "minorgridcolor": "white",
             "startlinecolor": "#2a3f5f"
            },
            "type": "carpet"
           }
          ],
          "choropleth": [
           {
            "colorbar": {
             "outlinewidth": 0,
             "ticks": ""
            },
            "type": "choropleth"
           }
          ],
          "contour": [
           {
            "colorbar": {
             "outlinewidth": 0,
             "ticks": ""
            },
            "colorscale": [
             [
              0,
              "#0d0887"
             ],
             [
              0.1111111111111111,
              "#46039f"
             ],
             [
              0.2222222222222222,
              "#7201a8"
             ],
             [
              0.3333333333333333,
              "#9c179e"
             ],
             [
              0.4444444444444444,
              "#bd3786"
             ],
             [
              0.5555555555555556,
              "#d8576b"
             ],
             [
              0.6666666666666666,
              "#ed7953"
             ],
             [
              0.7777777777777778,
              "#fb9f3a"
             ],
             [
              0.8888888888888888,
              "#fdca26"
             ],
             [
              1,
              "#f0f921"
             ]
            ],
            "type": "contour"
           }
          ],
          "contourcarpet": [
           {
            "colorbar": {
             "outlinewidth": 0,
             "ticks": ""
            },
            "type": "contourcarpet"
           }
          ],
          "heatmap": [
           {
            "colorbar": {
             "outlinewidth": 0,
             "ticks": ""
            },
            "colorscale": [
             [
              0,
              "#0d0887"
             ],
             [
              0.1111111111111111,
              "#46039f"
             ],
             [
              0.2222222222222222,
              "#7201a8"
             ],
             [
              0.3333333333333333,
              "#9c179e"
             ],
             [
              0.4444444444444444,
              "#bd3786"
             ],
             [
              0.5555555555555556,
              "#d8576b"
             ],
             [
              0.6666666666666666,
              "#ed7953"
             ],
             [
              0.7777777777777778,
              "#fb9f3a"
             ],
             [
              0.8888888888888888,
              "#fdca26"
             ],
             [
              1,
              "#f0f921"
             ]
            ],
            "type": "heatmap"
           }
          ],
          "heatmapgl": [
           {
            "colorbar": {
             "outlinewidth": 0,
             "ticks": ""
            },
            "colorscale": [
             [
              0,
              "#0d0887"
             ],
             [
              0.1111111111111111,
              "#46039f"
             ],
             [
              0.2222222222222222,
              "#7201a8"
             ],
             [
              0.3333333333333333,
              "#9c179e"
             ],
             [
              0.4444444444444444,
              "#bd3786"
             ],
             [
              0.5555555555555556,
              "#d8576b"
             ],
             [
              0.6666666666666666,
              "#ed7953"
             ],
             [
              0.7777777777777778,
              "#fb9f3a"
             ],
             [
              0.8888888888888888,
              "#fdca26"
             ],
             [
              1,
              "#f0f921"
             ]
            ],
            "type": "heatmapgl"
           }
          ],
          "histogram": [
           {
            "marker": {
             "pattern": {
              "fillmode": "overlay",
              "size": 10,
              "solidity": 0.2
             }
            },
            "type": "histogram"
           }
          ],
          "histogram2d": [
           {
            "colorbar": {
             "outlinewidth": 0,
             "ticks": ""
            },
            "colorscale": [
             [
              0,
              "#0d0887"
             ],
             [
              0.1111111111111111,
              "#46039f"
             ],
             [
              0.2222222222222222,
              "#7201a8"
             ],
             [
              0.3333333333333333,
              "#9c179e"
             ],
             [
              0.4444444444444444,
              "#bd3786"
             ],
             [
              0.5555555555555556,
              "#d8576b"
             ],
             [
              0.6666666666666666,
              "#ed7953"
             ],
             [
              0.7777777777777778,
              "#fb9f3a"
             ],
             [
              0.8888888888888888,
              "#fdca26"
             ],
             [
              1,
              "#f0f921"
             ]
            ],
            "type": "histogram2d"
           }
          ],
          "histogram2dcontour": [
           {
            "colorbar": {
             "outlinewidth": 0,
             "ticks": ""
            },
            "colorscale": [
             [
              0,
              "#0d0887"
             ],
             [
              0.1111111111111111,
              "#46039f"
             ],
             [
              0.2222222222222222,
              "#7201a8"
             ],
             [
              0.3333333333333333,
              "#9c179e"
             ],
             [
              0.4444444444444444,
              "#bd3786"
             ],
             [
              0.5555555555555556,
              "#d8576b"
             ],
             [
              0.6666666666666666,
              "#ed7953"
             ],
             [
              0.7777777777777778,
              "#fb9f3a"
             ],
             [
              0.8888888888888888,
              "#fdca26"
             ],
             [
              1,
              "#f0f921"
             ]
            ],
            "type": "histogram2dcontour"
           }
          ],
          "mesh3d": [
           {
            "colorbar": {
             "outlinewidth": 0,
             "ticks": ""
            },
            "type": "mesh3d"
           }
          ],
          "parcoords": [
           {
            "line": {
             "colorbar": {
              "outlinewidth": 0,
              "ticks": ""
             }
            },
            "type": "parcoords"
           }
          ],
          "pie": [
           {
            "automargin": true,
            "type": "pie"
           }
          ],
          "scatter": [
           {
            "marker": {
             "colorbar": {
              "outlinewidth": 0,
              "ticks": ""
             }
            },
            "type": "scatter"
           }
          ],
          "scatter3d": [
           {
            "line": {
             "colorbar": {
              "outlinewidth": 0,
              "ticks": ""
             }
            },
            "marker": {
             "colorbar": {
              "outlinewidth": 0,
              "ticks": ""
             }
            },
            "type": "scatter3d"
           }
          ],
          "scattercarpet": [
           {
            "marker": {
             "colorbar": {
              "outlinewidth": 0,
              "ticks": ""
             }
            },
            "type": "scattercarpet"
           }
          ],
          "scattergeo": [
           {
            "marker": {
             "colorbar": {
              "outlinewidth": 0,
              "ticks": ""
             }
            },
            "type": "scattergeo"
           }
          ],
          "scattergl": [
           {
            "marker": {
             "colorbar": {
              "outlinewidth": 0,
              "ticks": ""
             }
            },
            "type": "scattergl"
           }
          ],
          "scattermapbox": [
           {
            "marker": {
             "colorbar": {
              "outlinewidth": 0,
              "ticks": ""
             }
            },
            "type": "scattermapbox"
           }
          ],
          "scatterpolar": [
           {
            "marker": {
             "colorbar": {
              "outlinewidth": 0,
              "ticks": ""
             }
            },
            "type": "scatterpolar"
           }
          ],
          "scatterpolargl": [
           {
            "marker": {
             "colorbar": {
              "outlinewidth": 0,
              "ticks": ""
             }
            },
            "type": "scatterpolargl"
           }
          ],
          "scatterternary": [
           {
            "marker": {
             "colorbar": {
              "outlinewidth": 0,
              "ticks": ""
             }
            },
            "type": "scatterternary"
           }
          ],
          "surface": [
           {
            "colorbar": {
             "outlinewidth": 0,
             "ticks": ""
            },
            "colorscale": [
             [
              0,
              "#0d0887"
             ],
             [
              0.1111111111111111,
              "#46039f"
             ],
             [
              0.2222222222222222,
              "#7201a8"
             ],
             [
              0.3333333333333333,
              "#9c179e"
             ],
             [
              0.4444444444444444,
              "#bd3786"
             ],
             [
              0.5555555555555556,
              "#d8576b"
             ],
             [
              0.6666666666666666,
              "#ed7953"
             ],
             [
              0.7777777777777778,
              "#fb9f3a"
             ],
             [
              0.8888888888888888,
              "#fdca26"
             ],
             [
              1,
              "#f0f921"
             ]
            ],
            "type": "surface"
           }
          ],
          "table": [
           {
            "cells": {
             "fill": {
              "color": "#EBF0F8"
             },
             "line": {
              "color": "white"
             }
            },
            "header": {
             "fill": {
              "color": "#C8D4E3"
             },
             "line": {
              "color": "white"
             }
            },
            "type": "table"
           }
          ]
         },
         "layout": {
          "annotationdefaults": {
           "arrowcolor": "#2a3f5f",
           "arrowhead": 0,
           "arrowwidth": 1
          },
          "autotypenumbers": "strict",
          "coloraxis": {
           "colorbar": {
            "outlinewidth": 0,
            "ticks": ""
           }
          },
          "colorscale": {
           "diverging": [
            [
             0,
             "#8e0152"
            ],
            [
             0.1,
             "#c51b7d"
            ],
            [
             0.2,
             "#de77ae"
            ],
            [
             0.3,
             "#f1b6da"
            ],
            [
             0.4,
             "#fde0ef"
            ],
            [
             0.5,
             "#f7f7f7"
            ],
            [
             0.6,
             "#e6f5d0"
            ],
            [
             0.7,
             "#b8e186"
            ],
            [
             0.8,
             "#7fbc41"
            ],
            [
             0.9,
             "#4d9221"
            ],
            [
             1,
             "#276419"
            ]
           ],
           "sequential": [
            [
             0,
             "#0d0887"
            ],
            [
             0.1111111111111111,
             "#46039f"
            ],
            [
             0.2222222222222222,
             "#7201a8"
            ],
            [
             0.3333333333333333,
             "#9c179e"
            ],
            [
             0.4444444444444444,
             "#bd3786"
            ],
            [
             0.5555555555555556,
             "#d8576b"
            ],
            [
             0.6666666666666666,
             "#ed7953"
            ],
            [
             0.7777777777777778,
             "#fb9f3a"
            ],
            [
             0.8888888888888888,
             "#fdca26"
            ],
            [
             1,
             "#f0f921"
            ]
           ],
           "sequentialminus": [
            [
             0,
             "#0d0887"
            ],
            [
             0.1111111111111111,
             "#46039f"
            ],
            [
             0.2222222222222222,
             "#7201a8"
            ],
            [
             0.3333333333333333,
             "#9c179e"
            ],
            [
             0.4444444444444444,
             "#bd3786"
            ],
            [
             0.5555555555555556,
             "#d8576b"
            ],
            [
             0.6666666666666666,
             "#ed7953"
            ],
            [
             0.7777777777777778,
             "#fb9f3a"
            ],
            [
             0.8888888888888888,
             "#fdca26"
            ],
            [
             1,
             "#f0f921"
            ]
           ]
          },
          "colorway": [
           "#636efa",
           "#EF553B",
           "#00cc96",
           "#ab63fa",
           "#FFA15A",
           "#19d3f3",
           "#FF6692",
           "#B6E880",
           "#FF97FF",
           "#FECB52"
          ],
          "font": {
           "color": "#2a3f5f"
          },
          "geo": {
           "bgcolor": "white",
           "lakecolor": "white",
           "landcolor": "#E5ECF6",
           "showlakes": true,
           "showland": true,
           "subunitcolor": "white"
          },
          "hoverlabel": {
           "align": "left"
          },
          "hovermode": "closest",
          "mapbox": {
           "style": "light"
          },
          "paper_bgcolor": "white",
          "plot_bgcolor": "#E5ECF6",
          "polar": {
           "angularaxis": {
            "gridcolor": "white",
            "linecolor": "white",
            "ticks": ""
           },
           "bgcolor": "#E5ECF6",
           "radialaxis": {
            "gridcolor": "white",
            "linecolor": "white",
            "ticks": ""
           }
          },
          "scene": {
           "xaxis": {
            "backgroundcolor": "#E5ECF6",
            "gridcolor": "white",
            "gridwidth": 2,
            "linecolor": "white",
            "showbackground": true,
            "ticks": "",
            "zerolinecolor": "white"
           },
           "yaxis": {
            "backgroundcolor": "#E5ECF6",
            "gridcolor": "white",
            "gridwidth": 2,
            "linecolor": "white",
            "showbackground": true,
            "ticks": "",
            "zerolinecolor": "white"
           },
           "zaxis": {
            "backgroundcolor": "#E5ECF6",
            "gridcolor": "white",
            "gridwidth": 2,
            "linecolor": "white",
            "showbackground": true,
            "ticks": "",
            "zerolinecolor": "white"
           }
          },
          "shapedefaults": {
           "line": {
            "color": "#2a3f5f"
           }
          },
          "ternary": {
           "aaxis": {
            "gridcolor": "white",
            "linecolor": "white",
            "ticks": ""
           },
           "baxis": {
            "gridcolor": "white",
            "linecolor": "white",
            "ticks": ""
           },
           "bgcolor": "#E5ECF6",
           "caxis": {
            "gridcolor": "white",
            "linecolor": "white",
            "ticks": ""
           }
          },
          "title": {
           "x": 0.05
          },
          "xaxis": {
           "automargin": true,
           "gridcolor": "white",
           "linecolor": "white",
           "ticks": "",
           "title": {
            "standoff": 15
           },
           "zerolinecolor": "white",
           "zerolinewidth": 2
          },
          "yaxis": {
           "automargin": true,
           "gridcolor": "white",
           "linecolor": "white",
           "ticks": "",
           "title": {
            "standoff": 15
           },
           "zerolinecolor": "white",
           "zerolinewidth": 2
          }
         }
        },
        "xaxis": {
         "anchor": "y",
         "domain": [
          0,
          1
         ],
         "title": {
          "text": "Age"
         }
        },
        "yaxis": {
         "anchor": "x",
         "domain": [
          0,
          1
         ],
         "title": {
          "text": "Int%"
         }
        }
       }
      },
      "text/html": [
       "<div>                            <div id=\"ddf67547-2264-4249-b6aa-9885749efab3\" class=\"plotly-graph-div\" style=\"height:525px; width:100%;\"></div>            <script type=\"text/javascript\">                require([\"plotly\"], function(Plotly) {                    window.PLOTLYENV=window.PLOTLYENV || {};                                    if (document.getElementById(\"ddf67547-2264-4249-b6aa-9885749efab3\")) {                    Plotly.newPlot(                        \"ddf67547-2264-4249-b6aa-9885749efab3\",                        [{\"hovertemplate\":\"Ret Age=21<br>Age=%{x}<br>Int%=%{y}<extra></extra>\",\"legendgroup\":\"21\",\"line\":{\"color\":\"#636efa\",\"dash\":\"solid\"},\"mode\":\"lines\",\"name\":\"21\",\"orientation\":\"v\",\"showlegend\":true,\"type\":\"scatter\",\"x\":[21],\"xaxis\":\"x\",\"y\":[0.09232310342559794],\"yaxis\":\"y\"},{\"hovertemplate\":\"Ret Age=23<br>Age=%{x}<br>Int%=%{y}<extra></extra>\",\"legendgroup\":\"23\",\"line\":{\"color\":\"#EF553B\",\"dash\":\"solid\"},\"mode\":\"lines\",\"name\":\"23\",\"orientation\":\"v\",\"showlegend\":true,\"type\":\"scatter\",\"x\":[22,23],\"xaxis\":\"x\",\"y\":[0.06923330262466808,0.0625881412374179],\"yaxis\":\"y\"},{\"hovertemplate\":\"Ret Age=24<br>Age=%{x}<br>Int%=%{y}<extra></extra>\",\"legendgroup\":\"24\",\"line\":{\"color\":\"#00cc96\",\"dash\":\"solid\"},\"mode\":\"lines\",\"name\":\"24\",\"orientation\":\"v\",\"showlegend\":true,\"type\":\"scatter\",\"x\":[21,22,23,24],\"xaxis\":\"x\",\"y\":[0.10899013562374123,0.04125633027753498,0.061579499774178245,0.063853650774599],\"yaxis\":\"y\"},{\"hovertemplate\":\"Ret Age=25<br>Age=%{x}<br>Int%=%{y}<extra></extra>\",\"legendgroup\":\"25\",\"line\":{\"color\":\"#ab63fa\",\"dash\":\"solid\"},\"mode\":\"lines\",\"name\":\"25\",\"orientation\":\"v\",\"showlegend\":true,\"type\":\"scatter\",\"x\":[22,23,24,25],\"xaxis\":\"x\",\"y\":[0.06157908808066721,0.060961074331046125,0.059174848087044325,0.05664468386082175],\"yaxis\":\"y\"},{\"hovertemplate\":\"Ret Age=26<br>Age=%{x}<br>Int%=%{y}<extra></extra>\",\"legendgroup\":\"26\",\"line\":{\"color\":\"#FFA15A\",\"dash\":\"solid\"},\"mode\":\"lines\",\"name\":\"26\",\"orientation\":\"v\",\"showlegend\":true,\"type\":\"scatter\",\"x\":[22,23,24,25,26],\"xaxis\":\"x\",\"y\":[0.06471701700902918,0.05754679521215821,0.06184511123536466,0.052132840125425274,0.066114060975259],\"yaxis\":\"y\"},{\"hovertemplate\":\"Ret Age=27<br>Age=%{x}<br>Int%=%{y}<extra></extra>\",\"legendgroup\":\"27\",\"line\":{\"color\":\"#19d3f3\",\"dash\":\"solid\"},\"mode\":\"lines\",\"name\":\"27\",\"orientation\":\"v\",\"showlegend\":true,\"type\":\"scatter\",\"x\":[22,23,24,25,26,27],\"xaxis\":\"x\",\"y\":[0.06977129634057708,0.05374240958835092,0.06383790647375735,0.04920627224835934,0.06139274276199391,0.060581119019061325],\"yaxis\":\"y\"},{\"hovertemplate\":\"Ret Age=28<br>Age=%{x}<br>Int%=%{y}<extra></extra>\",\"legendgroup\":\"28\",\"line\":{\"color\":\"#FF6692\",\"dash\":\"solid\"},\"mode\":\"lines\",\"name\":\"28\",\"orientation\":\"v\",\"showlegend\":true,\"type\":\"scatter\",\"x\":[22,23,24,25,26,27,28],\"xaxis\":\"x\",\"y\":[0.049504390079957425,0.0681674976925567,0.05584320788730945,0.05227781116962261,0.06049567352282015,0.05010587238750999,0.048826998973002564],\"yaxis\":\"y\"},{\"hovertemplate\":\"Ret Age=29<br>Age=%{x}<br>Int%=%{y}<extra></extra>\",\"legendgroup\":\"29\",\"line\":{\"color\":\"#B6E880\",\"dash\":\"solid\"},\"mode\":\"lines\",\"name\":\"29\",\"orientation\":\"v\",\"showlegend\":true,\"type\":\"scatter\",\"x\":[22,23,24,25,26,27,28,29],\"xaxis\":\"x\",\"y\":[0.053296631545740374,0.05042817330796679,0.045442573572761664,0.05055166110591741,0.047346721474094224,0.0513776229042627,0.05683405376823082,0.04961663616320022],\"yaxis\":\"y\"},{\"hovertemplate\":\"Ret Age=30<br>Age=%{x}<br>Int%=%{y}<extra></extra>\",\"legendgroup\":\"30\",\"line\":{\"color\":\"#FF97FF\",\"dash\":\"solid\"},\"mode\":\"lines\",\"name\":\"30\",\"orientation\":\"v\",\"showlegend\":true,\"type\":\"scatter\",\"x\":[22,23,24,25,26,27,28,29,30],\"xaxis\":\"x\",\"y\":[0.036530725535809515,0.04172940370309612,0.045785766296261333,0.0491066717730953,0.05425459928228938,0.03955016304537876,0.04807360365032868,0.060624980340983264,0.06036358317103483],\"yaxis\":\"y\"},{\"hovertemplate\":\"Ret Age=31<br>Age=%{x}<br>Int%=%{y}<extra></extra>\",\"legendgroup\":\"31\",\"line\":{\"color\":\"#FECB52\",\"dash\":\"solid\"},\"mode\":\"lines\",\"name\":\"31\",\"orientation\":\"v\",\"showlegend\":true,\"type\":\"scatter\",\"x\":[22,23,24,25,26,27,28,29,30,31],\"xaxis\":\"x\",\"y\":[0.06111663842999492,0.04653950417379279,0.04781188732569926,0.05207385581038573,0.06063929756430003,0.05210339266538173,0.05341013482374958,0.04831818082588863,0.04926630882681911,0.06304273969734601],\"yaxis\":\"y\"},{\"hovertemplate\":\"Ret Age=32<br>Age=%{x}<br>Int%=%{y}<extra></extra>\",\"legendgroup\":\"32\",\"line\":{\"color\":\"#636efa\",\"dash\":\"solid\"},\"mode\":\"lines\",\"name\":\"32\",\"orientation\":\"v\",\"showlegend\":true,\"type\":\"scatter\",\"x\":[23,24,25,26,27,28,29,30,31,32],\"xaxis\":\"x\",\"y\":[0.07448429384907868,0.06010368408677265,0.06761695609437386,0.05696288697717741,0.04536282094917046,0.04728367961351811,0.043990896607318385,0.05340500123195892,0.04466753328280097,0.052563814813039934],\"yaxis\":\"y\"},{\"hovertemplate\":\"Ret Age=33<br>Age=%{x}<br>Int%=%{y}<extra></extra>\",\"legendgroup\":\"33\",\"line\":{\"color\":\"#EF553B\",\"dash\":\"solid\"},\"mode\":\"lines\",\"name\":\"33\",\"orientation\":\"v\",\"showlegend\":true,\"type\":\"scatter\",\"x\":[22,23,24,25,26,27,28,29,30,31,32,33],\"xaxis\":\"x\",\"y\":[0.033618011533714104,0.05783428564381031,0.05182195923280955,0.05187857177418847,0.048607297024690674,0.0500429564108157,0.05092589728253448,0.05360264514945152,0.05598128592474443,0.05075797239499675,0.05182428015254531,0.05698479647332987],\"yaxis\":\"y\"},{\"hovertemplate\":\"Ret Age=34<br>Age=%{x}<br>Int%=%{y}<extra></extra>\",\"legendgroup\":\"34\",\"line\":{\"color\":\"#00cc96\",\"dash\":\"solid\"},\"mode\":\"lines\",\"name\":\"34\",\"orientation\":\"v\",\"showlegend\":true,\"type\":\"scatter\",\"x\":[21,22,23,24,25,26,27,28,29,30,31,32,33,34],\"xaxis\":\"x\",\"y\":[0.058049497978940295,0.06704552680474277,0.053947871798757055,0.05019698714922293,0.045576995320218375,0.05117361327453503,0.05154409189526826,0.05408847809890087,0.04127546598408554,0.05253276355188195,0.04949411405083641,0.053731510123043835,0.04617722648906069,0.05906988735062305],\"yaxis\":\"y\"},{\"hovertemplate\":\"Ret Age=35<br>Age=%{x}<br>Int%=%{y}<extra></extra>\",\"legendgroup\":\"35\",\"line\":{\"color\":\"#ab63fa\",\"dash\":\"solid\"},\"mode\":\"lines\",\"name\":\"35\",\"orientation\":\"v\",\"showlegend\":true,\"type\":\"scatter\",\"x\":[23,24,25,26,27,28,29,30,31,32,33,34,35],\"xaxis\":\"x\",\"y\":[0.06336343684969993,0.05070255313321144,0.04409388771377388,0.04464863739034013,0.04637250861534627,0.05386822248472485,0.04759780763545013,0.043305099355995025,0.042348567554366695,0.04403739645758933,0.049795431118118176,0.05122706317164959,0.05972414129848096],\"yaxis\":\"y\"},{\"hovertemplate\":\"Ret Age=36<br>Age=%{x}<br>Int%=%{y}<extra></extra>\",\"legendgroup\":\"36\",\"line\":{\"color\":\"#FFA15A\",\"dash\":\"solid\"},\"mode\":\"lines\",\"name\":\"36\",\"orientation\":\"v\",\"showlegend\":true,\"type\":\"scatter\",\"x\":[22,23,24,25,26,27,28,29,30,31,32,33,34,35,36],\"xaxis\":\"x\",\"y\":[0.06163106198589207,0.05417618067881306,0.039616212851866076,0.04848446672682616,0.05203401552420024,0.04638756270135328,0.04696983049874667,0.050535890602319736,0.04087770910945423,0.051914491750264594,0.04668809967754724,0.04844213646876275,0.05519838623138145,0.04834497390880917,0.06613539194310934],\"yaxis\":\"y\"},{\"hovertemplate\":\"Ret Age=37<br>Age=%{x}<br>Int%=%{y}<extra></extra>\",\"legendgroup\":\"37\",\"line\":{\"color\":\"#19d3f3\",\"dash\":\"solid\"},\"mode\":\"lines\",\"name\":\"37\",\"orientation\":\"v\",\"showlegend\":true,\"type\":\"scatter\",\"x\":[24,25,26,27,28,29,30,31,32,33,34,35,36,37],\"xaxis\":\"x\",\"y\":[0.06646647208069457,0.04796131276086632,0.05605167233731927,0.05064048458725526,0.04678438107095493,0.05305368825678006,0.049552169085209756,0.03321879906743977,0.04558349163869385,0.04002643403532014,0.04435039905324663,0.051791428511189695,0.052091153708926044,0.054820249042488466],\"yaxis\":\"y\"},{\"hovertemplate\":\"Ret Age=38<br>Age=%{x}<br>Int%=%{y}<extra></extra>\",\"legendgroup\":\"38\",\"line\":{\"color\":\"#FF6692\",\"dash\":\"solid\"},\"mode\":\"lines\",\"name\":\"38\",\"orientation\":\"v\",\"showlegend\":true,\"type\":\"scatter\",\"x\":[22,23,24,25,26,27,28,29,30,31,32,33,34,35,36,37,38],\"xaxis\":\"x\",\"y\":[0.02480871434948894,0.06220298093097782,0.04986843772768468,0.056398253093642346,0.04967224489378437,0.047842511812224944,0.052613930302690556,0.05519223515727774,0.04874311939754492,0.05212946325805054,0.05959412797973581,0.04476691839178664,0.0514182344958611,0.05190145822221297,0.048197188843743737,0.04737728086090183,0.05214131754967809],\"yaxis\":\"y\"},{\"hovertemplate\":\"Ret Age=39<br>Age=%{x}<br>Int%=%{y}<extra></extra>\",\"legendgroup\":\"39\",\"line\":{\"color\":\"#B6E880\",\"dash\":\"solid\"},\"mode\":\"lines\",\"name\":\"39\",\"orientation\":\"v\",\"showlegend\":true,\"type\":\"scatter\",\"x\":[22,23,24,25,26,27,28,29,30,31,32,33,34,35,36,37,38,39],\"xaxis\":\"x\",\"y\":[0.08004765438895739,0.045337187502550044,0.05373091295165634,0.04850095049059846,0.05798185163972322,0.036090749401382134,0.03828363186452576,0.04125428736443307,0.04632727429445643,0.055406749585937255,0.04049664024587111,0.054762361089974745,0.048584257071379804,0.07790000689988666,0.03668330829106021,0.04542771206943751,0.06669918484665832,0.06973816105646137],\"yaxis\":\"y\"},{\"hovertemplate\":\"Ret Age=40<br>Age=%{x}<br>Int%=%{y}<extra></extra>\",\"legendgroup\":\"40\",\"line\":{\"color\":\"#FF97FF\",\"dash\":\"solid\"},\"mode\":\"lines\",\"name\":\"40\",\"orientation\":\"v\",\"showlegend\":true,\"type\":\"scatter\",\"x\":[25,26,27,28,29,30,31,32,33,34,35,36,37,40],\"xaxis\":\"x\",\"y\":[0.06795783147607705,0.05018064601984354,0.04222309921149653,0.0507717947848335,0.05335295155698141,0.03523171915465695,0.06883658035149333,0.036817433018052126,0.0918589201570755,0.06117046546277826,0.06989805111584996,0.05023418452831062,0.046452792294842414,0.05900330411807561],\"yaxis\":\"y\"},{\"hovertemplate\":\"Ret Age=41<br>Age=%{x}<br>Int%=%{y}<extra></extra>\",\"legendgroup\":\"41\",\"line\":{\"color\":\"#FECB52\",\"dash\":\"solid\"},\"mode\":\"lines\",\"name\":\"41\",\"orientation\":\"v\",\"showlegend\":true,\"type\":\"scatter\",\"x\":[23,24,25,26,27,28,29,30,31,32,33,34,35,36,37,38,39,40,41],\"xaxis\":\"x\",\"y\":[0.046588451031526694,0.06978265164405217,0.05810590599427322,0.05410979301033936,0.045687312713874495,0.055386982987187514,0.0600872448165818,0.0532561515471029,0.060480667077522594,0.04342374700771443,0.05511409815595802,0.05330221523462733,0.047317640219833326,0.05918937062706498,0.056777805400277076,0.04066278427366348,0.053849285980734546,0.02259500367791691,0.06369775293449874],\"yaxis\":\"y\"},{\"hovertemplate\":\"Ret Age=42<br>Age=%{x}<br>Int%=%{y}<extra></extra>\",\"legendgroup\":\"42\",\"line\":{\"color\":\"#636efa\",\"dash\":\"solid\"},\"mode\":\"lines\",\"name\":\"42\",\"orientation\":\"v\",\"showlegend\":true,\"type\":\"scatter\",\"x\":[28,29,30,31,32,33,34,35,36,37,38,39,40,41,42],\"xaxis\":\"x\",\"y\":[0.04122400022234652,0.06522651713707255,0.07167517080875314,0.06601276064351796,0.03756152774183085,0.04180609948004828,0.03386025912055003,0.049509119963865,0.04840103148166698,0.06704717016567605,0.05424543793797176,0.04070321759422011,0.05798227093523285,0.05375322005305535,0.050971651465836654],\"yaxis\":\"y\"}],                        {\"legend\":{\"title\":{\"text\":\"Ret Age\"},\"tracegroupgap\":0},\"margin\":{\"t\":60},\"template\":{\"data\":{\"bar\":[{\"error_x\":{\"color\":\"#2a3f5f\"},\"error_y\":{\"color\":\"#2a3f5f\"},\"marker\":{\"line\":{\"color\":\"#E5ECF6\",\"width\":0.5},\"pattern\":{\"fillmode\":\"overlay\",\"size\":10,\"solidity\":0.2}},\"type\":\"bar\"}],\"barpolar\":[{\"marker\":{\"line\":{\"color\":\"#E5ECF6\",\"width\":0.5},\"pattern\":{\"fillmode\":\"overlay\",\"size\":10,\"solidity\":0.2}},\"type\":\"barpolar\"}],\"carpet\":[{\"aaxis\":{\"endlinecolor\":\"#2a3f5f\",\"gridcolor\":\"white\",\"linecolor\":\"white\",\"minorgridcolor\":\"white\",\"startlinecolor\":\"#2a3f5f\"},\"baxis\":{\"endlinecolor\":\"#2a3f5f\",\"gridcolor\":\"white\",\"linecolor\":\"white\",\"minorgridcolor\":\"white\",\"startlinecolor\":\"#2a3f5f\"},\"type\":\"carpet\"}],\"choropleth\":[{\"colorbar\":{\"outlinewidth\":0,\"ticks\":\"\"},\"type\":\"choropleth\"}],\"contour\":[{\"colorbar\":{\"outlinewidth\":0,\"ticks\":\"\"},\"colorscale\":[[0.0,\"#0d0887\"],[0.1111111111111111,\"#46039f\"],[0.2222222222222222,\"#7201a8\"],[0.3333333333333333,\"#9c179e\"],[0.4444444444444444,\"#bd3786\"],[0.5555555555555556,\"#d8576b\"],[0.6666666666666666,\"#ed7953\"],[0.7777777777777778,\"#fb9f3a\"],[0.8888888888888888,\"#fdca26\"],[1.0,\"#f0f921\"]],\"type\":\"contour\"}],\"contourcarpet\":[{\"colorbar\":{\"outlinewidth\":0,\"ticks\":\"\"},\"type\":\"contourcarpet\"}],\"heatmap\":[{\"colorbar\":{\"outlinewidth\":0,\"ticks\":\"\"},\"colorscale\":[[0.0,\"#0d0887\"],[0.1111111111111111,\"#46039f\"],[0.2222222222222222,\"#7201a8\"],[0.3333333333333333,\"#9c179e\"],[0.4444444444444444,\"#bd3786\"],[0.5555555555555556,\"#d8576b\"],[0.6666666666666666,\"#ed7953\"],[0.7777777777777778,\"#fb9f3a\"],[0.8888888888888888,\"#fdca26\"],[1.0,\"#f0f921\"]],\"type\":\"heatmap\"}],\"heatmapgl\":[{\"colorbar\":{\"outlinewidth\":0,\"ticks\":\"\"},\"colorscale\":[[0.0,\"#0d0887\"],[0.1111111111111111,\"#46039f\"],[0.2222222222222222,\"#7201a8\"],[0.3333333333333333,\"#9c179e\"],[0.4444444444444444,\"#bd3786\"],[0.5555555555555556,\"#d8576b\"],[0.6666666666666666,\"#ed7953\"],[0.7777777777777778,\"#fb9f3a\"],[0.8888888888888888,\"#fdca26\"],[1.0,\"#f0f921\"]],\"type\":\"heatmapgl\"}],\"histogram\":[{\"marker\":{\"pattern\":{\"fillmode\":\"overlay\",\"size\":10,\"solidity\":0.2}},\"type\":\"histogram\"}],\"histogram2d\":[{\"colorbar\":{\"outlinewidth\":0,\"ticks\":\"\"},\"colorscale\":[[0.0,\"#0d0887\"],[0.1111111111111111,\"#46039f\"],[0.2222222222222222,\"#7201a8\"],[0.3333333333333333,\"#9c179e\"],[0.4444444444444444,\"#bd3786\"],[0.5555555555555556,\"#d8576b\"],[0.6666666666666666,\"#ed7953\"],[0.7777777777777778,\"#fb9f3a\"],[0.8888888888888888,\"#fdca26\"],[1.0,\"#f0f921\"]],\"type\":\"histogram2d\"}],\"histogram2dcontour\":[{\"colorbar\":{\"outlinewidth\":0,\"ticks\":\"\"},\"colorscale\":[[0.0,\"#0d0887\"],[0.1111111111111111,\"#46039f\"],[0.2222222222222222,\"#7201a8\"],[0.3333333333333333,\"#9c179e\"],[0.4444444444444444,\"#bd3786\"],[0.5555555555555556,\"#d8576b\"],[0.6666666666666666,\"#ed7953\"],[0.7777777777777778,\"#fb9f3a\"],[0.8888888888888888,\"#fdca26\"],[1.0,\"#f0f921\"]],\"type\":\"histogram2dcontour\"}],\"mesh3d\":[{\"colorbar\":{\"outlinewidth\":0,\"ticks\":\"\"},\"type\":\"mesh3d\"}],\"parcoords\":[{\"line\":{\"colorbar\":{\"outlinewidth\":0,\"ticks\":\"\"}},\"type\":\"parcoords\"}],\"pie\":[{\"automargin\":true,\"type\":\"pie\"}],\"scatter\":[{\"marker\":{\"colorbar\":{\"outlinewidth\":0,\"ticks\":\"\"}},\"type\":\"scatter\"}],\"scatter3d\":[{\"line\":{\"colorbar\":{\"outlinewidth\":0,\"ticks\":\"\"}},\"marker\":{\"colorbar\":{\"outlinewidth\":0,\"ticks\":\"\"}},\"type\":\"scatter3d\"}],\"scattercarpet\":[{\"marker\":{\"colorbar\":{\"outlinewidth\":0,\"ticks\":\"\"}},\"type\":\"scattercarpet\"}],\"scattergeo\":[{\"marker\":{\"colorbar\":{\"outlinewidth\":0,\"ticks\":\"\"}},\"type\":\"scattergeo\"}],\"scattergl\":[{\"marker\":{\"colorbar\":{\"outlinewidth\":0,\"ticks\":\"\"}},\"type\":\"scattergl\"}],\"scattermapbox\":[{\"marker\":{\"colorbar\":{\"outlinewidth\":0,\"ticks\":\"\"}},\"type\":\"scattermapbox\"}],\"scatterpolar\":[{\"marker\":{\"colorbar\":{\"outlinewidth\":0,\"ticks\":\"\"}},\"type\":\"scatterpolar\"}],\"scatterpolargl\":[{\"marker\":{\"colorbar\":{\"outlinewidth\":0,\"ticks\":\"\"}},\"type\":\"scatterpolargl\"}],\"scatterternary\":[{\"marker\":{\"colorbar\":{\"outlinewidth\":0,\"ticks\":\"\"}},\"type\":\"scatterternary\"}],\"surface\":[{\"colorbar\":{\"outlinewidth\":0,\"ticks\":\"\"},\"colorscale\":[[0.0,\"#0d0887\"],[0.1111111111111111,\"#46039f\"],[0.2222222222222222,\"#7201a8\"],[0.3333333333333333,\"#9c179e\"],[0.4444444444444444,\"#bd3786\"],[0.5555555555555556,\"#d8576b\"],[0.6666666666666666,\"#ed7953\"],[0.7777777777777778,\"#fb9f3a\"],[0.8888888888888888,\"#fdca26\"],[1.0,\"#f0f921\"]],\"type\":\"surface\"}],\"table\":[{\"cells\":{\"fill\":{\"color\":\"#EBF0F8\"},\"line\":{\"color\":\"white\"}},\"header\":{\"fill\":{\"color\":\"#C8D4E3\"},\"line\":{\"color\":\"white\"}},\"type\":\"table\"}]},\"layout\":{\"annotationdefaults\":{\"arrowcolor\":\"#2a3f5f\",\"arrowhead\":0,\"arrowwidth\":1},\"autotypenumbers\":\"strict\",\"coloraxis\":{\"colorbar\":{\"outlinewidth\":0,\"ticks\":\"\"}},\"colorscale\":{\"diverging\":[[0,\"#8e0152\"],[0.1,\"#c51b7d\"],[0.2,\"#de77ae\"],[0.3,\"#f1b6da\"],[0.4,\"#fde0ef\"],[0.5,\"#f7f7f7\"],[0.6,\"#e6f5d0\"],[0.7,\"#b8e186\"],[0.8,\"#7fbc41\"],[0.9,\"#4d9221\"],[1,\"#276419\"]],\"sequential\":[[0.0,\"#0d0887\"],[0.1111111111111111,\"#46039f\"],[0.2222222222222222,\"#7201a8\"],[0.3333333333333333,\"#9c179e\"],[0.4444444444444444,\"#bd3786\"],[0.5555555555555556,\"#d8576b\"],[0.6666666666666666,\"#ed7953\"],[0.7777777777777778,\"#fb9f3a\"],[0.8888888888888888,\"#fdca26\"],[1.0,\"#f0f921\"]],\"sequentialminus\":[[0.0,\"#0d0887\"],[0.1111111111111111,\"#46039f\"],[0.2222222222222222,\"#7201a8\"],[0.3333333333333333,\"#9c179e\"],[0.4444444444444444,\"#bd3786\"],[0.5555555555555556,\"#d8576b\"],[0.6666666666666666,\"#ed7953\"],[0.7777777777777778,\"#fb9f3a\"],[0.8888888888888888,\"#fdca26\"],[1.0,\"#f0f921\"]]},\"colorway\":[\"#636efa\",\"#EF553B\",\"#00cc96\",\"#ab63fa\",\"#FFA15A\",\"#19d3f3\",\"#FF6692\",\"#B6E880\",\"#FF97FF\",\"#FECB52\"],\"font\":{\"color\":\"#2a3f5f\"},\"geo\":{\"bgcolor\":\"white\",\"lakecolor\":\"white\",\"landcolor\":\"#E5ECF6\",\"showlakes\":true,\"showland\":true,\"subunitcolor\":\"white\"},\"hoverlabel\":{\"align\":\"left\"},\"hovermode\":\"closest\",\"mapbox\":{\"style\":\"light\"},\"paper_bgcolor\":\"white\",\"plot_bgcolor\":\"#E5ECF6\",\"polar\":{\"angularaxis\":{\"gridcolor\":\"white\",\"linecolor\":\"white\",\"ticks\":\"\"},\"bgcolor\":\"#E5ECF6\",\"radialaxis\":{\"gridcolor\":\"white\",\"linecolor\":\"white\",\"ticks\":\"\"}},\"scene\":{\"xaxis\":{\"backgroundcolor\":\"#E5ECF6\",\"gridcolor\":\"white\",\"gridwidth\":2,\"linecolor\":\"white\",\"showbackground\":true,\"ticks\":\"\",\"zerolinecolor\":\"white\"},\"yaxis\":{\"backgroundcolor\":\"#E5ECF6\",\"gridcolor\":\"white\",\"gridwidth\":2,\"linecolor\":\"white\",\"showbackground\":true,\"ticks\":\"\",\"zerolinecolor\":\"white\"},\"zaxis\":{\"backgroundcolor\":\"#E5ECF6\",\"gridcolor\":\"white\",\"gridwidth\":2,\"linecolor\":\"white\",\"showbackground\":true,\"ticks\":\"\",\"zerolinecolor\":\"white\"}},\"shapedefaults\":{\"line\":{\"color\":\"#2a3f5f\"}},\"ternary\":{\"aaxis\":{\"gridcolor\":\"white\",\"linecolor\":\"white\",\"ticks\":\"\"},\"baxis\":{\"gridcolor\":\"white\",\"linecolor\":\"white\",\"ticks\":\"\"},\"bgcolor\":\"#E5ECF6\",\"caxis\":{\"gridcolor\":\"white\",\"linecolor\":\"white\",\"ticks\":\"\"}},\"title\":{\"x\":0.05},\"xaxis\":{\"automargin\":true,\"gridcolor\":\"white\",\"linecolor\":\"white\",\"ticks\":\"\",\"title\":{\"standoff\":15},\"zerolinecolor\":\"white\",\"zerolinewidth\":2},\"yaxis\":{\"automargin\":true,\"gridcolor\":\"white\",\"linecolor\":\"white\",\"ticks\":\"\",\"title\":{\"standoff\":15},\"zerolinecolor\":\"white\",\"zerolinewidth\":2}}},\"xaxis\":{\"anchor\":\"y\",\"domain\":[0.0,1.0],\"title\":{\"text\":\"Age\"}},\"yaxis\":{\"anchor\":\"x\",\"domain\":[0.0,1.0],\"title\":{\"text\":\"Int%\"}}},                        {\"responsive\": true}                    ).then(function(){\n",
       "                            \n",
       "var gd = document.getElementById('ddf67547-2264-4249-b6aa-9885749efab3');\n",
       "var x = new MutationObserver(function (mutations, observer) {{\n",
       "        var display = window.getComputedStyle(gd).display;\n",
       "        if (!display || display === 'none') {{\n",
       "            console.log([gd, 'removed!']);\n",
       "            Plotly.purge(gd);\n",
       "            observer.disconnect();\n",
       "        }}\n",
       "}});\n",
       "\n",
       "// Listen for the removal of the full notebook cells\n",
       "var notebookContainer = gd.closest('#notebook-container');\n",
       "if (notebookContainer) {{\n",
       "    x.observe(notebookContainer, {childList: true});\n",
       "}}\n",
       "\n",
       "// Listen for the clearing of the current output cell\n",
       "var outputEl = gd.closest('.output');\n",
       "if (outputEl) {{\n",
       "    x.observe(outputEl, {childList: true});\n",
       "}}\n",
       "\n",
       "                        })                };                });            </script>        </div>"
      ]
     },
     "metadata": {},
     "output_type": "display_data"
    }
   ],
   "source": [
    "px.line(ret_passing, x = 'Age', y = 'Int%', color = 'Ret Age')"
   ]
  }
 ],
 "metadata": {
  "kernelspec": {
   "display_name": "Python 3",
   "language": "python",
   "name": "python3"
  },
  "language_info": {
   "codemirror_mode": {
    "name": "ipython",
    "version": 3
   },
   "file_extension": ".py",
   "mimetype": "text/x-python",
   "name": "python",
   "nbconvert_exporter": "python",
   "pygments_lexer": "ipython3",
   "version": "3.8.8"
  }
 },
 "nbformat": 4,
 "nbformat_minor": 5
}
